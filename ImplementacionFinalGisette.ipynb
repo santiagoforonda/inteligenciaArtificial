{
  "cells": [
    {
      "cell_type": "markdown",
      "metadata": {
        "id": "150f1593"
      },
      "source": [
        "<h1>Gisette Dataset (MNIST digits 4 and 9) 👽<h1>"
      ],
      "id": "150f1593"
    },
    {
      "cell_type": "markdown",
      "metadata": {
        "id": "54ce0340"
      },
      "source": [
        "<p> El conjunto de datos Gisette (MNIST digits 4 and 9) es una variante específica del conjunto de datos Gisette que se centra en la clasificación binaria de dígitos escritos a mano del conjunto de datos MNIST. A diferencia del conjunto de datos Gisette estándar, que involucra la clasificación de células cancerosas y no cancerosas, esta variante se enfoca en los dígitos 4 y 9 del conjunto de datos MNIST.\n",
        "\n",
        "El objetivo de este conjunto de datos es entrenar un modelo de clasificación binaria que pueda distinguir entre los dígitos 4 y 9 basándose en las características extraídas de las imágenes. Es decir, el modelo debe aprender a clasificar si una imagen contiene un 4 o un 9.\n",
        "\n",
        "Este dataset representa un problema de clasificacion debido a que se quiere clasicificar imagenes de digitos escritos a mano en este caso el 4 y el 9.\n",
        "</p>"
      ],
      "id": "54ce0340"
    },
    {
      "cell_type": "markdown",
      "source": [
        "<p>Objetivos especificos</p>\n",
        "\n",
        "<ul>  \n",
        "  <li> Implementar los modelos de aprendizaje de máquina: árboles de decisión,random forest, redes neunales y redes neuronales profundas.</li>\n",
        "  <li> Realizar análisis y pruebas con el dataset suministrado de Kaggle.</li>\n",
        "  <li> Aplicar ténicas de procesamiento al conjunto de datos.</li>\n",
        "\n",
        "</ul>"
      ],
      "metadata": {
        "id": "4o9tCn9u9Y7Y"
      },
      "id": "4o9tCn9u9Y7Y"
    },
    {
      "cell_type": "markdown",
      "source": [
        "<p>Intalamos la libreria de scikeras en nuestro servidor porque nos va servir para crear el objeto KerasClassifier en nuestros modelos de machine learning</p>"
      ],
      "metadata": {
        "id": "khoXu_1ef1Qd"
      },
      "id": "khoXu_1ef1Qd"
    },
    {
      "cell_type": "code",
      "source": [
        "!pip install scikeras"
      ],
      "metadata": {
        "colab": {
          "base_uri": "https://localhost:8080/"
        },
        "id": "4dxxRh7gu4bW",
        "outputId": "951a2e98-03e6-4a01-ab10-75504c9a835e"
      },
      "id": "4dxxRh7gu4bW",
      "execution_count": null,
      "outputs": [
        {
          "output_type": "stream",
          "name": "stdout",
          "text": [
            "Requirement already satisfied: scikeras in /usr/local/lib/python3.10/dist-packages (0.12.0)\n",
            "Requirement already satisfied: packaging>=0.21 in /usr/local/lib/python3.10/dist-packages (from scikeras) (23.2)\n",
            "Requirement already satisfied: scikit-learn>=1.0.0 in /usr/local/lib/python3.10/dist-packages (from scikeras) (1.2.2)\n",
            "Requirement already satisfied: numpy>=1.17.3 in /usr/local/lib/python3.10/dist-packages (from scikit-learn>=1.0.0->scikeras) (1.23.5)\n",
            "Requirement already satisfied: scipy>=1.3.2 in /usr/local/lib/python3.10/dist-packages (from scikit-learn>=1.0.0->scikeras) (1.11.3)\n",
            "Requirement already satisfied: joblib>=1.1.1 in /usr/local/lib/python3.10/dist-packages (from scikit-learn>=1.0.0->scikeras) (1.3.2)\n",
            "Requirement already satisfied: threadpoolctl>=2.0.0 in /usr/local/lib/python3.10/dist-packages (from scikit-learn>=1.0.0->scikeras) (3.2.0)\n"
          ]
        }
      ]
    },
    {
      "cell_type": "markdown",
      "source": [
        "<p> Procedemos a importar aquellas librerias que vamos a usar durante todo el proyecto y tambien aquellas libreriasque nos van a servir para los warnings cuando usemos GridSearch</p>"
      ],
      "metadata": {
        "id": "5ECbtWDZ90P5"
      },
      "id": "5ECbtWDZ90P5"
    },
    {
      "cell_type": "code",
      "execution_count": null,
      "metadata": {
        "id": "e696ba2d",
        "colab": {
          "base_uri": "https://localhost:8080/"
        },
        "outputId": "d8b44942-9769-4808-fabb-ae84d509a8e6"
      },
      "outputs": [
        {
          "output_type": "stream",
          "name": "stderr",
          "text": [
            "[nltk_data] Downloading package stopwords to /root/nltk_data...\n",
            "[nltk_data]   Package stopwords is already up-to-date!\n",
            "[nltk_data] Downloading package averaged_perceptron_tagger to\n",
            "[nltk_data]     /root/nltk_data...\n",
            "[nltk_data]   Package averaged_perceptron_tagger is already up-to-\n",
            "[nltk_data]       date!\n",
            "[nltk_data] Downloading package wordnet to /root/nltk_data...\n",
            "[nltk_data]   Package wordnet is already up-to-date!\n"
          ]
        },
        {
          "output_type": "execute_result",
          "data": {
            "text/plain": [
              "True"
            ]
          },
          "metadata": {},
          "execution_count": 151
        }
      ],
      "source": [
        "#Acceso al drive\n",
        "from google.colab import drive\n",
        "\n",
        "#Manipulacion de datos\n",
        "from sklearn import preprocessing\n",
        "import pandas as pd\n",
        "import numpy as np\n",
        "import matplotlib.pyplot as plt\n",
        "import seaborn as sns\n",
        "import pickle as pickle\n",
        "import matplotlib.pyplot as plt\n",
        "from sklearn.impute import SimpleImputer\n",
        "import random\n",
        "\n",
        "#Manejo del tiempo\n",
        "import time\n",
        "\n",
        "#Reduccion de caracteristicas con PCA\n",
        "from sklearn.decomposition import PCA\n",
        "from sklearn.decomposition import KernelPCA\n",
        "\n",
        "#Accuracy\n",
        "from sklearn.metrics import accuracy_score\n",
        "\n",
        "\n",
        "#kvacinos-mas-cercanos\n",
        "from sklearn.neighbors import KNeighborsRegressor\n",
        "\n",
        "#Entrenamiento de ML\n",
        "from sklearn import tree\n",
        "from sklearn.ensemble import RandomForestClassifier\n",
        "from sklearn.tree import DecisionTreeClassifier\n",
        "from sklearn.model_selection import GridSearchCV\n",
        "from sklearn.metrics import confusion_matrix\n",
        "from sklearn.neural_network import MLPClassifier\n",
        "from sklearn.preprocessing import StandardScaler, LabelEncoder\n",
        "import tensorflow as tf\n",
        "import keras\n",
        "from keras import layers\n",
        "from scikeras.wrappers import KerasClassifier\n",
        "from keras import regularizers\n",
        "\n",
        "\n",
        "\n",
        "\n",
        "#Manejo de warnings\n",
        "import warnings\n",
        "warnings.filterwarnings('ignore')\n",
        "import nltk\n",
        "nltk.download('stopwords')\n",
        "nltk.download('averaged_perceptron_tagger')\n",
        "nltk.download('wordnet')"
      ],
      "id": "e696ba2d"
    },
    {
      "cell_type": "markdown",
      "source": [
        "<p>Conectamos nuestro note book con nuestro Drive de google ya que ahi tenemos nuestro archivo que contiene el data set</p>"
      ],
      "metadata": {
        "id": "lFIh1wUNjBsg"
      },
      "id": "lFIh1wUNjBsg"
    },
    {
      "cell_type": "code",
      "execution_count": null,
      "metadata": {
        "id": "KLRyMb3NL-tb",
        "colab": {
          "base_uri": "https://localhost:8080/"
        },
        "outputId": "146e5f6f-d110-43d1-e79c-6fc52d219aba"
      },
      "outputs": [
        {
          "output_type": "stream",
          "name": "stdout",
          "text": [
            "Drive already mounted at /content/drive; to attempt to forcibly remount, call drive.mount(\"/content/drive\", force_remount=True).\n"
          ]
        }
      ],
      "source": [
        "drive.mount('/content/drive')"
      ],
      "id": "KLRyMb3NL-tb"
    },
    {
      "cell_type": "markdown",
      "source": [
        "<p>Establecemos la ruta, si quieren experimentar con nuestro notebook solo tendrian que subir el archivo gisette.pickle ( que pueden obtenerlo de la pagina de gisette https://www.kaggle.com/datasets/fedesoriano/gisette-dataset-mnist-digits-4-and-9) a su drive y dejar la ruta ya establecida o cambiarla</p>"
      ],
      "metadata": {
        "id": "2bcOs14yjPXI"
      },
      "id": "2bcOs14yjPXI"
    },
    {
      "cell_type": "code",
      "execution_count": null,
      "metadata": {
        "id": "z3I4kydQMGB-"
      },
      "outputs": [],
      "source": [
        "file_path = '/content/drive/My Drive/ProyectoCienciaDeDatos/gisette.pickle'"
      ],
      "id": "z3I4kydQMGB-"
    },
    {
      "cell_type": "markdown",
      "metadata": {
        "id": "d92cf370"
      },
      "source": [
        "<p>Procedemos a descomprimir el archivo ya que se encuentra en .pickle usando de la libreria pandas read_pickle</p>"
      ],
      "id": "d92cf370"
    },
    {
      "cell_type": "code",
      "execution_count": null,
      "metadata": {
        "id": "104a46af"
      },
      "outputs": [],
      "source": [
        "gisette_data=pd.read_pickle(file_path, compression='infer')"
      ],
      "id": "104a46af"
    },
    {
      "cell_type": "markdown",
      "source": [
        "<p>vamos a imprimir como se ve nuestro gissete_data, podemos observar tal cual como dice la documentacion tenemos 3 conjuntos entrenamiento, validacon y prueba y a excepcion de los conjunto de entrenamiento los demas tienen sus respectivas etiquetas en este caso \"labels\"</p>"
      ],
      "metadata": {
        "id": "YCLl7qPyj0gv"
      },
      "id": "YCLl7qPyj0gv"
    },
    {
      "cell_type": "code",
      "execution_count": null,
      "metadata": {
        "id": "95469f84",
        "scrolled": true,
        "colab": {
          "base_uri": "https://localhost:8080/"
        },
        "outputId": "447439af-5d39-4738-d381-7eb688bd5f47"
      },
      "outputs": [
        {
          "output_type": "stream",
          "name": "stdout",
          "text": [
            "{'training': {'data': array([[550.,   0., 495., ...,   0.,   0., 983.],\n",
            "       [  0.,   0.,   0., ...,   0.,   0.,   0.],\n",
            "       [  0.,   0.,   0., ...,   0.,   0.,   0.],\n",
            "       ...,\n",
            "       [  0.,   0.,   0., ...,   0.,   0.,   0.],\n",
            "       [  0.,   0.,   0., ...,   0.,   0.,   0.],\n",
            "       [  0.,   0., 991., ...,   0.,   0., 991.]]), 'labels': array([ 1., -1.,  1., ..., -1., -1., -1.])}, 'validation': {'data': array([[688.,   0.,   0., ...,   0., 769.,   0.],\n",
            "       [778., 758.,   0., ...,   0.,   0.,   0.],\n",
            "       [469.,   0., 816., ..., 417.,   0.,   0.],\n",
            "       ...,\n",
            "       [  0.,   0.,   0., ...,   0.,   0., 742.],\n",
            "       [  0.,   0.,   0., ...,   0.,   0.,   0.],\n",
            "       [  0.,   0.,   0., ...,   0.,   0.,   0.]]), 'labels': array([ 1.,  1., -1.,  1.,  1., -1., -1., -1., -1., -1.,  1.,  1., -1.,\n",
            "        1., -1.,  1.,  1.,  1.,  1.,  1., -1.,  1.,  1.,  1.,  1., -1.,\n",
            "        1.,  1., -1.,  1.,  1.,  1., -1.,  1.,  1.,  1., -1.,  1., -1.,\n",
            "       -1.,  1., -1.,  1.,  1., -1., -1.,  1., -1.,  1., -1., -1., -1.,\n",
            "       -1., -1.,  1.,  1., -1., -1., -1.,  1.,  1., -1., -1.,  1., -1.,\n",
            "       -1.,  1.,  1.,  1.,  1., -1., -1., -1.,  1.,  1.,  1., -1., -1.,\n",
            "        1.,  1., -1.,  1.,  1.,  1., -1.,  1., -1.,  1., -1.,  1.,  1.,\n",
            "       -1., -1., -1.,  1., -1.,  1., -1., -1.,  1., -1., -1.,  1.,  1.,\n",
            "        1.,  1., -1.,  1.,  1., -1.,  1., -1.,  1., -1.,  1.,  1., -1.,\n",
            "       -1., -1.,  1., -1.,  1., -1.,  1., -1., -1.,  1., -1., -1., -1.,\n",
            "       -1., -1., -1.,  1., -1.,  1.,  1.,  1., -1.,  1.,  1.,  1., -1.,\n",
            "        1.,  1.,  1., -1.,  1.,  1., -1.,  1., -1.,  1.,  1.,  1., -1.,\n",
            "        1., -1.,  1., -1.,  1., -1.,  1., -1.,  1., -1., -1., -1.,  1.,\n",
            "        1.,  1.,  1., -1., -1.,  1.,  1.,  1.,  1.,  1., -1., -1.,  1.,\n",
            "       -1., -1., -1.,  1., -1.,  1.,  1., -1.,  1.,  1.,  1., -1.,  1.,\n",
            "       -1., -1., -1.,  1.,  1.,  1.,  1., -1.,  1., -1., -1.,  1., -1.,\n",
            "        1., -1.,  1., -1.,  1.,  1., -1., -1.,  1., -1.,  1., -1.,  1.,\n",
            "        1., -1.,  1., -1., -1.,  1.,  1., -1., -1., -1., -1.,  1., -1.,\n",
            "       -1., -1., -1.,  1., -1.,  1.,  1., -1., -1., -1., -1.,  1.,  1.,\n",
            "        1.,  1.,  1.,  1.,  1.,  1., -1.,  1., -1.,  1.,  1., -1.,  1.,\n",
            "        1., -1., -1.,  1., -1.,  1., -1.,  1.,  1.,  1., -1., -1.,  1.,\n",
            "        1., -1., -1., -1.,  1.,  1.,  1.,  1.,  1., -1.,  1., -1., -1.,\n",
            "       -1.,  1., -1.,  1., -1., -1.,  1.,  1., -1.,  1.,  1.,  1.,  1.,\n",
            "       -1.,  1.,  1., -1., -1., -1., -1., -1.,  1.,  1.,  1.,  1.,  1.,\n",
            "       -1., -1.,  1.,  1., -1., -1.,  1., -1., -1., -1.,  1., -1.,  1.,\n",
            "       -1.,  1., -1., -1., -1.,  1., -1., -1.,  1., -1.,  1.,  1., -1.,\n",
            "        1.,  1.,  1.,  1., -1., -1., -1.,  1.,  1.,  1.,  1., -1.,  1.,\n",
            "       -1.,  1., -1., -1., -1.,  1.,  1., -1.,  1.,  1.,  1.,  1., -1.,\n",
            "        1., -1.,  1.,  1., -1.,  1., -1., -1.,  1.,  1., -1., -1., -1.,\n",
            "        1.,  1., -1.,  1.,  1.,  1., -1.,  1., -1., -1., -1.,  1., -1.,\n",
            "       -1.,  1.,  1., -1., -1., -1.,  1., -1.,  1.,  1.,  1.,  1., -1.,\n",
            "        1.,  1., -1., -1., -1., -1., -1., -1.,  1., -1., -1., -1.,  1.,\n",
            "       -1., -1., -1., -1.,  1.,  1.,  1., -1.,  1., -1.,  1.,  1., -1.,\n",
            "       -1.,  1., -1., -1.,  1., -1.,  1.,  1.,  1.,  1.,  1., -1., -1.,\n",
            "       -1.,  1.,  1.,  1.,  1., -1., -1., -1., -1.,  1., -1.,  1., -1.,\n",
            "        1., -1., -1.,  1., -1., -1.,  1., -1., -1.,  1.,  1.,  1., -1.,\n",
            "        1., -1.,  1., -1., -1.,  1.,  1.,  1.,  1., -1., -1.,  1.,  1.,\n",
            "        1., -1., -1.,  1.,  1., -1.,  1.,  1., -1., -1.,  1.,  1., -1.,\n",
            "       -1.,  1.,  1.,  1.,  1., -1.,  1.,  1., -1., -1.,  1., -1., -1.,\n",
            "        1., -1.,  1., -1.,  1.,  1.,  1., -1., -1., -1., -1., -1., -1.,\n",
            "        1., -1.,  1.,  1.,  1., -1., -1.,  1.,  1.,  1., -1., -1.,  1.,\n",
            "       -1.,  1.,  1., -1.,  1., -1.,  1., -1.,  1., -1., -1., -1., -1.,\n",
            "        1.,  1.,  1.,  1.,  1., -1., -1., -1.,  1., -1.,  1.,  1., -1.,\n",
            "        1.,  1.,  1.,  1., -1., -1.,  1., -1., -1., -1., -1.,  1.,  1.,\n",
            "       -1.,  1.,  1.,  1.,  1.,  1.,  1., -1., -1., -1., -1., -1.,  1.,\n",
            "       -1., -1., -1.,  1.,  1.,  1., -1., -1., -1., -1.,  1., -1.,  1.,\n",
            "        1., -1.,  1.,  1., -1.,  1., -1., -1., -1., -1.,  1.,  1., -1.,\n",
            "        1.,  1., -1.,  1., -1., -1., -1., -1.,  1., -1., -1., -1., -1.,\n",
            "        1.,  1.,  1., -1., -1., -1., -1.,  1.,  1., -1.,  1.,  1., -1.,\n",
            "        1.,  1.,  1., -1.,  1., -1., -1.,  1., -1., -1.,  1., -1.,  1.,\n",
            "       -1., -1., -1.,  1., -1., -1., -1., -1., -1.,  1.,  1.,  1.,  1.,\n",
            "       -1., -1., -1.,  1., -1., -1.,  1., -1., -1.,  1.,  1., -1., -1.,\n",
            "       -1.,  1., -1.,  1., -1.,  1., -1.,  1.,  1., -1.,  1.,  1.,  1.,\n",
            "        1.,  1., -1.,  1.,  1., -1., -1., -1., -1.,  1., -1.,  1., -1.,\n",
            "       -1.,  1., -1., -1.,  1.,  1., -1., -1.,  1.,  1., -1., -1.,  1.,\n",
            "       -1., -1., -1., -1.,  1.,  1.,  1.,  1.,  1.,  1.,  1., -1., -1.,\n",
            "        1., -1.,  1.,  1.,  1.,  1., -1., -1., -1.,  1.,  1.,  1., -1.,\n",
            "       -1., -1., -1.,  1., -1.,  1., -1.,  1., -1., -1.,  1., -1.,  1.,\n",
            "       -1.,  1.,  1., -1.,  1.,  1.,  1., -1.,  1., -1.,  1.,  1., -1.,\n",
            "        1., -1., -1., -1., -1.,  1.,  1., -1.,  1., -1.,  1.,  1., -1.,\n",
            "       -1., -1., -1., -1., -1.,  1., -1., -1., -1., -1., -1., -1.,  1.,\n",
            "       -1.,  1., -1.,  1.,  1., -1.,  1., -1.,  1., -1., -1., -1.,  1.,\n",
            "        1.,  1., -1., -1., -1.,  1., -1.,  1.,  1.,  1., -1., -1., -1.,\n",
            "        1.,  1., -1.,  1.,  1., -1., -1.,  1., -1., -1.,  1., -1.,  1.,\n",
            "       -1.,  1.,  1.,  1., -1., -1., -1.,  1.,  1., -1., -1.,  1.,  1.,\n",
            "        1., -1., -1.,  1., -1., -1., -1.,  1., -1.,  1., -1., -1.,  1.,\n",
            "        1.,  1., -1.,  1., -1., -1., -1.,  1.,  1., -1.,  1.,  1.,  1.,\n",
            "       -1., -1.,  1., -1.,  1., -1., -1.,  1.,  1., -1., -1., -1.,  1.,\n",
            "        1.,  1., -1.,  1.,  1.,  1., -1., -1.,  1.,  1., -1.,  1.,  1.,\n",
            "       -1., -1., -1., -1., -1., -1., -1.,  1., -1., -1., -1.,  1., -1.,\n",
            "        1.,  1.,  1.,  1., -1., -1., -1., -1.,  1.,  1.,  1.,  1.,  1.,\n",
            "       -1.,  1., -1.,  1., -1., -1., -1., -1., -1., -1., -1.,  1., -1.,\n",
            "        1.,  1.,  1., -1., -1., -1., -1.,  1., -1.,  1., -1.,  1., -1.,\n",
            "        1., -1.,  1., -1., -1.,  1.,  1., -1.,  1.,  1.,  1., -1.,  1.,\n",
            "       -1.,  1.,  1., -1.,  1.,  1.,  1., -1., -1.,  1., -1.,  1., -1.,\n",
            "       -1., -1.,  1.,  1.,  1.,  1.,  1., -1.,  1., -1., -1.,  1.,  1.,\n",
            "        1., -1., -1.,  1., -1.,  1., -1., -1.,  1.,  1., -1., -1.])}, 'testing': {'data': array([[983.,   0., 956., ...,   0.,   0.,   0.],\n",
            "       [  0.,   0.,   0., ...,   0.,   0.,   0.],\n",
            "       [  0.,   0., 703., ...,   0.,   0.,   0.],\n",
            "       ...,\n",
            "       [  0.,   0.,   0., ...,   0.,   0.,   0.],\n",
            "       [  0.,   0.,   0., ...,   0., 991.,   0.],\n",
            "       [  0.,   0.,   0., ...,   0.,   0.,   0.]])}}\n"
          ]
        }
      ],
      "source": [
        "print(gisette_data)"
      ],
      "id": "95469f84"
    },
    {
      "cell_type": "markdown",
      "source": [
        "<hr>  </hr>"
      ],
      "metadata": {
        "id": "x6y9wRjW_5CY"
      },
      "id": "x6y9wRjW_5CY"
    },
    {
      "cell_type": "markdown",
      "metadata": {
        "id": "d45edc79"
      },
      "source": [
        "<h1> <strong> EXPLORACION DE LOS DATOS</strong> 👓  </h1>"
      ],
      "id": "d45edc79"
    },
    {
      "cell_type": "markdown",
      "metadata": {
        "id": "05f0117a"
      },
      "source": [
        "<p> El dataset consta de tres conjuntos: entrenamiento, validación y prueba con 6000, 1000 y 6500 observaciones respectivamente. El conjunto de datos incluye un total de 5000 características, 2500 de ellas sin poder predictivo. El orden de las características y patrones fue aleatorio. La tarea consiste en construir un algoritmo de aprendizaje automático que también sea capaz de seleccionar las funciones adecuadas.</p>"
      ],
      "id": "05f0117a"
    },
    {
      "cell_type": "markdown",
      "metadata": {
        "id": "8f524c12"
      },
      "source": [
        "<p>Los datos no estan limpios por lo tanto se procede a limpiarlos y darles el formato correcto </p>"
      ],
      "id": "8f524c12"
    },
    {
      "cell_type": "markdown",
      "metadata": {
        "id": "11818612"
      },
      "source": [
        "<p> cuando etiqueta =1 indica el dígito '4', etiqueta =-1 indica el dígito '9'</p>"
      ],
      "id": "11818612"
    },
    {
      "cell_type": "markdown",
      "metadata": {
        "id": "99338206"
      },
      "source": [
        "<p>Los datos estan en formato de diccionario por lo tanto procedemos a extraer los datos primero para que asi esten en el formato correcto para su respectivo analisis  </p>"
      ],
      "id": "99338206"
    },
    {
      "cell_type": "markdown",
      "source": [
        "<p>guardamos nuestros datos en un variale llamada \"data\" simplementa para comodidad</p>"
      ],
      "metadata": {
        "id": "3IVMZoiykl3V"
      },
      "id": "3IVMZoiykl3V"
    },
    {
      "cell_type": "code",
      "execution_count": null,
      "metadata": {
        "id": "b8bdce4c"
      },
      "outputs": [],
      "source": [
        "data = gisette_data"
      ],
      "id": "b8bdce4c"
    },
    {
      "cell_type": "markdown",
      "source": [
        "<h4>Explicacion de variables principales</h4>\n",
        "\n",
        "<ul>  \n",
        "  <li> <strong>training_data:</strong>Esta variable contiene el conjunto de nuestros datos de entrenamiento, esta es la variable que usaremos para entrenar los modelos de ML ademas de aplicarle un metodo de reduccion de caracteristicas, basicamente es la que mas vamos a manipular</li>\n",
        "  <li><strong>validation_data:</strong>Esta variable contiene el conjunto de datos que usaremos para validar nuestros modelos de aprendizaje automatico</li>\n",
        "  <li><strong>testing_data:</strong>Esta variable contiene el conjunto de datos que se supone que seran usados para hacer los testing de nuestros modelos de aprendizaje automatico</li>\n",
        "  <li><strong>training_labels:</strong>Esta variable contiene las etiquetas que corresponden a nuestro conjunto de datos de entrenamiento</li>\n",
        "  <li><strong>validation_labels:</strong>Esta variable contiene las etiquetas que corresponden a nuestro conjunto de datos de validacion</li>\n",
        "</ul>\n",
        "\n",
        "<p><strong>Nota aclaratoria:</strong> Aunque testing_data es nuestro conjunto para hacer pruebas pasaremos de su uso ya que no contamos con etiquetas para ese data frame</p>"
      ],
      "metadata": {
        "id": "Mb6JWAvIvAPq"
      },
      "id": "Mb6JWAvIvAPq"
    },
    {
      "cell_type": "code",
      "execution_count": null,
      "metadata": {
        "id": "8a59c19f"
      },
      "outputs": [],
      "source": [
        "training_data = pd.DataFrame(data['training']['data'])\n",
        "validation_data = pd.DataFrame(data['validation']['data'])\n",
        "testing_data = pd.DataFrame(data['testing']['data'])\n",
        "\n",
        "training_labels = pd.Series(data['training']['labels'])\n",
        "validation_labels = pd.Series(data['validation']['labels'])\n",
        "\n",
        "\n",
        "\n",
        "\n",
        "validation_index = range(len(training_data), \\\n",
        "                         len(training_data)+len(validation_data))\n",
        "\n",
        "testing_index = range(len(training_data)+len(validation_data), \\\n",
        "                   len(training_data)+len(validation_data)+len(testing_data))"
      ],
      "id": "8a59c19f"
    },
    {
      "cell_type": "markdown",
      "source": [
        "<h4> <strong>IMPORTANTE</strong> Para una mejor compresion vamos a manipular los valores de las series que contienen nuestras etiquetas, ahora 1 sera el valor para 4 y 0 el valor para 9</h4>"
      ],
      "metadata": {
        "id": "TPaOTvSl3x3W"
      },
      "id": "TPaOTvSl3x3W"
    },
    {
      "cell_type": "markdown",
      "source": [
        "<p>Este es el bloque de codigo para hacer el reemplazo mencionado</p>"
      ],
      "metadata": {
        "id": "rm_nQpVIlANQ"
      },
      "id": "rm_nQpVIlANQ"
    },
    {
      "cell_type": "code",
      "source": [
        "training_labels = training_labels.replace({1.0:1.0,-1.0:0.0})\n",
        "validation_labels = validation_labels.replace({1.0:1.0,-1.0:0.0})"
      ],
      "metadata": {
        "id": "NgIFdk4Q3-kA"
      },
      "id": "NgIFdk4Q3-kA",
      "execution_count": null,
      "outputs": []
    },
    {
      "cell_type": "markdown",
      "source": [
        "<p>Imprimimos para ver que tal se ven</p>"
      ],
      "metadata": {
        "id": "3asJEwIolJct"
      },
      "id": "3asJEwIolJct"
    },
    {
      "cell_type": "code",
      "source": [
        "print(training_labels)"
      ],
      "metadata": {
        "colab": {
          "base_uri": "https://localhost:8080/"
        },
        "id": "G-dHEZ_B44ES",
        "outputId": "e4b34037-e3d9-4b3a-9413-9cfa22cfe85d"
      },
      "id": "G-dHEZ_B44ES",
      "execution_count": null,
      "outputs": [
        {
          "output_type": "stream",
          "name": "stdout",
          "text": [
            "0       1.0\n",
            "1       0.0\n",
            "2       1.0\n",
            "3       1.0\n",
            "4       1.0\n",
            "       ... \n",
            "5995    0.0\n",
            "5996    1.0\n",
            "5997    0.0\n",
            "5998    0.0\n",
            "5999    0.0\n",
            "Length: 6000, dtype: float64\n"
          ]
        }
      ]
    },
    {
      "cell_type": "code",
      "source": [
        "print(validation_labels)"
      ],
      "metadata": {
        "colab": {
          "base_uri": "https://localhost:8080/"
        },
        "id": "L2oOeHtA48Rc",
        "outputId": "67119ded-229c-44a1-f61c-8503cae5728d"
      },
      "id": "L2oOeHtA48Rc",
      "execution_count": null,
      "outputs": [
        {
          "output_type": "stream",
          "name": "stdout",
          "text": [
            "0      1.0\n",
            "1      1.0\n",
            "2      0.0\n",
            "3      1.0\n",
            "4      1.0\n",
            "      ... \n",
            "995    0.0\n",
            "996    1.0\n",
            "997    1.0\n",
            "998    0.0\n",
            "999    0.0\n",
            "Length: 1000, dtype: float64\n"
          ]
        }
      ]
    },
    {
      "cell_type": "code",
      "execution_count": null,
      "metadata": {
        "id": "09cde1c6",
        "scrolled": true
      },
      "outputs": [],
      "source": [
        "aux=training_data"
      ],
      "id": "09cde1c6"
    },
    {
      "cell_type": "markdown",
      "source": [
        "<p>Veamos como se nuestro conjunto de datos de entrenamiento con las respectivas etiquetas esto lo hacemos mediante una variable aux</p>"
      ],
      "metadata": {
        "id": "Ci_i47r_xAL1"
      },
      "id": "Ci_i47r_xAL1"
    },
    {
      "cell_type": "code",
      "execution_count": null,
      "metadata": {
        "colab": {
          "base_uri": "https://localhost:8080/",
          "height": 424
        },
        "id": "febdd031",
        "outputId": "f275fb7e-7326-433b-af08-684c169df83d"
      },
      "outputs": [
        {
          "output_type": "execute_result",
          "data": {
            "text/plain": [
              "          0    1      2    3    4      5    6      7    8      9  ...   4991  \\\n",
              "0     550.0  0.0  495.0  0.0  0.0    0.0  0.0  976.0  0.0    0.0  ...    0.0   \n",
              "1       0.0  0.0    0.0  0.0  0.0    0.0  0.0  976.0  0.0    0.0  ...  475.0   \n",
              "2       0.0  0.0    0.0  0.0  0.0    0.0  0.0    0.0  0.0    0.0  ...    0.0   \n",
              "3       0.0  0.0  742.0  0.0  0.0    0.0  0.0  684.0  0.0  956.0  ...    0.0   \n",
              "4       0.0  0.0    0.0  0.0  0.0    0.0  0.0  608.0  0.0  979.0  ...    0.0   \n",
              "...     ...  ...    ...  ...  ...    ...  ...    ...  ...    ...  ...    ...   \n",
              "5995    0.0  0.0    0.0  0.0  0.0    0.0  0.0    0.0  0.0    0.0  ...    0.0   \n",
              "5996    0.0  0.0    0.0  0.0  0.0    0.0  0.0    0.0  0.0    0.0  ...    0.0   \n",
              "5997    0.0  0.0    0.0  0.0  0.0  758.0  0.0    0.0  0.0  522.0  ...  901.0   \n",
              "5998    0.0  0.0    0.0  0.0  0.0    0.0  0.0    0.0  0.0    0.0  ...    0.0   \n",
              "5999    0.0  0.0  991.0  0.0  0.0    0.0  0.0    0.0  0.0    0.0  ...    0.0   \n",
              "\n",
              "      4992   4993   4994  4995   4996  4997   4998   4999  numero  \n",
              "0      0.0  991.0  991.0   0.0    0.0   0.0    0.0  983.0     1.0  \n",
              "1      0.0  991.0    0.0   0.0  991.0   0.0    0.0    0.0     0.0  \n",
              "2      0.0    0.0    0.0   0.0    0.0   0.0    0.0    0.0     1.0  \n",
              "3      0.0    0.0    0.0   0.0  674.0   0.0    0.0  838.0     1.0  \n",
              "4      0.0  828.0    0.0   0.0    0.0   0.0    0.0    0.0     1.0  \n",
              "...    ...    ...    ...   ...    ...   ...    ...    ...     ...  \n",
              "5995   0.0    0.0    0.0   0.0  783.0   0.0    0.0    0.0     0.0  \n",
              "5996   0.0    0.0    0.0   0.0  921.0   0.0  886.0    0.0     1.0  \n",
              "5997   0.0    0.0    0.0   0.0  980.0   0.0    0.0    0.0     0.0  \n",
              "5998   0.0    0.0  690.0   0.0    0.0   0.0    0.0    0.0     0.0  \n",
              "5999   0.0  288.0    0.0   0.0  972.0   0.0    0.0  991.0     0.0  \n",
              "\n",
              "[6000 rows x 5001 columns]"
            ],
            "text/html": [
              "\n",
              "  <div id=\"df-2139921c-deb2-4331-a492-0b57c2e83ef2\" class=\"colab-df-container\">\n",
              "    <div>\n",
              "<style scoped>\n",
              "    .dataframe tbody tr th:only-of-type {\n",
              "        vertical-align: middle;\n",
              "    }\n",
              "\n",
              "    .dataframe tbody tr th {\n",
              "        vertical-align: top;\n",
              "    }\n",
              "\n",
              "    .dataframe thead th {\n",
              "        text-align: right;\n",
              "    }\n",
              "</style>\n",
              "<table border=\"1\" class=\"dataframe\">\n",
              "  <thead>\n",
              "    <tr style=\"text-align: right;\">\n",
              "      <th></th>\n",
              "      <th>0</th>\n",
              "      <th>1</th>\n",
              "      <th>2</th>\n",
              "      <th>3</th>\n",
              "      <th>4</th>\n",
              "      <th>5</th>\n",
              "      <th>6</th>\n",
              "      <th>7</th>\n",
              "      <th>8</th>\n",
              "      <th>9</th>\n",
              "      <th>...</th>\n",
              "      <th>4991</th>\n",
              "      <th>4992</th>\n",
              "      <th>4993</th>\n",
              "      <th>4994</th>\n",
              "      <th>4995</th>\n",
              "      <th>4996</th>\n",
              "      <th>4997</th>\n",
              "      <th>4998</th>\n",
              "      <th>4999</th>\n",
              "      <th>numero</th>\n",
              "    </tr>\n",
              "  </thead>\n",
              "  <tbody>\n",
              "    <tr>\n",
              "      <th>0</th>\n",
              "      <td>550.0</td>\n",
              "      <td>0.0</td>\n",
              "      <td>495.0</td>\n",
              "      <td>0.0</td>\n",
              "      <td>0.0</td>\n",
              "      <td>0.0</td>\n",
              "      <td>0.0</td>\n",
              "      <td>976.0</td>\n",
              "      <td>0.0</td>\n",
              "      <td>0.0</td>\n",
              "      <td>...</td>\n",
              "      <td>0.0</td>\n",
              "      <td>0.0</td>\n",
              "      <td>991.0</td>\n",
              "      <td>991.0</td>\n",
              "      <td>0.0</td>\n",
              "      <td>0.0</td>\n",
              "      <td>0.0</td>\n",
              "      <td>0.0</td>\n",
              "      <td>983.0</td>\n",
              "      <td>1.0</td>\n",
              "    </tr>\n",
              "    <tr>\n",
              "      <th>1</th>\n",
              "      <td>0.0</td>\n",
              "      <td>0.0</td>\n",
              "      <td>0.0</td>\n",
              "      <td>0.0</td>\n",
              "      <td>0.0</td>\n",
              "      <td>0.0</td>\n",
              "      <td>0.0</td>\n",
              "      <td>976.0</td>\n",
              "      <td>0.0</td>\n",
              "      <td>0.0</td>\n",
              "      <td>...</td>\n",
              "      <td>475.0</td>\n",
              "      <td>0.0</td>\n",
              "      <td>991.0</td>\n",
              "      <td>0.0</td>\n",
              "      <td>0.0</td>\n",
              "      <td>991.0</td>\n",
              "      <td>0.0</td>\n",
              "      <td>0.0</td>\n",
              "      <td>0.0</td>\n",
              "      <td>0.0</td>\n",
              "    </tr>\n",
              "    <tr>\n",
              "      <th>2</th>\n",
              "      <td>0.0</td>\n",
              "      <td>0.0</td>\n",
              "      <td>0.0</td>\n",
              "      <td>0.0</td>\n",
              "      <td>0.0</td>\n",
              "      <td>0.0</td>\n",
              "      <td>0.0</td>\n",
              "      <td>0.0</td>\n",
              "      <td>0.0</td>\n",
              "      <td>0.0</td>\n",
              "      <td>...</td>\n",
              "      <td>0.0</td>\n",
              "      <td>0.0</td>\n",
              "      <td>0.0</td>\n",
              "      <td>0.0</td>\n",
              "      <td>0.0</td>\n",
              "      <td>0.0</td>\n",
              "      <td>0.0</td>\n",
              "      <td>0.0</td>\n",
              "      <td>0.0</td>\n",
              "      <td>1.0</td>\n",
              "    </tr>\n",
              "    <tr>\n",
              "      <th>3</th>\n",
              "      <td>0.0</td>\n",
              "      <td>0.0</td>\n",
              "      <td>742.0</td>\n",
              "      <td>0.0</td>\n",
              "      <td>0.0</td>\n",
              "      <td>0.0</td>\n",
              "      <td>0.0</td>\n",
              "      <td>684.0</td>\n",
              "      <td>0.0</td>\n",
              "      <td>956.0</td>\n",
              "      <td>...</td>\n",
              "      <td>0.0</td>\n",
              "      <td>0.0</td>\n",
              "      <td>0.0</td>\n",
              "      <td>0.0</td>\n",
              "      <td>0.0</td>\n",
              "      <td>674.0</td>\n",
              "      <td>0.0</td>\n",
              "      <td>0.0</td>\n",
              "      <td>838.0</td>\n",
              "      <td>1.0</td>\n",
              "    </tr>\n",
              "    <tr>\n",
              "      <th>4</th>\n",
              "      <td>0.0</td>\n",
              "      <td>0.0</td>\n",
              "      <td>0.0</td>\n",
              "      <td>0.0</td>\n",
              "      <td>0.0</td>\n",
              "      <td>0.0</td>\n",
              "      <td>0.0</td>\n",
              "      <td>608.0</td>\n",
              "      <td>0.0</td>\n",
              "      <td>979.0</td>\n",
              "      <td>...</td>\n",
              "      <td>0.0</td>\n",
              "      <td>0.0</td>\n",
              "      <td>828.0</td>\n",
              "      <td>0.0</td>\n",
              "      <td>0.0</td>\n",
              "      <td>0.0</td>\n",
              "      <td>0.0</td>\n",
              "      <td>0.0</td>\n",
              "      <td>0.0</td>\n",
              "      <td>1.0</td>\n",
              "    </tr>\n",
              "    <tr>\n",
              "      <th>...</th>\n",
              "      <td>...</td>\n",
              "      <td>...</td>\n",
              "      <td>...</td>\n",
              "      <td>...</td>\n",
              "      <td>...</td>\n",
              "      <td>...</td>\n",
              "      <td>...</td>\n",
              "      <td>...</td>\n",
              "      <td>...</td>\n",
              "      <td>...</td>\n",
              "      <td>...</td>\n",
              "      <td>...</td>\n",
              "      <td>...</td>\n",
              "      <td>...</td>\n",
              "      <td>...</td>\n",
              "      <td>...</td>\n",
              "      <td>...</td>\n",
              "      <td>...</td>\n",
              "      <td>...</td>\n",
              "      <td>...</td>\n",
              "      <td>...</td>\n",
              "    </tr>\n",
              "    <tr>\n",
              "      <th>5995</th>\n",
              "      <td>0.0</td>\n",
              "      <td>0.0</td>\n",
              "      <td>0.0</td>\n",
              "      <td>0.0</td>\n",
              "      <td>0.0</td>\n",
              "      <td>0.0</td>\n",
              "      <td>0.0</td>\n",
              "      <td>0.0</td>\n",
              "      <td>0.0</td>\n",
              "      <td>0.0</td>\n",
              "      <td>...</td>\n",
              "      <td>0.0</td>\n",
              "      <td>0.0</td>\n",
              "      <td>0.0</td>\n",
              "      <td>0.0</td>\n",
              "      <td>0.0</td>\n",
              "      <td>783.0</td>\n",
              "      <td>0.0</td>\n",
              "      <td>0.0</td>\n",
              "      <td>0.0</td>\n",
              "      <td>0.0</td>\n",
              "    </tr>\n",
              "    <tr>\n",
              "      <th>5996</th>\n",
              "      <td>0.0</td>\n",
              "      <td>0.0</td>\n",
              "      <td>0.0</td>\n",
              "      <td>0.0</td>\n",
              "      <td>0.0</td>\n",
              "      <td>0.0</td>\n",
              "      <td>0.0</td>\n",
              "      <td>0.0</td>\n",
              "      <td>0.0</td>\n",
              "      <td>0.0</td>\n",
              "      <td>...</td>\n",
              "      <td>0.0</td>\n",
              "      <td>0.0</td>\n",
              "      <td>0.0</td>\n",
              "      <td>0.0</td>\n",
              "      <td>0.0</td>\n",
              "      <td>921.0</td>\n",
              "      <td>0.0</td>\n",
              "      <td>886.0</td>\n",
              "      <td>0.0</td>\n",
              "      <td>1.0</td>\n",
              "    </tr>\n",
              "    <tr>\n",
              "      <th>5997</th>\n",
              "      <td>0.0</td>\n",
              "      <td>0.0</td>\n",
              "      <td>0.0</td>\n",
              "      <td>0.0</td>\n",
              "      <td>0.0</td>\n",
              "      <td>758.0</td>\n",
              "      <td>0.0</td>\n",
              "      <td>0.0</td>\n",
              "      <td>0.0</td>\n",
              "      <td>522.0</td>\n",
              "      <td>...</td>\n",
              "      <td>901.0</td>\n",
              "      <td>0.0</td>\n",
              "      <td>0.0</td>\n",
              "      <td>0.0</td>\n",
              "      <td>0.0</td>\n",
              "      <td>980.0</td>\n",
              "      <td>0.0</td>\n",
              "      <td>0.0</td>\n",
              "      <td>0.0</td>\n",
              "      <td>0.0</td>\n",
              "    </tr>\n",
              "    <tr>\n",
              "      <th>5998</th>\n",
              "      <td>0.0</td>\n",
              "      <td>0.0</td>\n",
              "      <td>0.0</td>\n",
              "      <td>0.0</td>\n",
              "      <td>0.0</td>\n",
              "      <td>0.0</td>\n",
              "      <td>0.0</td>\n",
              "      <td>0.0</td>\n",
              "      <td>0.0</td>\n",
              "      <td>0.0</td>\n",
              "      <td>...</td>\n",
              "      <td>0.0</td>\n",
              "      <td>0.0</td>\n",
              "      <td>0.0</td>\n",
              "      <td>690.0</td>\n",
              "      <td>0.0</td>\n",
              "      <td>0.0</td>\n",
              "      <td>0.0</td>\n",
              "      <td>0.0</td>\n",
              "      <td>0.0</td>\n",
              "      <td>0.0</td>\n",
              "    </tr>\n",
              "    <tr>\n",
              "      <th>5999</th>\n",
              "      <td>0.0</td>\n",
              "      <td>0.0</td>\n",
              "      <td>991.0</td>\n",
              "      <td>0.0</td>\n",
              "      <td>0.0</td>\n",
              "      <td>0.0</td>\n",
              "      <td>0.0</td>\n",
              "      <td>0.0</td>\n",
              "      <td>0.0</td>\n",
              "      <td>0.0</td>\n",
              "      <td>...</td>\n",
              "      <td>0.0</td>\n",
              "      <td>0.0</td>\n",
              "      <td>288.0</td>\n",
              "      <td>0.0</td>\n",
              "      <td>0.0</td>\n",
              "      <td>972.0</td>\n",
              "      <td>0.0</td>\n",
              "      <td>0.0</td>\n",
              "      <td>991.0</td>\n",
              "      <td>0.0</td>\n",
              "    </tr>\n",
              "  </tbody>\n",
              "</table>\n",
              "<p>6000 rows × 5001 columns</p>\n",
              "</div>\n",
              "    <div class=\"colab-df-buttons\">\n",
              "\n",
              "  <div class=\"colab-df-container\">\n",
              "    <button class=\"colab-df-convert\" onclick=\"convertToInteractive('df-2139921c-deb2-4331-a492-0b57c2e83ef2')\"\n",
              "            title=\"Convert this dataframe to an interactive table.\"\n",
              "            style=\"display:none;\">\n",
              "\n",
              "  <svg xmlns=\"http://www.w3.org/2000/svg\" height=\"24px\" viewBox=\"0 -960 960 960\">\n",
              "    <path d=\"M120-120v-720h720v720H120Zm60-500h600v-160H180v160Zm220 220h160v-160H400v160Zm0 220h160v-160H400v160ZM180-400h160v-160H180v160Zm440 0h160v-160H620v160ZM180-180h160v-160H180v160Zm440 0h160v-160H620v160Z\"/>\n",
              "  </svg>\n",
              "    </button>\n",
              "\n",
              "  <style>\n",
              "    .colab-df-container {\n",
              "      display:flex;\n",
              "      gap: 12px;\n",
              "    }\n",
              "\n",
              "    .colab-df-convert {\n",
              "      background-color: #E8F0FE;\n",
              "      border: none;\n",
              "      border-radius: 50%;\n",
              "      cursor: pointer;\n",
              "      display: none;\n",
              "      fill: #1967D2;\n",
              "      height: 32px;\n",
              "      padding: 0 0 0 0;\n",
              "      width: 32px;\n",
              "    }\n",
              "\n",
              "    .colab-df-convert:hover {\n",
              "      background-color: #E2EBFA;\n",
              "      box-shadow: 0px 1px 2px rgba(60, 64, 67, 0.3), 0px 1px 3px 1px rgba(60, 64, 67, 0.15);\n",
              "      fill: #174EA6;\n",
              "    }\n",
              "\n",
              "    .colab-df-buttons div {\n",
              "      margin-bottom: 4px;\n",
              "    }\n",
              "\n",
              "    [theme=dark] .colab-df-convert {\n",
              "      background-color: #3B4455;\n",
              "      fill: #D2E3FC;\n",
              "    }\n",
              "\n",
              "    [theme=dark] .colab-df-convert:hover {\n",
              "      background-color: #434B5C;\n",
              "      box-shadow: 0px 1px 3px 1px rgba(0, 0, 0, 0.15);\n",
              "      filter: drop-shadow(0px 1px 2px rgba(0, 0, 0, 0.3));\n",
              "      fill: #FFFFFF;\n",
              "    }\n",
              "  </style>\n",
              "\n",
              "    <script>\n",
              "      const buttonEl =\n",
              "        document.querySelector('#df-2139921c-deb2-4331-a492-0b57c2e83ef2 button.colab-df-convert');\n",
              "      buttonEl.style.display =\n",
              "        google.colab.kernel.accessAllowed ? 'block' : 'none';\n",
              "\n",
              "      async function convertToInteractive(key) {\n",
              "        const element = document.querySelector('#df-2139921c-deb2-4331-a492-0b57c2e83ef2');\n",
              "        const dataTable =\n",
              "          await google.colab.kernel.invokeFunction('convertToInteractive',\n",
              "                                                    [key], {});\n",
              "        if (!dataTable) return;\n",
              "\n",
              "        const docLinkHtml = 'Like what you see? Visit the ' +\n",
              "          '<a target=\"_blank\" href=https://colab.research.google.com/notebooks/data_table.ipynb>data table notebook</a>'\n",
              "          + ' to learn more about interactive tables.';\n",
              "        element.innerHTML = '';\n",
              "        dataTable['output_type'] = 'display_data';\n",
              "        await google.colab.output.renderOutput(dataTable, element);\n",
              "        const docLink = document.createElement('div');\n",
              "        docLink.innerHTML = docLinkHtml;\n",
              "        element.appendChild(docLink);\n",
              "      }\n",
              "    </script>\n",
              "  </div>\n",
              "\n",
              "\n",
              "<div id=\"df-7e4595d2-5c0e-48a9-944c-f30913a1c24e\">\n",
              "  <button class=\"colab-df-quickchart\" onclick=\"quickchart('df-7e4595d2-5c0e-48a9-944c-f30913a1c24e')\"\n",
              "            title=\"Suggest charts\"\n",
              "            style=\"display:none;\">\n",
              "\n",
              "<svg xmlns=\"http://www.w3.org/2000/svg\" height=\"24px\"viewBox=\"0 0 24 24\"\n",
              "     width=\"24px\">\n",
              "    <g>\n",
              "        <path d=\"M19 3H5c-1.1 0-2 .9-2 2v14c0 1.1.9 2 2 2h14c1.1 0 2-.9 2-2V5c0-1.1-.9-2-2-2zM9 17H7v-7h2v7zm4 0h-2V7h2v10zm4 0h-2v-4h2v4z\"/>\n",
              "    </g>\n",
              "</svg>\n",
              "  </button>\n",
              "\n",
              "<style>\n",
              "  .colab-df-quickchart {\n",
              "      --bg-color: #E8F0FE;\n",
              "      --fill-color: #1967D2;\n",
              "      --hover-bg-color: #E2EBFA;\n",
              "      --hover-fill-color: #174EA6;\n",
              "      --disabled-fill-color: #AAA;\n",
              "      --disabled-bg-color: #DDD;\n",
              "  }\n",
              "\n",
              "  [theme=dark] .colab-df-quickchart {\n",
              "      --bg-color: #3B4455;\n",
              "      --fill-color: #D2E3FC;\n",
              "      --hover-bg-color: #434B5C;\n",
              "      --hover-fill-color: #FFFFFF;\n",
              "      --disabled-bg-color: #3B4455;\n",
              "      --disabled-fill-color: #666;\n",
              "  }\n",
              "\n",
              "  .colab-df-quickchart {\n",
              "    background-color: var(--bg-color);\n",
              "    border: none;\n",
              "    border-radius: 50%;\n",
              "    cursor: pointer;\n",
              "    display: none;\n",
              "    fill: var(--fill-color);\n",
              "    height: 32px;\n",
              "    padding: 0;\n",
              "    width: 32px;\n",
              "  }\n",
              "\n",
              "  .colab-df-quickchart:hover {\n",
              "    background-color: var(--hover-bg-color);\n",
              "    box-shadow: 0 1px 2px rgba(60, 64, 67, 0.3), 0 1px 3px 1px rgba(60, 64, 67, 0.15);\n",
              "    fill: var(--button-hover-fill-color);\n",
              "  }\n",
              "\n",
              "  .colab-df-quickchart-complete:disabled,\n",
              "  .colab-df-quickchart-complete:disabled:hover {\n",
              "    background-color: var(--disabled-bg-color);\n",
              "    fill: var(--disabled-fill-color);\n",
              "    box-shadow: none;\n",
              "  }\n",
              "\n",
              "  .colab-df-spinner {\n",
              "    border: 2px solid var(--fill-color);\n",
              "    border-color: transparent;\n",
              "    border-bottom-color: var(--fill-color);\n",
              "    animation:\n",
              "      spin 1s steps(1) infinite;\n",
              "  }\n",
              "\n",
              "  @keyframes spin {\n",
              "    0% {\n",
              "      border-color: transparent;\n",
              "      border-bottom-color: var(--fill-color);\n",
              "      border-left-color: var(--fill-color);\n",
              "    }\n",
              "    20% {\n",
              "      border-color: transparent;\n",
              "      border-left-color: var(--fill-color);\n",
              "      border-top-color: var(--fill-color);\n",
              "    }\n",
              "    30% {\n",
              "      border-color: transparent;\n",
              "      border-left-color: var(--fill-color);\n",
              "      border-top-color: var(--fill-color);\n",
              "      border-right-color: var(--fill-color);\n",
              "    }\n",
              "    40% {\n",
              "      border-color: transparent;\n",
              "      border-right-color: var(--fill-color);\n",
              "      border-top-color: var(--fill-color);\n",
              "    }\n",
              "    60% {\n",
              "      border-color: transparent;\n",
              "      border-right-color: var(--fill-color);\n",
              "    }\n",
              "    80% {\n",
              "      border-color: transparent;\n",
              "      border-right-color: var(--fill-color);\n",
              "      border-bottom-color: var(--fill-color);\n",
              "    }\n",
              "    90% {\n",
              "      border-color: transparent;\n",
              "      border-bottom-color: var(--fill-color);\n",
              "    }\n",
              "  }\n",
              "</style>\n",
              "\n",
              "  <script>\n",
              "    async function quickchart(key) {\n",
              "      const quickchartButtonEl =\n",
              "        document.querySelector('#' + key + ' button');\n",
              "      quickchartButtonEl.disabled = true;  // To prevent multiple clicks.\n",
              "      quickchartButtonEl.classList.add('colab-df-spinner');\n",
              "      try {\n",
              "        const charts = await google.colab.kernel.invokeFunction(\n",
              "            'suggestCharts', [key], {});\n",
              "      } catch (error) {\n",
              "        console.error('Error during call to suggestCharts:', error);\n",
              "      }\n",
              "      quickchartButtonEl.classList.remove('colab-df-spinner');\n",
              "      quickchartButtonEl.classList.add('colab-df-quickchart-complete');\n",
              "    }\n",
              "    (() => {\n",
              "      let quickchartButtonEl =\n",
              "        document.querySelector('#df-7e4595d2-5c0e-48a9-944c-f30913a1c24e button');\n",
              "      quickchartButtonEl.style.display =\n",
              "        google.colab.kernel.accessAllowed ? 'block' : 'none';\n",
              "    })();\n",
              "  </script>\n",
              "</div>\n",
              "    </div>\n",
              "  </div>\n"
            ]
          },
          "metadata": {},
          "execution_count": 88
        }
      ],
      "source": [
        "aux[\"numero\"]= training_labels\n",
        "aux"
      ],
      "id": "febdd031"
    },
    {
      "cell_type": "markdown",
      "source": [
        "<p>Observamos si los datos se encuentran balanceados y en efecto se encuentran ya balanceados por lo tanto no hay que hacer algun proceso para balancearlos</p>"
      ],
      "metadata": {
        "id": "mGn6prb0urcE"
      },
      "id": "mGn6prb0urcE"
    },
    {
      "cell_type": "code",
      "execution_count": null,
      "metadata": {
        "colab": {
          "base_uri": "https://localhost:8080/",
          "height": 430
        },
        "id": "c094118f",
        "outputId": "eebf255c-88e7-4ff8-8944-ab27022104fc"
      },
      "outputs": [
        {
          "output_type": "display_data",
          "data": {
            "text/plain": [
              "<Figure size 640x480 with 1 Axes>"
            ],
            "image/png": "[encoded data removed]"
          },
          "metadata": {}
        }
      ],
      "source": [
        "cantidad_cuatro= aux[aux[\"numero\"]==1][0].size\n",
        "cantidad_nueve = aux[aux[\"numero\"]==0][0].size\n",
        "plt.bar([\"Cuatros (%d)\"%cantidad_cuatro, \"Nueves (%d)\" % cantidad_nueve],\n",
        "       [cantidad_cuatro,cantidad_nueve],\n",
        "       color=[\"cyan\",\"red\"],\n",
        "       width=0.8)\n",
        "plt.ylabel(\"Cantidad de numeros\")\n",
        "plt.grid()\n",
        "plt.minorticks_on()\n",
        "plt.show()"
      ],
      "id": "c094118f"
    },
    {
      "cell_type": "markdown",
      "source": [
        "<p>En la grafica podemos observar que la cantidad de cuatros (4) y nueves (9) es la misma 3000 para cada numero, tal cual lo dice la documentacion, en total tenemos 6000 instancias</p>"
      ],
      "metadata": {
        "id": "QqI0gVlJl0ig"
      },
      "id": "QqI0gVlJl0ig"
    },
    {
      "cell_type": "markdown",
      "source": [
        "<p>Ahora vamos a ver que tanto se relacionan con la variable objetivo nuesrtas variables X con el siguiente codigo</p>"
      ],
      "metadata": {
        "id": "jNuibfDumMtT"
      },
      "id": "jNuibfDumMtT"
    },
    {
      "cell_type": "code",
      "execution_count": null,
      "metadata": {
        "colab": {
          "base_uri": "https://localhost:8080/",
          "height": 565
        },
        "id": "328a3d81",
        "outputId": "d31faf4f-77c2-46e7-b6ef-4774938cf570"
      },
      "outputs": [
        {
          "output_type": "display_data",
          "data": {
            "text/plain": [
              "<Figure size 1000x600 with 1 Axes>"
            ],
            "image/png": "[encoded data removed]"
          },
          "metadata": {}
        }
      ],
      "source": [
        "corr_matrix = aux.corr()\n",
        "\n",
        "correlation_with_target = corr_matrix['numero'].drop('numero')\n",
        "\n",
        "plt.figure(figsize=(10, 6))\n",
        "sns.barplot(x=correlation_with_target.index, y=correlation_with_target.values)\n",
        "plt.title(\"Correlación con la Variable Objetivo\")\n",
        "plt.xlabel(\"Datos\")\n",
        "plt.ylabel(\"Correlacion\")\n",
        "plt.xticks(np.arange(0, 5001, 800))\n",
        "plt.show()"
      ],
      "id": "328a3d81"
    },
    {
      "cell_type": "markdown",
      "source": [
        "<p>A partir del grafico de correlacion con respecto a la variable objetivo podemos observas que hay una gran diferencia entre nuestras variables.\n",
        "\n",
        "La altura de las varibles indica la correlacion, hay tanto positivas como negativas y muy cercanas a cero, las barras con altura positiva nos indica una correlacion muy fuerte con la variable objetvo, caso contrario con las que tienen altura negativa que nos indica una correlacion muy debil y aquellas cercanas  a cero directamente nos dice que no existe correlacion alguna, esto lo podremos confirmar con un mapa de calor\n",
        "\n",
        "</p>"
      ],
      "metadata": {
        "id": "NBYegHzcPHMz"
      },
      "id": "NBYegHzcPHMz"
    },
    {
      "cell_type": "markdown",
      "source": [
        "<p>Para hacer el mapa de calor debemos extraer de nuesra varible aux la matriz de correlacion</p>"
      ],
      "metadata": {
        "id": "3tc7z_qsmjD-"
      },
      "id": "3tc7z_qsmjD-"
    },
    {
      "cell_type": "code",
      "source": [
        "#aux = aux.drop([\"numero\"], axis=1)\n",
        "corr_matrix2 = aux.corr()"
      ],
      "metadata": {
        "id": "vPHOggeD4QT5"
      },
      "id": "vPHOggeD4QT5",
      "execution_count": null,
      "outputs": []
    },
    {
      "cell_type": "markdown",
      "source": [
        "<p>Ahora pintamos el mapa de calor usando la libreria MatPLotLib que es la que nos sirve para hacer graficas con nuestro datos</p>"
      ],
      "metadata": {
        "id": "6ACkodKkmwxB"
      },
      "id": "6ACkodKkmwxB"
    },
    {
      "cell_type": "code",
      "source": [
        "plt.figure(figsize=(10, 6))\n",
        "plt.matshow(corr_matrix2, vmin=-1, vmax=1, cmap=\"bwr\")\n",
        "plt.colorbar()\n",
        "plt.show()"
      ],
      "metadata": {
        "colab": {
          "base_uri": "https://localhost:8080/",
          "height": 439
        },
        "id": "roKtfL1h4QFz",
        "outputId": "e066bd8c-1426-420c-92a5-a267e5ed4e2e"
      },
      "id": "roKtfL1h4QFz",
      "execution_count": null,
      "outputs": [
        {
          "output_type": "display_data",
          "data": {
            "text/plain": [
              "<Figure size 1000x600 with 0 Axes>"
            ]
          },
          "metadata": {}
        },
        {
          "output_type": "display_data",
          "data": {
            "text/plain": [
              "<Figure size 480x480 with 2 Axes>"
            ],
            "image/png": "[encoded data removed]"
          },
          "metadata": {}
        }
      ]
    },
    {
      "cell_type": "markdown",
      "source": [
        "<p>En nuestro mapa de calor se confirma lo anterior en el grafico de correlacion, ahora tenemos un mejor panorama del comportamiento de nuestros datos en el data set, hay muchos datos que no nos proporcionan la informacion necesaria para nuestro proyecto</p>"
      ],
      "metadata": {
        "id": "6uUPBwFcNSJh"
      },
      "id": "6uUPBwFcNSJh"
    },
    {
      "cell_type": "markdown",
      "source": [
        "<p> Ahora tenemos que pensar en algo, segun la documentacion y las buenas praticas de datos, el conjunto de entrenamiento debe ser el conjunto con mas instacias para que asi nuestros modelos realicen una buena generalizacion pero vamos a observar cuantas instancias tiene </P>"
      ],
      "metadata": {
        "id": "8vew6jFypF7f"
      },
      "id": "8vew6jFypF7f"
    },
    {
      "cell_type": "code",
      "source": [
        "training_data"
      ],
      "metadata": {
        "colab": {
          "base_uri": "https://localhost:8080/",
          "height": 424
        },
        "id": "m82U-fAdpccf",
        "outputId": "827581dd-aab7-45e0-b358-602a9e881782"
      },
      "id": "m82U-fAdpccf",
      "execution_count": null,
      "outputs": [
        {
          "output_type": "execute_result",
          "data": {
            "text/plain": [
              "          0    1      2    3    4      5    6      7    8      9  ...   4991  \\\n",
              "0     550.0  0.0  495.0  0.0  0.0    0.0  0.0  976.0  0.0    0.0  ...    0.0   \n",
              "1       0.0  0.0    0.0  0.0  0.0    0.0  0.0  976.0  0.0    0.0  ...  475.0   \n",
              "2       0.0  0.0    0.0  0.0  0.0    0.0  0.0    0.0  0.0    0.0  ...    0.0   \n",
              "3       0.0  0.0  742.0  0.0  0.0    0.0  0.0  684.0  0.0  956.0  ...    0.0   \n",
              "4       0.0  0.0    0.0  0.0  0.0    0.0  0.0  608.0  0.0  979.0  ...    0.0   \n",
              "...     ...  ...    ...  ...  ...    ...  ...    ...  ...    ...  ...    ...   \n",
              "5995    0.0  0.0    0.0  0.0  0.0    0.0  0.0    0.0  0.0    0.0  ...    0.0   \n",
              "5996    0.0  0.0    0.0  0.0  0.0    0.0  0.0    0.0  0.0    0.0  ...    0.0   \n",
              "5997    0.0  0.0    0.0  0.0  0.0  758.0  0.0    0.0  0.0  522.0  ...  901.0   \n",
              "5998    0.0  0.0    0.0  0.0  0.0    0.0  0.0    0.0  0.0    0.0  ...    0.0   \n",
              "5999    0.0  0.0  991.0  0.0  0.0    0.0  0.0    0.0  0.0    0.0  ...    0.0   \n",
              "\n",
              "      4992   4993   4994  4995   4996  4997   4998   4999  numero  \n",
              "0      0.0  991.0  991.0   0.0    0.0   0.0    0.0  983.0     1.0  \n",
              "1      0.0  991.0    0.0   0.0  991.0   0.0    0.0    0.0     0.0  \n",
              "2      0.0    0.0    0.0   0.0    0.0   0.0    0.0    0.0     1.0  \n",
              "3      0.0    0.0    0.0   0.0  674.0   0.0    0.0  838.0     1.0  \n",
              "4      0.0  828.0    0.0   0.0    0.0   0.0    0.0    0.0     1.0  \n",
              "...    ...    ...    ...   ...    ...   ...    ...    ...     ...  \n",
              "5995   0.0    0.0    0.0   0.0  783.0   0.0    0.0    0.0     0.0  \n",
              "5996   0.0    0.0    0.0   0.0  921.0   0.0  886.0    0.0     1.0  \n",
              "5997   0.0    0.0    0.0   0.0  980.0   0.0    0.0    0.0     0.0  \n",
              "5998   0.0    0.0  690.0   0.0    0.0   0.0    0.0    0.0     0.0  \n",
              "5999   0.0  288.0    0.0   0.0  972.0   0.0    0.0  991.0     0.0  \n",
              "\n",
              "[6000 rows x 5001 columns]"
            ],
            "text/html": [
              "\n",
              "  <div id=\"df-d6457f9f-c44d-402f-b9e2-49f05fe0f0c8\" class=\"colab-df-container\">\n",
              "    <div>\n",
              "<style scoped>\n",
              "    .dataframe tbody tr th:only-of-type {\n",
              "        vertical-align: middle;\n",
              "    }\n",
              "\n",
              "    .dataframe tbody tr th {\n",
              "        vertical-align: top;\n",
              "    }\n",
              "\n",
              "    .dataframe thead th {\n",
              "        text-align: right;\n",
              "    }\n",
              "</style>\n",
              "<table border=\"1\" class=\"dataframe\">\n",
              "  <thead>\n",
              "    <tr style=\"text-align: right;\">\n",
              "      <th></th>\n",
              "      <th>0</th>\n",
              "      <th>1</th>\n",
              "      <th>2</th>\n",
              "      <th>3</th>\n",
              "      <th>4</th>\n",
              "      <th>5</th>\n",
              "      <th>6</th>\n",
              "      <th>7</th>\n",
              "      <th>8</th>\n",
              "      <th>9</th>\n",
              "      <th>...</th>\n",
              "      <th>4991</th>\n",
              "      <th>4992</th>\n",
              "      <th>4993</th>\n",
              "      <th>4994</th>\n",
              "      <th>4995</th>\n",
              "      <th>4996</th>\n",
              "      <th>4997</th>\n",
              "      <th>4998</th>\n",
              "      <th>4999</th>\n",
              "      <th>numero</th>\n",
              "    </tr>\n",
              "  </thead>\n",
              "  <tbody>\n",
              "    <tr>\n",
              "      <th>0</th>\n",
              "      <td>550.0</td>\n",
              "      <td>0.0</td>\n",
              "      <td>495.0</td>\n",
              "      <td>0.0</td>\n",
              "      <td>0.0</td>\n",
              "      <td>0.0</td>\n",
              "      <td>0.0</td>\n",
              "      <td>976.0</td>\n",
              "      <td>0.0</td>\n",
              "      <td>0.0</td>\n",
              "      <td>...</td>\n",
              "      <td>0.0</td>\n",
              "      <td>0.0</td>\n",
              "      <td>991.0</td>\n",
              "      <td>991.0</td>\n",
              "      <td>0.0</td>\n",
              "      <td>0.0</td>\n",
              "      <td>0.0</td>\n",
              "      <td>0.0</td>\n",
              "      <td>983.0</td>\n",
              "      <td>1.0</td>\n",
              "    </tr>\n",
              "    <tr>\n",
              "      <th>1</th>\n",
              "      <td>0.0</td>\n",
              "      <td>0.0</td>\n",
              "      <td>0.0</td>\n",
              "      <td>0.0</td>\n",
              "      <td>0.0</td>\n",
              "      <td>0.0</td>\n",
              "      <td>0.0</td>\n",
              "      <td>976.0</td>\n",
              "      <td>0.0</td>\n",
              "      <td>0.0</td>\n",
              "      <td>...</td>\n",
              "      <td>475.0</td>\n",
              "      <td>0.0</td>\n",
              "      <td>991.0</td>\n",
              "      <td>0.0</td>\n",
              "      <td>0.0</td>\n",
              "      <td>991.0</td>\n",
              "      <td>0.0</td>\n",
              "      <td>0.0</td>\n",
              "      <td>0.0</td>\n",
              "      <td>0.0</td>\n",
              "    </tr>\n",
              "    <tr>\n",
              "      <th>2</th>\n",
              "      <td>0.0</td>\n",
              "      <td>0.0</td>\n",
              "      <td>0.0</td>\n",
              "      <td>0.0</td>\n",
              "      <td>0.0</td>\n",
              "      <td>0.0</td>\n",
              "      <td>0.0</td>\n",
              "      <td>0.0</td>\n",
              "      <td>0.0</td>\n",
              "      <td>0.0</td>\n",
              "      <td>...</td>\n",
              "      <td>0.0</td>\n",
              "      <td>0.0</td>\n",
              "      <td>0.0</td>\n",
              "      <td>0.0</td>\n",
              "      <td>0.0</td>\n",
              "      <td>0.0</td>\n",
              "      <td>0.0</td>\n",
              "      <td>0.0</td>\n",
              "      <td>0.0</td>\n",
              "      <td>1.0</td>\n",
              "    </tr>\n",
              "    <tr>\n",
              "      <th>3</th>\n",
              "      <td>0.0</td>\n",
              "      <td>0.0</td>\n",
              "      <td>742.0</td>\n",
              "      <td>0.0</td>\n",
              "      <td>0.0</td>\n",
              "      <td>0.0</td>\n",
              "      <td>0.0</td>\n",
              "      <td>684.0</td>\n",
              "      <td>0.0</td>\n",
              "      <td>956.0</td>\n",
              "      <td>...</td>\n",
              "      <td>0.0</td>\n",
              "      <td>0.0</td>\n",
              "      <td>0.0</td>\n",
              "      <td>0.0</td>\n",
              "      <td>0.0</td>\n",
              "      <td>674.0</td>\n",
              "      <td>0.0</td>\n",
              "      <td>0.0</td>\n",
              "      <td>838.0</td>\n",
              "      <td>1.0</td>\n",
              "    </tr>\n",
              "    <tr>\n",
              "      <th>4</th>\n",
              "      <td>0.0</td>\n",
              "      <td>0.0</td>\n",
              "      <td>0.0</td>\n",
              "      <td>0.0</td>\n",
              "      <td>0.0</td>\n",
              "      <td>0.0</td>\n",
              "      <td>0.0</td>\n",
              "      <td>608.0</td>\n",
              "      <td>0.0</td>\n",
              "      <td>979.0</td>\n",
              "      <td>...</td>\n",
              "      <td>0.0</td>\n",
              "      <td>0.0</td>\n",
              "      <td>828.0</td>\n",
              "      <td>0.0</td>\n",
              "      <td>0.0</td>\n",
              "      <td>0.0</td>\n",
              "      <td>0.0</td>\n",
              "      <td>0.0</td>\n",
              "      <td>0.0</td>\n",
              "      <td>1.0</td>\n",
              "    </tr>\n",
              "    <tr>\n",
              "      <th>...</th>\n",
              "      <td>...</td>\n",
              "      <td>...</td>\n",
              "      <td>...</td>\n",
              "      <td>...</td>\n",
              "      <td>...</td>\n",
              "      <td>...</td>\n",
              "      <td>...</td>\n",
              "      <td>...</td>\n",
              "      <td>...</td>\n",
              "      <td>...</td>\n",
              "      <td>...</td>\n",
              "      <td>...</td>\n",
              "      <td>...</td>\n",
              "      <td>...</td>\n",
              "      <td>...</td>\n",
              "      <td>...</td>\n",
              "      <td>...</td>\n",
              "      <td>...</td>\n",
              "      <td>...</td>\n",
              "      <td>...</td>\n",
              "      <td>...</td>\n",
              "    </tr>\n",
              "    <tr>\n",
              "      <th>5995</th>\n",
              "      <td>0.0</td>\n",
              "      <td>0.0</td>\n",
              "      <td>0.0</td>\n",
              "      <td>0.0</td>\n",
              "      <td>0.0</td>\n",
              "      <td>0.0</td>\n",
              "      <td>0.0</td>\n",
              "      <td>0.0</td>\n",
              "      <td>0.0</td>\n",
              "      <td>0.0</td>\n",
              "      <td>...</td>\n",
              "      <td>0.0</td>\n",
              "      <td>0.0</td>\n",
              "      <td>0.0</td>\n",
              "      <td>0.0</td>\n",
              "      <td>0.0</td>\n",
              "      <td>783.0</td>\n",
              "      <td>0.0</td>\n",
              "      <td>0.0</td>\n",
              "      <td>0.0</td>\n",
              "      <td>0.0</td>\n",
              "    </tr>\n",
              "    <tr>\n",
              "      <th>5996</th>\n",
              "      <td>0.0</td>\n",
              "      <td>0.0</td>\n",
              "      <td>0.0</td>\n",
              "      <td>0.0</td>\n",
              "      <td>0.0</td>\n",
              "      <td>0.0</td>\n",
              "      <td>0.0</td>\n",
              "      <td>0.0</td>\n",
              "      <td>0.0</td>\n",
              "      <td>0.0</td>\n",
              "      <td>...</td>\n",
              "      <td>0.0</td>\n",
              "      <td>0.0</td>\n",
              "      <td>0.0</td>\n",
              "      <td>0.0</td>\n",
              "      <td>0.0</td>\n",
              "      <td>921.0</td>\n",
              "      <td>0.0</td>\n",
              "      <td>886.0</td>\n",
              "      <td>0.0</td>\n",
              "      <td>1.0</td>\n",
              "    </tr>\n",
              "    <tr>\n",
              "      <th>5997</th>\n",
              "      <td>0.0</td>\n",
              "      <td>0.0</td>\n",
              "      <td>0.0</td>\n",
              "      <td>0.0</td>\n",
              "      <td>0.0</td>\n",
              "      <td>758.0</td>\n",
              "      <td>0.0</td>\n",
              "      <td>0.0</td>\n",
              "      <td>0.0</td>\n",
              "      <td>522.0</td>\n",
              "      <td>...</td>\n",
              "      <td>901.0</td>\n",
              "      <td>0.0</td>\n",
              "      <td>0.0</td>\n",
              "      <td>0.0</td>\n",
              "      <td>0.0</td>\n",
              "      <td>980.0</td>\n",
              "      <td>0.0</td>\n",
              "      <td>0.0</td>\n",
              "      <td>0.0</td>\n",
              "      <td>0.0</td>\n",
              "    </tr>\n",
              "    <tr>\n",
              "      <th>5998</th>\n",
              "      <td>0.0</td>\n",
              "      <td>0.0</td>\n",
              "      <td>0.0</td>\n",
              "      <td>0.0</td>\n",
              "      <td>0.0</td>\n",
              "      <td>0.0</td>\n",
              "      <td>0.0</td>\n",
              "      <td>0.0</td>\n",
              "      <td>0.0</td>\n",
              "      <td>0.0</td>\n",
              "      <td>...</td>\n",
              "      <td>0.0</td>\n",
              "      <td>0.0</td>\n",
              "      <td>0.0</td>\n",
              "      <td>690.0</td>\n",
              "      <td>0.0</td>\n",
              "      <td>0.0</td>\n",
              "      <td>0.0</td>\n",
              "      <td>0.0</td>\n",
              "      <td>0.0</td>\n",
              "      <td>0.0</td>\n",
              "    </tr>\n",
              "    <tr>\n",
              "      <th>5999</th>\n",
              "      <td>0.0</td>\n",
              "      <td>0.0</td>\n",
              "      <td>991.0</td>\n",
              "      <td>0.0</td>\n",
              "      <td>0.0</td>\n",
              "      <td>0.0</td>\n",
              "      <td>0.0</td>\n",
              "      <td>0.0</td>\n",
              "      <td>0.0</td>\n",
              "      <td>0.0</td>\n",
              "      <td>...</td>\n",
              "      <td>0.0</td>\n",
              "      <td>0.0</td>\n",
              "      <td>288.0</td>\n",
              "      <td>0.0</td>\n",
              "      <td>0.0</td>\n",
              "      <td>972.0</td>\n",
              "      <td>0.0</td>\n",
              "      <td>0.0</td>\n",
              "      <td>991.0</td>\n",
              "      <td>0.0</td>\n",
              "    </tr>\n",
              "  </tbody>\n",
              "</table>\n",
              "<p>6000 rows × 5001 columns</p>\n",
              "</div>\n",
              "    <div class=\"colab-df-buttons\">\n",
              "\n",
              "  <div class=\"colab-df-container\">\n",
              "    <button class=\"colab-df-convert\" onclick=\"convertToInteractive('df-d6457f9f-c44d-402f-b9e2-49f05fe0f0c8')\"\n",
              "            title=\"Convert this dataframe to an interactive table.\"\n",
              "            style=\"display:none;\">\n",
              "\n",
              "  <svg xmlns=\"http://www.w3.org/2000/svg\" height=\"24px\" viewBox=\"0 -960 960 960\">\n",
              "    <path d=\"M120-120v-720h720v720H120Zm60-500h600v-160H180v160Zm220 220h160v-160H400v160Zm0 220h160v-160H400v160ZM180-400h160v-160H180v160Zm440 0h160v-160H620v160ZM180-180h160v-160H180v160Zm440 0h160v-160H620v160Z\"/>\n",
              "  </svg>\n",
              "    </button>\n",
              "\n",
              "  <style>\n",
              "    .colab-df-container {\n",
              "      display:flex;\n",
              "      gap: 12px;\n",
              "    }\n",
              "\n",
              "    .colab-df-convert {\n",
              "      background-color: #E8F0FE;\n",
              "      border: none;\n",
              "      border-radius: 50%;\n",
              "      cursor: pointer;\n",
              "      display: none;\n",
              "      fill: #1967D2;\n",
              "      height: 32px;\n",
              "      padding: 0 0 0 0;\n",
              "      width: 32px;\n",
              "    }\n",
              "\n",
              "    .colab-df-convert:hover {\n",
              "      background-color: #E2EBFA;\n",
              "      box-shadow: 0px 1px 2px rgba(60, 64, 67, 0.3), 0px 1px 3px 1px rgba(60, 64, 67, 0.15);\n",
              "      fill: #174EA6;\n",
              "    }\n",
              "\n",
              "    .colab-df-buttons div {\n",
              "      margin-bottom: 4px;\n",
              "    }\n",
              "\n",
              "    [theme=dark] .colab-df-convert {\n",
              "      background-color: #3B4455;\n",
              "      fill: #D2E3FC;\n",
              "    }\n",
              "\n",
              "    [theme=dark] .colab-df-convert:hover {\n",
              "      background-color: #434B5C;\n",
              "      box-shadow: 0px 1px 3px 1px rgba(0, 0, 0, 0.15);\n",
              "      filter: drop-shadow(0px 1px 2px rgba(0, 0, 0, 0.3));\n",
              "      fill: #FFFFFF;\n",
              "    }\n",
              "  </style>\n",
              "\n",
              "    <script>\n",
              "      const buttonEl =\n",
              "        document.querySelector('#df-d6457f9f-c44d-402f-b9e2-49f05fe0f0c8 button.colab-df-convert');\n",
              "      buttonEl.style.display =\n",
              "        google.colab.kernel.accessAllowed ? 'block' : 'none';\n",
              "\n",
              "      async function convertToInteractive(key) {\n",
              "        const element = document.querySelector('#df-d6457f9f-c44d-402f-b9e2-49f05fe0f0c8');\n",
              "        const dataTable =\n",
              "          await google.colab.kernel.invokeFunction('convertToInteractive',\n",
              "                                                    [key], {});\n",
              "        if (!dataTable) return;\n",
              "\n",
              "        const docLinkHtml = 'Like what you see? Visit the ' +\n",
              "          '<a target=\"_blank\" href=https://colab.research.google.com/notebooks/data_table.ipynb>data table notebook</a>'\n",
              "          + ' to learn more about interactive tables.';\n",
              "        element.innerHTML = '';\n",
              "        dataTable['output_type'] = 'display_data';\n",
              "        await google.colab.output.renderOutput(dataTable, element);\n",
              "        const docLink = document.createElement('div');\n",
              "        docLink.innerHTML = docLinkHtml;\n",
              "        element.appendChild(docLink);\n",
              "      }\n",
              "    </script>\n",
              "  </div>\n",
              "\n",
              "\n",
              "<div id=\"df-bb872c43-e33f-46cf-aee3-3ca2d6b4c1eb\">\n",
              "  <button class=\"colab-df-quickchart\" onclick=\"quickchart('df-bb872c43-e33f-46cf-aee3-3ca2d6b4c1eb')\"\n",
              "            title=\"Suggest charts\"\n",
              "            style=\"display:none;\">\n",
              "\n",
              "<svg xmlns=\"http://www.w3.org/2000/svg\" height=\"24px\"viewBox=\"0 0 24 24\"\n",
              "     width=\"24px\">\n",
              "    <g>\n",
              "        <path d=\"M19 3H5c-1.1 0-2 .9-2 2v14c0 1.1.9 2 2 2h14c1.1 0 2-.9 2-2V5c0-1.1-.9-2-2-2zM9 17H7v-7h2v7zm4 0h-2V7h2v10zm4 0h-2v-4h2v4z\"/>\n",
              "    </g>\n",
              "</svg>\n",
              "  </button>\n",
              "\n",
              "<style>\n",
              "  .colab-df-quickchart {\n",
              "      --bg-color: #E8F0FE;\n",
              "      --fill-color: #1967D2;\n",
              "      --hover-bg-color: #E2EBFA;\n",
              "      --hover-fill-color: #174EA6;\n",
              "      --disabled-fill-color: #AAA;\n",
              "      --disabled-bg-color: #DDD;\n",
              "  }\n",
              "\n",
              "  [theme=dark] .colab-df-quickchart {\n",
              "      --bg-color: #3B4455;\n",
              "      --fill-color: #D2E3FC;\n",
              "      --hover-bg-color: #434B5C;\n",
              "      --hover-fill-color: #FFFFFF;\n",
              "      --disabled-bg-color: #3B4455;\n",
              "      --disabled-fill-color: #666;\n",
              "  }\n",
              "\n",
              "  .colab-df-quickchart {\n",
              "    background-color: var(--bg-color);\n",
              "    border: none;\n",
              "    border-radius: 50%;\n",
              "    cursor: pointer;\n",
              "    display: none;\n",
              "    fill: var(--fill-color);\n",
              "    height: 32px;\n",
              "    padding: 0;\n",
              "    width: 32px;\n",
              "  }\n",
              "\n",
              "  .colab-df-quickchart:hover {\n",
              "    background-color: var(--hover-bg-color);\n",
              "    box-shadow: 0 1px 2px rgba(60, 64, 67, 0.3), 0 1px 3px 1px rgba(60, 64, 67, 0.15);\n",
              "    fill: var(--button-hover-fill-color);\n",
              "  }\n",
              "\n",
              "  .colab-df-quickchart-complete:disabled,\n",
              "  .colab-df-quickchart-complete:disabled:hover {\n",
              "    background-color: var(--disabled-bg-color);\n",
              "    fill: var(--disabled-fill-color);\n",
              "    box-shadow: none;\n",
              "  }\n",
              "\n",
              "  .colab-df-spinner {\n",
              "    border: 2px solid var(--fill-color);\n",
              "    border-color: transparent;\n",
              "    border-bottom-color: var(--fill-color);\n",
              "    animation:\n",
              "      spin 1s steps(1) infinite;\n",
              "  }\n",
              "\n",
              "  @keyframes spin {\n",
              "    0% {\n",
              "      border-color: transparent;\n",
              "      border-bottom-color: var(--fill-color);\n",
              "      border-left-color: var(--fill-color);\n",
              "    }\n",
              "    20% {\n",
              "      border-color: transparent;\n",
              "      border-left-color: var(--fill-color);\n",
              "      border-top-color: var(--fill-color);\n",
              "    }\n",
              "    30% {\n",
              "      border-color: transparent;\n",
              "      border-left-color: var(--fill-color);\n",
              "      border-top-color: var(--fill-color);\n",
              "      border-right-color: var(--fill-color);\n",
              "    }\n",
              "    40% {\n",
              "      border-color: transparent;\n",
              "      border-right-color: var(--fill-color);\n",
              "      border-top-color: var(--fill-color);\n",
              "    }\n",
              "    60% {\n",
              "      border-color: transparent;\n",
              "      border-right-color: var(--fill-color);\n",
              "    }\n",
              "    80% {\n",
              "      border-color: transparent;\n",
              "      border-right-color: var(--fill-color);\n",
              "      border-bottom-color: var(--fill-color);\n",
              "    }\n",
              "    90% {\n",
              "      border-color: transparent;\n",
              "      border-bottom-color: var(--fill-color);\n",
              "    }\n",
              "  }\n",
              "</style>\n",
              "\n",
              "  <script>\n",
              "    async function quickchart(key) {\n",
              "      const quickchartButtonEl =\n",
              "        document.querySelector('#' + key + ' button');\n",
              "      quickchartButtonEl.disabled = true;  // To prevent multiple clicks.\n",
              "      quickchartButtonEl.classList.add('colab-df-spinner');\n",
              "      try {\n",
              "        const charts = await google.colab.kernel.invokeFunction(\n",
              "            'suggestCharts', [key], {});\n",
              "      } catch (error) {\n",
              "        console.error('Error during call to suggestCharts:', error);\n",
              "      }\n",
              "      quickchartButtonEl.classList.remove('colab-df-spinner');\n",
              "      quickchartButtonEl.classList.add('colab-df-quickchart-complete');\n",
              "    }\n",
              "    (() => {\n",
              "      let quickchartButtonEl =\n",
              "        document.querySelector('#df-bb872c43-e33f-46cf-aee3-3ca2d6b4c1eb button');\n",
              "      quickchartButtonEl.style.display =\n",
              "        google.colab.kernel.accessAllowed ? 'block' : 'none';\n",
              "    })();\n",
              "  </script>\n",
              "</div>\n",
              "    </div>\n",
              "  </div>\n"
            ]
          },
          "metadata": {},
          "execution_count": 92
        }
      ]
    },
    {
      "cell_type": "markdown",
      "source": [
        "<p>Posee una 6000 filas vamos a revisar cuantas tiene nuestros conjunto de validacion y prueba </p>"
      ],
      "metadata": {
        "id": "TnNPE_l6phZe"
      },
      "id": "TnNPE_l6phZe"
    },
    {
      "cell_type": "code",
      "source": [
        "validation_data"
      ],
      "metadata": {
        "colab": {
          "base_uri": "https://localhost:8080/",
          "height": 424
        },
        "id": "VmrEEXTqpsPu",
        "outputId": "7134745f-cb18-45d1-b58d-a8a00193fdcc"
      },
      "id": "VmrEEXTqpsPu",
      "execution_count": null,
      "outputs": [
        {
          "output_type": "execute_result",
          "data": {
            "text/plain": [
              "      0      1      2     3     4      5      6      7     8      9     ...  \\\n",
              "0    688.0    0.0    0.0   0.0   0.0    0.0    0.0  952.0   0.0  870.0  ...   \n",
              "1    778.0  758.0    0.0   0.0   0.0    0.0    0.0  708.0   0.0  991.0  ...   \n",
              "2    469.0    0.0  816.0   0.0   0.0    0.0    0.0    0.0   0.0    0.0  ...   \n",
              "3      0.0    0.0    0.0   0.0   0.0  571.0  991.0  983.0   0.0  983.0  ...   \n",
              "4      0.0    0.0    0.0   0.0   0.0    0.0    0.0  949.0   0.0  991.0  ...   \n",
              "..     ...    ...    ...   ...   ...    ...    ...    ...   ...    ...  ...   \n",
              "995    0.0  511.0    0.0   0.0   0.0    0.0    0.0    0.0   0.0    0.0  ...   \n",
              "996    0.0    0.0  599.0   0.0   0.0    0.0    0.0  910.0   0.0    0.0  ...   \n",
              "997    0.0    0.0    0.0   0.0   0.0    0.0    0.0    0.0   0.0    0.0  ...   \n",
              "998    0.0    0.0    0.0   0.0   0.0    0.0    0.0  968.0   0.0    0.0  ...   \n",
              "999    0.0    0.0    0.0   0.0   0.0    0.0    0.0    0.0   0.0    0.0  ...   \n",
              "\n",
              "      4990  4991  4992   4993  4994  4995   4996   4997   4998   4999  \n",
              "0      0.0   0.0   0.0    0.0   0.0   0.0  494.0    0.0  769.0    0.0  \n",
              "1      0.0   0.0   0.0  770.0   0.0   0.0    0.0    0.0    0.0    0.0  \n",
              "2      0.0   0.0   0.0  467.0   0.0   0.0    0.0  417.0    0.0    0.0  \n",
              "3      0.0   0.0   0.0    0.0   0.0   0.0    0.0    0.0    0.0    0.0  \n",
              "4      0.0   0.0   0.0    0.0   0.0   0.0    0.0    0.0  976.0    0.0  \n",
              "..     ...   ...   ...    ...   ...   ...    ...    ...    ...    ...  \n",
              "995  991.0   0.0   0.0  852.0   0.0   0.0    0.0    0.0    0.0    0.0  \n",
              "996    0.0   0.0   0.0    0.0   0.0   0.0    0.0    0.0    0.0  707.0  \n",
              "997    0.0   0.0   0.0    0.0   0.0   0.0    0.0    0.0    0.0  742.0  \n",
              "998    0.0   0.0   0.0  773.0   0.0   0.0    0.0    0.0    0.0    0.0  \n",
              "999    0.0   0.0   0.0    0.0   0.0   0.0  952.0    0.0    0.0    0.0  \n",
              "\n",
              "[1000 rows x 5000 columns]"
            ],
            "text/html": [
              "\n",
              "  <div id=\"df-3652f70f-d95f-4769-ad29-7ae37c9e7885\" class=\"colab-df-container\">\n",
              "    <div>\n",
              "<style scoped>\n",
              "    .dataframe tbody tr th:only-of-type {\n",
              "        vertical-align: middle;\n",
              "    }\n",
              "\n",
              "    .dataframe tbody tr th {\n",
              "        vertical-align: top;\n",
              "    }\n",
              "\n",
              "    .dataframe thead th {\n",
              "        text-align: right;\n",
              "    }\n",
              "</style>\n",
              "<table border=\"1\" class=\"dataframe\">\n",
              "  <thead>\n",
              "    <tr style=\"text-align: right;\">\n",
              "      <th></th>\n",
              "      <th>0</th>\n",
              "      <th>1</th>\n",
              "      <th>2</th>\n",
              "      <th>3</th>\n",
              "      <th>4</th>\n",
              "      <th>5</th>\n",
              "      <th>6</th>\n",
              "      <th>7</th>\n",
              "      <th>8</th>\n",
              "      <th>9</th>\n",
              "      <th>...</th>\n",
              "      <th>4990</th>\n",
              "      <th>4991</th>\n",
              "      <th>4992</th>\n",
              "      <th>4993</th>\n",
              "      <th>4994</th>\n",
              "      <th>4995</th>\n",
              "      <th>4996</th>\n",
              "      <th>4997</th>\n",
              "      <th>4998</th>\n",
              "      <th>4999</th>\n",
              "    </tr>\n",
              "  </thead>\n",
              "  <tbody>\n",
              "    <tr>\n",
              "      <th>0</th>\n",
              "      <td>688.0</td>\n",
              "      <td>0.0</td>\n",
              "      <td>0.0</td>\n",
              "      <td>0.0</td>\n",
              "      <td>0.0</td>\n",
              "      <td>0.0</td>\n",
              "      <td>0.0</td>\n",
              "      <td>952.0</td>\n",
              "      <td>0.0</td>\n",
              "      <td>870.0</td>\n",
              "      <td>...</td>\n",
              "      <td>0.0</td>\n",
              "      <td>0.0</td>\n",
              "      <td>0.0</td>\n",
              "      <td>0.0</td>\n",
              "      <td>0.0</td>\n",
              "      <td>0.0</td>\n",
              "      <td>494.0</td>\n",
              "      <td>0.0</td>\n",
              "      <td>769.0</td>\n",
              "      <td>0.0</td>\n",
              "    </tr>\n",
              "    <tr>\n",
              "      <th>1</th>\n",
              "      <td>778.0</td>\n",
              "      <td>758.0</td>\n",
              "      <td>0.0</td>\n",
              "      <td>0.0</td>\n",
              "      <td>0.0</td>\n",
              "      <td>0.0</td>\n",
              "      <td>0.0</td>\n",
              "      <td>708.0</td>\n",
              "      <td>0.0</td>\n",
              "      <td>991.0</td>\n",
              "      <td>...</td>\n",
              "      <td>0.0</td>\n",
              "      <td>0.0</td>\n",
              "      <td>0.0</td>\n",
              "      <td>770.0</td>\n",
              "      <td>0.0</td>\n",
              "      <td>0.0</td>\n",
              "      <td>0.0</td>\n",
              "      <td>0.0</td>\n",
              "      <td>0.0</td>\n",
              "      <td>0.0</td>\n",
              "    </tr>\n",
              "    <tr>\n",
              "      <th>2</th>\n",
              "      <td>469.0</td>\n",
              "      <td>0.0</td>\n",
              "      <td>816.0</td>\n",
              "      <td>0.0</td>\n",
              "      <td>0.0</td>\n",
              "      <td>0.0</td>\n",
              "      <td>0.0</td>\n",
              "      <td>0.0</td>\n",
              "      <td>0.0</td>\n",
              "      <td>0.0</td>\n",
              "      <td>...</td>\n",
              "      <td>0.0</td>\n",
              "      <td>0.0</td>\n",
              "      <td>0.0</td>\n",
              "      <td>467.0</td>\n",
              "      <td>0.0</td>\n",
              "      <td>0.0</td>\n",
              "      <td>0.0</td>\n",
              "      <td>417.0</td>\n",
              "      <td>0.0</td>\n",
              "      <td>0.0</td>\n",
              "    </tr>\n",
              "    <tr>\n",
              "      <th>3</th>\n",
              "      <td>0.0</td>\n",
              "      <td>0.0</td>\n",
              "      <td>0.0</td>\n",
              "      <td>0.0</td>\n",
              "      <td>0.0</td>\n",
              "      <td>571.0</td>\n",
              "      <td>991.0</td>\n",
              "      <td>983.0</td>\n",
              "      <td>0.0</td>\n",
              "      <td>983.0</td>\n",
              "      <td>...</td>\n",
              "      <td>0.0</td>\n",
              "      <td>0.0</td>\n",
              "      <td>0.0</td>\n",
              "      <td>0.0</td>\n",
              "      <td>0.0</td>\n",
              "      <td>0.0</td>\n",
              "      <td>0.0</td>\n",
              "      <td>0.0</td>\n",
              "      <td>0.0</td>\n",
              "      <td>0.0</td>\n",
              "    </tr>\n",
              "    <tr>\n",
              "      <th>4</th>\n",
              "      <td>0.0</td>\n",
              "      <td>0.0</td>\n",
              "      <td>0.0</td>\n",
              "      <td>0.0</td>\n",
              "      <td>0.0</td>\n",
              "      <td>0.0</td>\n",
              "      <td>0.0</td>\n",
              "      <td>949.0</td>\n",
              "      <td>0.0</td>\n",
              "      <td>991.0</td>\n",
              "      <td>...</td>\n",
              "      <td>0.0</td>\n",
              "      <td>0.0</td>\n",
              "      <td>0.0</td>\n",
              "      <td>0.0</td>\n",
              "      <td>0.0</td>\n",
              "      <td>0.0</td>\n",
              "      <td>0.0</td>\n",
              "      <td>0.0</td>\n",
              "      <td>976.0</td>\n",
              "      <td>0.0</td>\n",
              "    </tr>\n",
              "    <tr>\n",
              "      <th>...</th>\n",
              "      <td>...</td>\n",
              "      <td>...</td>\n",
              "      <td>...</td>\n",
              "      <td>...</td>\n",
              "      <td>...</td>\n",
              "      <td>...</td>\n",
              "      <td>...</td>\n",
              "      <td>...</td>\n",
              "      <td>...</td>\n",
              "      <td>...</td>\n",
              "      <td>...</td>\n",
              "      <td>...</td>\n",
              "      <td>...</td>\n",
              "      <td>...</td>\n",
              "      <td>...</td>\n",
              "      <td>...</td>\n",
              "      <td>...</td>\n",
              "      <td>...</td>\n",
              "      <td>...</td>\n",
              "      <td>...</td>\n",
              "      <td>...</td>\n",
              "    </tr>\n",
              "    <tr>\n",
              "      <th>995</th>\n",
              "      <td>0.0</td>\n",
              "      <td>511.0</td>\n",
              "      <td>0.0</td>\n",
              "      <td>0.0</td>\n",
              "      <td>0.0</td>\n",
              "      <td>0.0</td>\n",
              "      <td>0.0</td>\n",
              "      <td>0.0</td>\n",
              "      <td>0.0</td>\n",
              "      <td>0.0</td>\n",
              "      <td>...</td>\n",
              "      <td>991.0</td>\n",
              "      <td>0.0</td>\n",
              "      <td>0.0</td>\n",
              "      <td>852.0</td>\n",
              "      <td>0.0</td>\n",
              "      <td>0.0</td>\n",
              "      <td>0.0</td>\n",
              "      <td>0.0</td>\n",
              "      <td>0.0</td>\n",
              "      <td>0.0</td>\n",
              "    </tr>\n",
              "    <tr>\n",
              "      <th>996</th>\n",
              "      <td>0.0</td>\n",
              "      <td>0.0</td>\n",
              "      <td>599.0</td>\n",
              "      <td>0.0</td>\n",
              "      <td>0.0</td>\n",
              "      <td>0.0</td>\n",
              "      <td>0.0</td>\n",
              "      <td>910.0</td>\n",
              "      <td>0.0</td>\n",
              "      <td>0.0</td>\n",
              "      <td>...</td>\n",
              "      <td>0.0</td>\n",
              "      <td>0.0</td>\n",
              "      <td>0.0</td>\n",
              "      <td>0.0</td>\n",
              "      <td>0.0</td>\n",
              "      <td>0.0</td>\n",
              "      <td>0.0</td>\n",
              "      <td>0.0</td>\n",
              "      <td>0.0</td>\n",
              "      <td>707.0</td>\n",
              "    </tr>\n",
              "    <tr>\n",
              "      <th>997</th>\n",
              "      <td>0.0</td>\n",
              "      <td>0.0</td>\n",
              "      <td>0.0</td>\n",
              "      <td>0.0</td>\n",
              "      <td>0.0</td>\n",
              "      <td>0.0</td>\n",
              "      <td>0.0</td>\n",
              "      <td>0.0</td>\n",
              "      <td>0.0</td>\n",
              "      <td>0.0</td>\n",
              "      <td>...</td>\n",
              "      <td>0.0</td>\n",
              "      <td>0.0</td>\n",
              "      <td>0.0</td>\n",
              "      <td>0.0</td>\n",
              "      <td>0.0</td>\n",
              "      <td>0.0</td>\n",
              "      <td>0.0</td>\n",
              "      <td>0.0</td>\n",
              "      <td>0.0</td>\n",
              "      <td>742.0</td>\n",
              "    </tr>\n",
              "    <tr>\n",
              "      <th>998</th>\n",
              "      <td>0.0</td>\n",
              "      <td>0.0</td>\n",
              "      <td>0.0</td>\n",
              "      <td>0.0</td>\n",
              "      <td>0.0</td>\n",
              "      <td>0.0</td>\n",
              "      <td>0.0</td>\n",
              "      <td>968.0</td>\n",
              "      <td>0.0</td>\n",
              "      <td>0.0</td>\n",
              "      <td>...</td>\n",
              "      <td>0.0</td>\n",
              "      <td>0.0</td>\n",
              "      <td>0.0</td>\n",
              "      <td>773.0</td>\n",
              "      <td>0.0</td>\n",
              "      <td>0.0</td>\n",
              "      <td>0.0</td>\n",
              "      <td>0.0</td>\n",
              "      <td>0.0</td>\n",
              "      <td>0.0</td>\n",
              "    </tr>\n",
              "    <tr>\n",
              "      <th>999</th>\n",
              "      <td>0.0</td>\n",
              "      <td>0.0</td>\n",
              "      <td>0.0</td>\n",
              "      <td>0.0</td>\n",
              "      <td>0.0</td>\n",
              "      <td>0.0</td>\n",
              "      <td>0.0</td>\n",
              "      <td>0.0</td>\n",
              "      <td>0.0</td>\n",
              "      <td>0.0</td>\n",
              "      <td>...</td>\n",
              "      <td>0.0</td>\n",
              "      <td>0.0</td>\n",
              "      <td>0.0</td>\n",
              "      <td>0.0</td>\n",
              "      <td>0.0</td>\n",
              "      <td>0.0</td>\n",
              "      <td>952.0</td>\n",
              "      <td>0.0</td>\n",
              "      <td>0.0</td>\n",
              "      <td>0.0</td>\n",
              "    </tr>\n",
              "  </tbody>\n",
              "</table>\n",
              "<p>1000 rows × 5000 columns</p>\n",
              "</div>\n",
              "    <div class=\"colab-df-buttons\">\n",
              "\n",
              "  <div class=\"colab-df-container\">\n",
              "    <button class=\"colab-df-convert\" onclick=\"convertToInteractive('df-3652f70f-d95f-4769-ad29-7ae37c9e7885')\"\n",
              "            title=\"Convert this dataframe to an interactive table.\"\n",
              "            style=\"display:none;\">\n",
              "\n",
              "  <svg xmlns=\"http://www.w3.org/2000/svg\" height=\"24px\" viewBox=\"0 -960 960 960\">\n",
              "    <path d=\"M120-120v-720h720v720H120Zm60-500h600v-160H180v160Zm220 220h160v-160H400v160Zm0 220h160v-160H400v160ZM180-400h160v-160H180v160Zm440 0h160v-160H620v160ZM180-180h160v-160H180v160Zm440 0h160v-160H620v160Z\"/>\n",
              "  </svg>\n",
              "    </button>\n",
              "\n",
              "  <style>\n",
              "    .colab-df-container {\n",
              "      display:flex;\n",
              "      gap: 12px;\n",
              "    }\n",
              "\n",
              "    .colab-df-convert {\n",
              "      background-color: #E8F0FE;\n",
              "      border: none;\n",
              "      border-radius: 50%;\n",
              "      cursor: pointer;\n",
              "      display: none;\n",
              "      fill: #1967D2;\n",
              "      height: 32px;\n",
              "      padding: 0 0 0 0;\n",
              "      width: 32px;\n",
              "    }\n",
              "\n",
              "    .colab-df-convert:hover {\n",
              "      background-color: #E2EBFA;\n",
              "      box-shadow: 0px 1px 2px rgba(60, 64, 67, 0.3), 0px 1px 3px 1px rgba(60, 64, 67, 0.15);\n",
              "      fill: #174EA6;\n",
              "    }\n",
              "\n",
              "    .colab-df-buttons div {\n",
              "      margin-bottom: 4px;\n",
              "    }\n",
              "\n",
              "    [theme=dark] .colab-df-convert {\n",
              "      background-color: #3B4455;\n",
              "      fill: #D2E3FC;\n",
              "    }\n",
              "\n",
              "    [theme=dark] .colab-df-convert:hover {\n",
              "      background-color: #434B5C;\n",
              "      box-shadow: 0px 1px 3px 1px rgba(0, 0, 0, 0.15);\n",
              "      filter: drop-shadow(0px 1px 2px rgba(0, 0, 0, 0.3));\n",
              "      fill: #FFFFFF;\n",
              "    }\n",
              "  </style>\n",
              "\n",
              "    <script>\n",
              "      const buttonEl =\n",
              "        document.querySelector('#df-3652f70f-d95f-4769-ad29-7ae37c9e7885 button.colab-df-convert');\n",
              "      buttonEl.style.display =\n",
              "        google.colab.kernel.accessAllowed ? 'block' : 'none';\n",
              "\n",
              "      async function convertToInteractive(key) {\n",
              "        const element = document.querySelector('#df-3652f70f-d95f-4769-ad29-7ae37c9e7885');\n",
              "        const dataTable =\n",
              "          await google.colab.kernel.invokeFunction('convertToInteractive',\n",
              "                                                    [key], {});\n",
              "        if (!dataTable) return;\n",
              "\n",
              "        const docLinkHtml = 'Like what you see? Visit the ' +\n",
              "          '<a target=\"_blank\" href=https://colab.research.google.com/notebooks/data_table.ipynb>data table notebook</a>'\n",
              "          + ' to learn more about interactive tables.';\n",
              "        element.innerHTML = '';\n",
              "        dataTable['output_type'] = 'display_data';\n",
              "        await google.colab.output.renderOutput(dataTable, element);\n",
              "        const docLink = document.createElement('div');\n",
              "        docLink.innerHTML = docLinkHtml;\n",
              "        element.appendChild(docLink);\n",
              "      }\n",
              "    </script>\n",
              "  </div>\n",
              "\n",
              "\n",
              "<div id=\"df-8b39b1b3-aaed-462b-ac93-49ea97b85b6a\">\n",
              "  <button class=\"colab-df-quickchart\" onclick=\"quickchart('df-8b39b1b3-aaed-462b-ac93-49ea97b85b6a')\"\n",
              "            title=\"Suggest charts\"\n",
              "            style=\"display:none;\">\n",
              "\n",
              "<svg xmlns=\"http://www.w3.org/2000/svg\" height=\"24px\"viewBox=\"0 0 24 24\"\n",
              "     width=\"24px\">\n",
              "    <g>\n",
              "        <path d=\"M19 3H5c-1.1 0-2 .9-2 2v14c0 1.1.9 2 2 2h14c1.1 0 2-.9 2-2V5c0-1.1-.9-2-2-2zM9 17H7v-7h2v7zm4 0h-2V7h2v10zm4 0h-2v-4h2v4z\"/>\n",
              "    </g>\n",
              "</svg>\n",
              "  </button>\n",
              "\n",
              "<style>\n",
              "  .colab-df-quickchart {\n",
              "      --bg-color: #E8F0FE;\n",
              "      --fill-color: #1967D2;\n",
              "      --hover-bg-color: #E2EBFA;\n",
              "      --hover-fill-color: #174EA6;\n",
              "      --disabled-fill-color: #AAA;\n",
              "      --disabled-bg-color: #DDD;\n",
              "  }\n",
              "\n",
              "  [theme=dark] .colab-df-quickchart {\n",
              "      --bg-color: #3B4455;\n",
              "      --fill-color: #D2E3FC;\n",
              "      --hover-bg-color: #434B5C;\n",
              "      --hover-fill-color: #FFFFFF;\n",
              "      --disabled-bg-color: #3B4455;\n",
              "      --disabled-fill-color: #666;\n",
              "  }\n",
              "\n",
              "  .colab-df-quickchart {\n",
              "    background-color: var(--bg-color);\n",
              "    border: none;\n",
              "    border-radius: 50%;\n",
              "    cursor: pointer;\n",
              "    display: none;\n",
              "    fill: var(--fill-color);\n",
              "    height: 32px;\n",
              "    padding: 0;\n",
              "    width: 32px;\n",
              "  }\n",
              "\n",
              "  .colab-df-quickchart:hover {\n",
              "    background-color: var(--hover-bg-color);\n",
              "    box-shadow: 0 1px 2px rgba(60, 64, 67, 0.3), 0 1px 3px 1px rgba(60, 64, 67, 0.15);\n",
              "    fill: var(--button-hover-fill-color);\n",
              "  }\n",
              "\n",
              "  .colab-df-quickchart-complete:disabled,\n",
              "  .colab-df-quickchart-complete:disabled:hover {\n",
              "    background-color: var(--disabled-bg-color);\n",
              "    fill: var(--disabled-fill-color);\n",
              "    box-shadow: none;\n",
              "  }\n",
              "\n",
              "  .colab-df-spinner {\n",
              "    border: 2px solid var(--fill-color);\n",
              "    border-color: transparent;\n",
              "    border-bottom-color: var(--fill-color);\n",
              "    animation:\n",
              "      spin 1s steps(1) infinite;\n",
              "  }\n",
              "\n",
              "  @keyframes spin {\n",
              "    0% {\n",
              "      border-color: transparent;\n",
              "      border-bottom-color: var(--fill-color);\n",
              "      border-left-color: var(--fill-color);\n",
              "    }\n",
              "    20% {\n",
              "      border-color: transparent;\n",
              "      border-left-color: var(--fill-color);\n",
              "      border-top-color: var(--fill-color);\n",
              "    }\n",
              "    30% {\n",
              "      border-color: transparent;\n",
              "      border-left-color: var(--fill-color);\n",
              "      border-top-color: var(--fill-color);\n",
              "      border-right-color: var(--fill-color);\n",
              "    }\n",
              "    40% {\n",
              "      border-color: transparent;\n",
              "      border-right-color: var(--fill-color);\n",
              "      border-top-color: var(--fill-color);\n",
              "    }\n",
              "    60% {\n",
              "      border-color: transparent;\n",
              "      border-right-color: var(--fill-color);\n",
              "    }\n",
              "    80% {\n",
              "      border-color: transparent;\n",
              "      border-right-color: var(--fill-color);\n",
              "      border-bottom-color: var(--fill-color);\n",
              "    }\n",
              "    90% {\n",
              "      border-color: transparent;\n",
              "      border-bottom-color: var(--fill-color);\n",
              "    }\n",
              "  }\n",
              "</style>\n",
              "\n",
              "  <script>\n",
              "    async function quickchart(key) {\n",
              "      const quickchartButtonEl =\n",
              "        document.querySelector('#' + key + ' button');\n",
              "      quickchartButtonEl.disabled = true;  // To prevent multiple clicks.\n",
              "      quickchartButtonEl.classList.add('colab-df-spinner');\n",
              "      try {\n",
              "        const charts = await google.colab.kernel.invokeFunction(\n",
              "            'suggestCharts', [key], {});\n",
              "      } catch (error) {\n",
              "        console.error('Error during call to suggestCharts:', error);\n",
              "      }\n",
              "      quickchartButtonEl.classList.remove('colab-df-spinner');\n",
              "      quickchartButtonEl.classList.add('colab-df-quickchart-complete');\n",
              "    }\n",
              "    (() => {\n",
              "      let quickchartButtonEl =\n",
              "        document.querySelector('#df-8b39b1b3-aaed-462b-ac93-49ea97b85b6a button');\n",
              "      quickchartButtonEl.style.display =\n",
              "        google.colab.kernel.accessAllowed ? 'block' : 'none';\n",
              "    })();\n",
              "  </script>\n",
              "</div>\n",
              "    </div>\n",
              "  </div>\n"
            ]
          },
          "metadata": {},
          "execution_count": 41
        }
      ]
    },
    {
      "cell_type": "markdown",
      "source": [
        "<p>Tiene una 1000 filas, eso esta bastante bien despues de todo es solo el conjunto de validacion</p>"
      ],
      "metadata": {
        "id": "1eQp0P5PpwBh"
      },
      "id": "1eQp0P5PpwBh"
    },
    {
      "cell_type": "code",
      "source": [
        "testing_data"
      ],
      "metadata": {
        "colab": {
          "base_uri": "https://localhost:8080/",
          "height": 424
        },
        "id": "GNA0meJrp5XF",
        "outputId": "43ae3d5b-eae0-4643-a60b-2f6295b23210"
      },
      "id": "GNA0meJrp5XF",
      "execution_count": null,
      "outputs": [
        {
          "output_type": "execute_result",
          "data": {
            "text/plain": [
              "       0     1      2     3     4     5     6      7     8      9     ...  \\\n",
              "0     983.0   0.0  956.0   0.0   0.0   0.0   0.0  520.0   0.0    0.0  ...   \n",
              "1       0.0   0.0    0.0   0.0   0.0   0.0   0.0    0.0   0.0  695.0  ...   \n",
              "2       0.0   0.0  703.0   0.0   0.0   0.0   0.0    0.0   0.0    0.0  ...   \n",
              "3       0.0   0.0    0.0   0.0   0.0   0.0   0.0    0.0   0.0    0.0  ...   \n",
              "4       0.0   0.0    0.0   0.0   0.0   0.0   0.0  980.0   0.0  976.0  ...   \n",
              "...     ...   ...    ...   ...   ...   ...   ...    ...   ...    ...  ...   \n",
              "6495    0.0   0.0    0.0   0.0   0.0   0.0   0.0  773.0   0.0    0.0  ...   \n",
              "6496  712.0   0.0    0.0   0.0   0.0   0.0   0.0  976.0   0.0    0.0  ...   \n",
              "6497    0.0   0.0    0.0   0.0   0.0   0.0   0.0    0.0   0.0  983.0  ...   \n",
              "6498    0.0   0.0    0.0   0.0   0.0   0.0   0.0    0.0   0.0    0.0  ...   \n",
              "6499    0.0   0.0    0.0   0.0   0.0   0.0   0.0    0.0   0.0    0.0  ...   \n",
              "\n",
              "       4990   4991  4992   4993   4994  4995   4996  4997   4998   4999  \n",
              "0       0.0    0.0   0.0  968.0    0.0   0.0    0.0   0.0    0.0    0.0  \n",
              "1     960.0    0.0   0.0  687.0    0.0   0.0    0.0   0.0    0.0    0.0  \n",
              "2       0.0    0.0   0.0  758.0    0.0   0.0  983.0   0.0    0.0    0.0  \n",
              "3     987.0    0.0   0.0    0.0    0.0   0.0  498.0   0.0    0.0    0.0  \n",
              "4       0.0    0.0   0.0    0.0    0.0   0.0    0.0   0.0    0.0    0.0  \n",
              "...     ...    ...   ...    ...    ...   ...    ...   ...    ...    ...  \n",
              "6495    0.0  921.0   0.0  538.0  831.0   0.0  976.0   0.0  769.0    0.0  \n",
              "6496    0.0    0.0   0.0    0.0  987.0   0.0    0.0   0.0    0.0  906.0  \n",
              "6497    0.0    0.0   0.0  812.0    0.0   0.0    0.0   0.0    0.0    0.0  \n",
              "6498  995.0    0.0   0.0  508.0    0.0   0.0    0.0   0.0  991.0    0.0  \n",
              "6499  968.0    0.0   0.0  976.0    0.0   0.0    0.0   0.0    0.0    0.0  \n",
              "\n",
              "[6500 rows x 5000 columns]"
            ],
            "text/html": [
              "\n",
              "  <div id=\"df-e5d12118-f8e5-4248-a343-a9c106087ad8\" class=\"colab-df-container\">\n",
              "    <div>\n",
              "<style scoped>\n",
              "    .dataframe tbody tr th:only-of-type {\n",
              "        vertical-align: middle;\n",
              "    }\n",
              "\n",
              "    .dataframe tbody tr th {\n",
              "        vertical-align: top;\n",
              "    }\n",
              "\n",
              "    .dataframe thead th {\n",
              "        text-align: right;\n",
              "    }\n",
              "</style>\n",
              "<table border=\"1\" class=\"dataframe\">\n",
              "  <thead>\n",
              "    <tr style=\"text-align: right;\">\n",
              "      <th></th>\n",
              "      <th>0</th>\n",
              "      <th>1</th>\n",
              "      <th>2</th>\n",
              "      <th>3</th>\n",
              "      <th>4</th>\n",
              "      <th>5</th>\n",
              "      <th>6</th>\n",
              "      <th>7</th>\n",
              "      <th>8</th>\n",
              "      <th>9</th>\n",
              "      <th>...</th>\n",
              "      <th>4990</th>\n",
              "      <th>4991</th>\n",
              "      <th>4992</th>\n",
              "      <th>4993</th>\n",
              "      <th>4994</th>\n",
              "      <th>4995</th>\n",
              "      <th>4996</th>\n",
              "      <th>4997</th>\n",
              "      <th>4998</th>\n",
              "      <th>4999</th>\n",
              "    </tr>\n",
              "  </thead>\n",
              "  <tbody>\n",
              "    <tr>\n",
              "      <th>0</th>\n",
              "      <td>983.0</td>\n",
              "      <td>0.0</td>\n",
              "      <td>956.0</td>\n",
              "      <td>0.0</td>\n",
              "      <td>0.0</td>\n",
              "      <td>0.0</td>\n",
              "      <td>0.0</td>\n",
              "      <td>520.0</td>\n",
              "      <td>0.0</td>\n",
              "      <td>0.0</td>\n",
              "      <td>...</td>\n",
              "      <td>0.0</td>\n",
              "      <td>0.0</td>\n",
              "      <td>0.0</td>\n",
              "      <td>968.0</td>\n",
              "      <td>0.0</td>\n",
              "      <td>0.0</td>\n",
              "      <td>0.0</td>\n",
              "      <td>0.0</td>\n",
              "      <td>0.0</td>\n",
              "      <td>0.0</td>\n",
              "    </tr>\n",
              "    <tr>\n",
              "      <th>1</th>\n",
              "      <td>0.0</td>\n",
              "      <td>0.0</td>\n",
              "      <td>0.0</td>\n",
              "      <td>0.0</td>\n",
              "      <td>0.0</td>\n",
              "      <td>0.0</td>\n",
              "      <td>0.0</td>\n",
              "      <td>0.0</td>\n",
              "      <td>0.0</td>\n",
              "      <td>695.0</td>\n",
              "      <td>...</td>\n",
              "      <td>960.0</td>\n",
              "      <td>0.0</td>\n",
              "      <td>0.0</td>\n",
              "      <td>687.0</td>\n",
              "      <td>0.0</td>\n",
              "      <td>0.0</td>\n",
              "      <td>0.0</td>\n",
              "      <td>0.0</td>\n",
              "      <td>0.0</td>\n",
              "      <td>0.0</td>\n",
              "    </tr>\n",
              "    <tr>\n",
              "      <th>2</th>\n",
              "      <td>0.0</td>\n",
              "      <td>0.0</td>\n",
              "      <td>703.0</td>\n",
              "      <td>0.0</td>\n",
              "      <td>0.0</td>\n",
              "      <td>0.0</td>\n",
              "      <td>0.0</td>\n",
              "      <td>0.0</td>\n",
              "      <td>0.0</td>\n",
              "      <td>0.0</td>\n",
              "      <td>...</td>\n",
              "      <td>0.0</td>\n",
              "      <td>0.0</td>\n",
              "      <td>0.0</td>\n",
              "      <td>758.0</td>\n",
              "      <td>0.0</td>\n",
              "      <td>0.0</td>\n",
              "      <td>983.0</td>\n",
              "      <td>0.0</td>\n",
              "      <td>0.0</td>\n",
              "      <td>0.0</td>\n",
              "    </tr>\n",
              "    <tr>\n",
              "      <th>3</th>\n",
              "      <td>0.0</td>\n",
              "      <td>0.0</td>\n",
              "      <td>0.0</td>\n",
              "      <td>0.0</td>\n",
              "      <td>0.0</td>\n",
              "      <td>0.0</td>\n",
              "      <td>0.0</td>\n",
              "      <td>0.0</td>\n",
              "      <td>0.0</td>\n",
              "      <td>0.0</td>\n",
              "      <td>...</td>\n",
              "      <td>987.0</td>\n",
              "      <td>0.0</td>\n",
              "      <td>0.0</td>\n",
              "      <td>0.0</td>\n",
              "      <td>0.0</td>\n",
              "      <td>0.0</td>\n",
              "      <td>498.0</td>\n",
              "      <td>0.0</td>\n",
              "      <td>0.0</td>\n",
              "      <td>0.0</td>\n",
              "    </tr>\n",
              "    <tr>\n",
              "      <th>4</th>\n",
              "      <td>0.0</td>\n",
              "      <td>0.0</td>\n",
              "      <td>0.0</td>\n",
              "      <td>0.0</td>\n",
              "      <td>0.0</td>\n",
              "      <td>0.0</td>\n",
              "      <td>0.0</td>\n",
              "      <td>980.0</td>\n",
              "      <td>0.0</td>\n",
              "      <td>976.0</td>\n",
              "      <td>...</td>\n",
              "      <td>0.0</td>\n",
              "      <td>0.0</td>\n",
              "      <td>0.0</td>\n",
              "      <td>0.0</td>\n",
              "      <td>0.0</td>\n",
              "      <td>0.0</td>\n",
              "      <td>0.0</td>\n",
              "      <td>0.0</td>\n",
              "      <td>0.0</td>\n",
              "      <td>0.0</td>\n",
              "    </tr>\n",
              "    <tr>\n",
              "      <th>...</th>\n",
              "      <td>...</td>\n",
              "      <td>...</td>\n",
              "      <td>...</td>\n",
              "      <td>...</td>\n",
              "      <td>...</td>\n",
              "      <td>...</td>\n",
              "      <td>...</td>\n",
              "      <td>...</td>\n",
              "      <td>...</td>\n",
              "      <td>...</td>\n",
              "      <td>...</td>\n",
              "      <td>...</td>\n",
              "      <td>...</td>\n",
              "      <td>...</td>\n",
              "      <td>...</td>\n",
              "      <td>...</td>\n",
              "      <td>...</td>\n",
              "      <td>...</td>\n",
              "      <td>...</td>\n",
              "      <td>...</td>\n",
              "      <td>...</td>\n",
              "    </tr>\n",
              "    <tr>\n",
              "      <th>6495</th>\n",
              "      <td>0.0</td>\n",
              "      <td>0.0</td>\n",
              "      <td>0.0</td>\n",
              "      <td>0.0</td>\n",
              "      <td>0.0</td>\n",
              "      <td>0.0</td>\n",
              "      <td>0.0</td>\n",
              "      <td>773.0</td>\n",
              "      <td>0.0</td>\n",
              "      <td>0.0</td>\n",
              "      <td>...</td>\n",
              "      <td>0.0</td>\n",
              "      <td>921.0</td>\n",
              "      <td>0.0</td>\n",
              "      <td>538.0</td>\n",
              "      <td>831.0</td>\n",
              "      <td>0.0</td>\n",
              "      <td>976.0</td>\n",
              "      <td>0.0</td>\n",
              "      <td>769.0</td>\n",
              "      <td>0.0</td>\n",
              "    </tr>\n",
              "    <tr>\n",
              "      <th>6496</th>\n",
              "      <td>712.0</td>\n",
              "      <td>0.0</td>\n",
              "      <td>0.0</td>\n",
              "      <td>0.0</td>\n",
              "      <td>0.0</td>\n",
              "      <td>0.0</td>\n",
              "      <td>0.0</td>\n",
              "      <td>976.0</td>\n",
              "      <td>0.0</td>\n",
              "      <td>0.0</td>\n",
              "      <td>...</td>\n",
              "      <td>0.0</td>\n",
              "      <td>0.0</td>\n",
              "      <td>0.0</td>\n",
              "      <td>0.0</td>\n",
              "      <td>987.0</td>\n",
              "      <td>0.0</td>\n",
              "      <td>0.0</td>\n",
              "      <td>0.0</td>\n",
              "      <td>0.0</td>\n",
              "      <td>906.0</td>\n",
              "    </tr>\n",
              "    <tr>\n",
              "      <th>6497</th>\n",
              "      <td>0.0</td>\n",
              "      <td>0.0</td>\n",
              "      <td>0.0</td>\n",
              "      <td>0.0</td>\n",
              "      <td>0.0</td>\n",
              "      <td>0.0</td>\n",
              "      <td>0.0</td>\n",
              "      <td>0.0</td>\n",
              "      <td>0.0</td>\n",
              "      <td>983.0</td>\n",
              "      <td>...</td>\n",
              "      <td>0.0</td>\n",
              "      <td>0.0</td>\n",
              "      <td>0.0</td>\n",
              "      <td>812.0</td>\n",
              "      <td>0.0</td>\n",
              "      <td>0.0</td>\n",
              "      <td>0.0</td>\n",
              "      <td>0.0</td>\n",
              "      <td>0.0</td>\n",
              "      <td>0.0</td>\n",
              "    </tr>\n",
              "    <tr>\n",
              "      <th>6498</th>\n",
              "      <td>0.0</td>\n",
              "      <td>0.0</td>\n",
              "      <td>0.0</td>\n",
              "      <td>0.0</td>\n",
              "      <td>0.0</td>\n",
              "      <td>0.0</td>\n",
              "      <td>0.0</td>\n",
              "      <td>0.0</td>\n",
              "      <td>0.0</td>\n",
              "      <td>0.0</td>\n",
              "      <td>...</td>\n",
              "      <td>995.0</td>\n",
              "      <td>0.0</td>\n",
              "      <td>0.0</td>\n",
              "      <td>508.0</td>\n",
              "      <td>0.0</td>\n",
              "      <td>0.0</td>\n",
              "      <td>0.0</td>\n",
              "      <td>0.0</td>\n",
              "      <td>991.0</td>\n",
              "      <td>0.0</td>\n",
              "    </tr>\n",
              "    <tr>\n",
              "      <th>6499</th>\n",
              "      <td>0.0</td>\n",
              "      <td>0.0</td>\n",
              "      <td>0.0</td>\n",
              "      <td>0.0</td>\n",
              "      <td>0.0</td>\n",
              "      <td>0.0</td>\n",
              "      <td>0.0</td>\n",
              "      <td>0.0</td>\n",
              "      <td>0.0</td>\n",
              "      <td>0.0</td>\n",
              "      <td>...</td>\n",
              "      <td>968.0</td>\n",
              "      <td>0.0</td>\n",
              "      <td>0.0</td>\n",
              "      <td>976.0</td>\n",
              "      <td>0.0</td>\n",
              "      <td>0.0</td>\n",
              "      <td>0.0</td>\n",
              "      <td>0.0</td>\n",
              "      <td>0.0</td>\n",
              "      <td>0.0</td>\n",
              "    </tr>\n",
              "  </tbody>\n",
              "</table>\n",
              "<p>6500 rows × 5000 columns</p>\n",
              "</div>\n",
              "    <div class=\"colab-df-buttons\">\n",
              "\n",
              "  <div class=\"colab-df-container\">\n",
              "    <button class=\"colab-df-convert\" onclick=\"convertToInteractive('df-e5d12118-f8e5-4248-a343-a9c106087ad8')\"\n",
              "            title=\"Convert this dataframe to an interactive table.\"\n",
              "            style=\"display:none;\">\n",
              "\n",
              "  <svg xmlns=\"http://www.w3.org/2000/svg\" height=\"24px\" viewBox=\"0 -960 960 960\">\n",
              "    <path d=\"M120-120v-720h720v720H120Zm60-500h600v-160H180v160Zm220 220h160v-160H400v160Zm0 220h160v-160H400v160ZM180-400h160v-160H180v160Zm440 0h160v-160H620v160ZM180-180h160v-160H180v160Zm440 0h160v-160H620v160Z\"/>\n",
              "  </svg>\n",
              "    </button>\n",
              "\n",
              "  <style>\n",
              "    .colab-df-container {\n",
              "      display:flex;\n",
              "      gap: 12px;\n",
              "    }\n",
              "\n",
              "    .colab-df-convert {\n",
              "      background-color: #E8F0FE;\n",
              "      border: none;\n",
              "      border-radius: 50%;\n",
              "      cursor: pointer;\n",
              "      display: none;\n",
              "      fill: #1967D2;\n",
              "      height: 32px;\n",
              "      padding: 0 0 0 0;\n",
              "      width: 32px;\n",
              "    }\n",
              "\n",
              "    .colab-df-convert:hover {\n",
              "      background-color: #E2EBFA;\n",
              "      box-shadow: 0px 1px 2px rgba(60, 64, 67, 0.3), 0px 1px 3px 1px rgba(60, 64, 67, 0.15);\n",
              "      fill: #174EA6;\n",
              "    }\n",
              "\n",
              "    .colab-df-buttons div {\n",
              "      margin-bottom: 4px;\n",
              "    }\n",
              "\n",
              "    [theme=dark] .colab-df-convert {\n",
              "      background-color: #3B4455;\n",
              "      fill: #D2E3FC;\n",
              "    }\n",
              "\n",
              "    [theme=dark] .colab-df-convert:hover {\n",
              "      background-color: #434B5C;\n",
              "      box-shadow: 0px 1px 3px 1px rgba(0, 0, 0, 0.15);\n",
              "      filter: drop-shadow(0px 1px 2px rgba(0, 0, 0, 0.3));\n",
              "      fill: #FFFFFF;\n",
              "    }\n",
              "  </style>\n",
              "\n",
              "    <script>\n",
              "      const buttonEl =\n",
              "        document.querySelector('#df-e5d12118-f8e5-4248-a343-a9c106087ad8 button.colab-df-convert');\n",
              "      buttonEl.style.display =\n",
              "        google.colab.kernel.accessAllowed ? 'block' : 'none';\n",
              "\n",
              "      async function convertToInteractive(key) {\n",
              "        const element = document.querySelector('#df-e5d12118-f8e5-4248-a343-a9c106087ad8');\n",
              "        const dataTable =\n",
              "          await google.colab.kernel.invokeFunction('convertToInteractive',\n",
              "                                                    [key], {});\n",
              "        if (!dataTable) return;\n",
              "\n",
              "        const docLinkHtml = 'Like what you see? Visit the ' +\n",
              "          '<a target=\"_blank\" href=https://colab.research.google.com/notebooks/data_table.ipynb>data table notebook</a>'\n",
              "          + ' to learn more about interactive tables.';\n",
              "        element.innerHTML = '';\n",
              "        dataTable['output_type'] = 'display_data';\n",
              "        await google.colab.output.renderOutput(dataTable, element);\n",
              "        const docLink = document.createElement('div');\n",
              "        docLink.innerHTML = docLinkHtml;\n",
              "        element.appendChild(docLink);\n",
              "      }\n",
              "    </script>\n",
              "  </div>\n",
              "\n",
              "\n",
              "<div id=\"df-1a8f1876-3dbf-496d-895a-c66a7d42a18a\">\n",
              "  <button class=\"colab-df-quickchart\" onclick=\"quickchart('df-1a8f1876-3dbf-496d-895a-c66a7d42a18a')\"\n",
              "            title=\"Suggest charts\"\n",
              "            style=\"display:none;\">\n",
              "\n",
              "<svg xmlns=\"http://www.w3.org/2000/svg\" height=\"24px\"viewBox=\"0 0 24 24\"\n",
              "     width=\"24px\">\n",
              "    <g>\n",
              "        <path d=\"M19 3H5c-1.1 0-2 .9-2 2v14c0 1.1.9 2 2 2h14c1.1 0 2-.9 2-2V5c0-1.1-.9-2-2-2zM9 17H7v-7h2v7zm4 0h-2V7h2v10zm4 0h-2v-4h2v4z\"/>\n",
              "    </g>\n",
              "</svg>\n",
              "  </button>\n",
              "\n",
              "<style>\n",
              "  .colab-df-quickchart {\n",
              "      --bg-color: #E8F0FE;\n",
              "      --fill-color: #1967D2;\n",
              "      --hover-bg-color: #E2EBFA;\n",
              "      --hover-fill-color: #174EA6;\n",
              "      --disabled-fill-color: #AAA;\n",
              "      --disabled-bg-color: #DDD;\n",
              "  }\n",
              "\n",
              "  [theme=dark] .colab-df-quickchart {\n",
              "      --bg-color: #3B4455;\n",
              "      --fill-color: #D2E3FC;\n",
              "      --hover-bg-color: #434B5C;\n",
              "      --hover-fill-color: #FFFFFF;\n",
              "      --disabled-bg-color: #3B4455;\n",
              "      --disabled-fill-color: #666;\n",
              "  }\n",
              "\n",
              "  .colab-df-quickchart {\n",
              "    background-color: var(--bg-color);\n",
              "    border: none;\n",
              "    border-radius: 50%;\n",
              "    cursor: pointer;\n",
              "    display: none;\n",
              "    fill: var(--fill-color);\n",
              "    height: 32px;\n",
              "    padding: 0;\n",
              "    width: 32px;\n",
              "  }\n",
              "\n",
              "  .colab-df-quickchart:hover {\n",
              "    background-color: var(--hover-bg-color);\n",
              "    box-shadow: 0 1px 2px rgba(60, 64, 67, 0.3), 0 1px 3px 1px rgba(60, 64, 67, 0.15);\n",
              "    fill: var(--button-hover-fill-color);\n",
              "  }\n",
              "\n",
              "  .colab-df-quickchart-complete:disabled,\n",
              "  .colab-df-quickchart-complete:disabled:hover {\n",
              "    background-color: var(--disabled-bg-color);\n",
              "    fill: var(--disabled-fill-color);\n",
              "    box-shadow: none;\n",
              "  }\n",
              "\n",
              "  .colab-df-spinner {\n",
              "    border: 2px solid var(--fill-color);\n",
              "    border-color: transparent;\n",
              "    border-bottom-color: var(--fill-color);\n",
              "    animation:\n",
              "      spin 1s steps(1) infinite;\n",
              "  }\n",
              "\n",
              "  @keyframes spin {\n",
              "    0% {\n",
              "      border-color: transparent;\n",
              "      border-bottom-color: var(--fill-color);\n",
              "      border-left-color: var(--fill-color);\n",
              "    }\n",
              "    20% {\n",
              "      border-color: transparent;\n",
              "      border-left-color: var(--fill-color);\n",
              "      border-top-color: var(--fill-color);\n",
              "    }\n",
              "    30% {\n",
              "      border-color: transparent;\n",
              "      border-left-color: var(--fill-color);\n",
              "      border-top-color: var(--fill-color);\n",
              "      border-right-color: var(--fill-color);\n",
              "    }\n",
              "    40% {\n",
              "      border-color: transparent;\n",
              "      border-right-color: var(--fill-color);\n",
              "      border-top-color: var(--fill-color);\n",
              "    }\n",
              "    60% {\n",
              "      border-color: transparent;\n",
              "      border-right-color: var(--fill-color);\n",
              "    }\n",
              "    80% {\n",
              "      border-color: transparent;\n",
              "      border-right-color: var(--fill-color);\n",
              "      border-bottom-color: var(--fill-color);\n",
              "    }\n",
              "    90% {\n",
              "      border-color: transparent;\n",
              "      border-bottom-color: var(--fill-color);\n",
              "    }\n",
              "  }\n",
              "</style>\n",
              "\n",
              "  <script>\n",
              "    async function quickchart(key) {\n",
              "      const quickchartButtonEl =\n",
              "        document.querySelector('#' + key + ' button');\n",
              "      quickchartButtonEl.disabled = true;  // To prevent multiple clicks.\n",
              "      quickchartButtonEl.classList.add('colab-df-spinner');\n",
              "      try {\n",
              "        const charts = await google.colab.kernel.invokeFunction(\n",
              "            'suggestCharts', [key], {});\n",
              "      } catch (error) {\n",
              "        console.error('Error during call to suggestCharts:', error);\n",
              "      }\n",
              "      quickchartButtonEl.classList.remove('colab-df-spinner');\n",
              "      quickchartButtonEl.classList.add('colab-df-quickchart-complete');\n",
              "    }\n",
              "    (() => {\n",
              "      let quickchartButtonEl =\n",
              "        document.querySelector('#df-1a8f1876-3dbf-496d-895a-c66a7d42a18a button');\n",
              "      quickchartButtonEl.style.display =\n",
              "        google.colab.kernel.accessAllowed ? 'block' : 'none';\n",
              "    })();\n",
              "  </script>\n",
              "</div>\n",
              "    </div>\n",
              "  </div>\n"
            ]
          },
          "metadata": {},
          "execution_count": 42
        }
      ]
    },
    {
      "cell_type": "markdown",
      "source": [
        "<p>Nuestro conjunto de datos de prueba tiene unas 6500 filas, eso vamos a cambiarlo ya que es el conjunto de datos de entrenamiento el que debe tener mas, vamos a pasar 500 filas del data frame \"testing_data\" al data frame \"training_data\" para que asi el conjunto de datos de prueba tenga mas datos</p>"
      ],
      "metadata": {
        "id": "0clPnrgLp9VO"
      },
      "id": "0clPnrgLp9VO"
    },
    {
      "cell_type": "code",
      "source": [
        "training_data=pd.concat([training_data, testing_data.sample(n=500)])"
      ],
      "metadata": {
        "id": "b4vRw13jqJGO"
      },
      "id": "b4vRw13jqJGO",
      "execution_count": null,
      "outputs": []
    },
    {
      "cell_type": "code",
      "source": [
        "training_data.sort_index()"
      ],
      "metadata": {
        "colab": {
          "base_uri": "https://localhost:8080/",
          "height": 424
        },
        "id": "rpNbj1PPrpD9",
        "outputId": "c084a62c-fa90-4646-c768-1134e0b3572f"
      },
      "id": "rpNbj1PPrpD9",
      "execution_count": null,
      "outputs": [
        {
          "output_type": "execute_result",
          "data": {
            "text/plain": [
              "          0    1      2    3    4    5    6      7    8      9  ...   4991  \\\n",
              "0     550.0  0.0  495.0  0.0  0.0  0.0  0.0  976.0  0.0    0.0  ...    0.0   \n",
              "1       0.0  0.0    0.0  0.0  0.0  0.0  0.0  976.0  0.0    0.0  ...  475.0   \n",
              "2       0.0  0.0    0.0  0.0  0.0  0.0  0.0    0.0  0.0    0.0  ...    0.0   \n",
              "3       0.0  0.0  742.0  0.0  0.0  0.0  0.0  684.0  0.0  956.0  ...    0.0   \n",
              "4       0.0  0.0    0.0  0.0  0.0  0.0  0.0  608.0  0.0  979.0  ...    0.0   \n",
              "...     ...  ...    ...  ...  ...  ...  ...    ...  ...    ...  ...    ...   \n",
              "6471    0.0  0.0    0.0  0.0  0.0  0.0  0.0  991.0  0.0    0.0  ...    0.0   \n",
              "6473    0.0  0.0    0.0  0.0  0.0  0.0  0.0  976.0  0.0    0.0  ...    0.0   \n",
              "6475    0.0  0.0  976.0  0.0  0.0  0.0  0.0  991.0  0.0  556.0  ...    0.0   \n",
              "6480    0.0  0.0    0.0  0.0  0.0  0.0  0.0  983.0  0.0  983.0  ...    0.0   \n",
              "6484    0.0  0.0    0.0  0.0  0.0  0.0  0.0    0.0  0.0    0.0  ...    0.0   \n",
              "\n",
              "      4992   4993   4994  4995   4996  4997  4998   4999  numero  \n",
              "0      0.0  991.0  991.0   0.0    0.0   0.0   0.0  983.0     1.0  \n",
              "1      0.0  991.0    0.0   0.0  991.0   0.0   0.0    0.0     0.0  \n",
              "2      0.0    0.0    0.0   0.0    0.0   0.0   0.0    0.0     1.0  \n",
              "3      0.0    0.0    0.0   0.0  674.0   0.0   0.0  838.0     1.0  \n",
              "4      0.0  828.0    0.0   0.0    0.0   0.0   0.0    0.0     1.0  \n",
              "...    ...    ...    ...   ...    ...   ...   ...    ...     ...  \n",
              "6471   0.0  753.0    0.0   0.0  734.0   0.0   0.0    0.0     NaN  \n",
              "6473   0.0  983.0    0.0   0.0    0.0   0.0   0.0    0.0     NaN  \n",
              "6475   0.0    0.0    0.0   0.0    0.0   0.0   0.0  475.0     NaN  \n",
              "6480   0.0    0.0  987.0   0.0  983.0   0.0   0.0  976.0     NaN  \n",
              "6484   0.0    0.0    0.0   0.0  757.0   0.0   0.0    0.0     NaN  \n",
              "\n",
              "[6500 rows x 5001 columns]"
            ],
            "text/html": [
              "\n",
              "  <div id=\"df-3133fdcc-d695-495c-9486-1effaa0acd2d\" class=\"colab-df-container\">\n",
              "    <div>\n",
              "<style scoped>\n",
              "    .dataframe tbody tr th:only-of-type {\n",
              "        vertical-align: middle;\n",
              "    }\n",
              "\n",
              "    .dataframe tbody tr th {\n",
              "        vertical-align: top;\n",
              "    }\n",
              "\n",
              "    .dataframe thead th {\n",
              "        text-align: right;\n",
              "    }\n",
              "</style>\n",
              "<table border=\"1\" class=\"dataframe\">\n",
              "  <thead>\n",
              "    <tr style=\"text-align: right;\">\n",
              "      <th></th>\n",
              "      <th>0</th>\n",
              "      <th>1</th>\n",
              "      <th>2</th>\n",
              "      <th>3</th>\n",
              "      <th>4</th>\n",
              "      <th>5</th>\n",
              "      <th>6</th>\n",
              "      <th>7</th>\n",
              "      <th>8</th>\n",
              "      <th>9</th>\n",
              "      <th>...</th>\n",
              "      <th>4991</th>\n",
              "      <th>4992</th>\n",
              "      <th>4993</th>\n",
              "      <th>4994</th>\n",
              "      <th>4995</th>\n",
              "      <th>4996</th>\n",
              "      <th>4997</th>\n",
              "      <th>4998</th>\n",
              "      <th>4999</th>\n",
              "      <th>numero</th>\n",
              "    </tr>\n",
              "  </thead>\n",
              "  <tbody>\n",
              "    <tr>\n",
              "      <th>0</th>\n",
              "      <td>550.0</td>\n",
              "      <td>0.0</td>\n",
              "      <td>495.0</td>\n",
              "      <td>0.0</td>\n",
              "      <td>0.0</td>\n",
              "      <td>0.0</td>\n",
              "      <td>0.0</td>\n",
              "      <td>976.0</td>\n",
              "      <td>0.0</td>\n",
              "      <td>0.0</td>\n",
              "      <td>...</td>\n",
              "      <td>0.0</td>\n",
              "      <td>0.0</td>\n",
              "      <td>991.0</td>\n",
              "      <td>991.0</td>\n",
              "      <td>0.0</td>\n",
              "      <td>0.0</td>\n",
              "      <td>0.0</td>\n",
              "      <td>0.0</td>\n",
              "      <td>983.0</td>\n",
              "      <td>1.0</td>\n",
              "    </tr>\n",
              "    <tr>\n",
              "      <th>1</th>\n",
              "      <td>0.0</td>\n",
              "      <td>0.0</td>\n",
              "      <td>0.0</td>\n",
              "      <td>0.0</td>\n",
              "      <td>0.0</td>\n",
              "      <td>0.0</td>\n",
              "      <td>0.0</td>\n",
              "      <td>976.0</td>\n",
              "      <td>0.0</td>\n",
              "      <td>0.0</td>\n",
              "      <td>...</td>\n",
              "      <td>475.0</td>\n",
              "      <td>0.0</td>\n",
              "      <td>991.0</td>\n",
              "      <td>0.0</td>\n",
              "      <td>0.0</td>\n",
              "      <td>991.0</td>\n",
              "      <td>0.0</td>\n",
              "      <td>0.0</td>\n",
              "      <td>0.0</td>\n",
              "      <td>0.0</td>\n",
              "    </tr>\n",
              "    <tr>\n",
              "      <th>2</th>\n",
              "      <td>0.0</td>\n",
              "      <td>0.0</td>\n",
              "      <td>0.0</td>\n",
              "      <td>0.0</td>\n",
              "      <td>0.0</td>\n",
              "      <td>0.0</td>\n",
              "      <td>0.0</td>\n",
              "      <td>0.0</td>\n",
              "      <td>0.0</td>\n",
              "      <td>0.0</td>\n",
              "      <td>...</td>\n",
              "      <td>0.0</td>\n",
              "      <td>0.0</td>\n",
              "      <td>0.0</td>\n",
              "      <td>0.0</td>\n",
              "      <td>0.0</td>\n",
              "      <td>0.0</td>\n",
              "      <td>0.0</td>\n",
              "      <td>0.0</td>\n",
              "      <td>0.0</td>\n",
              "      <td>1.0</td>\n",
              "    </tr>\n",
              "    <tr>\n",
              "      <th>3</th>\n",
              "      <td>0.0</td>\n",
              "      <td>0.0</td>\n",
              "      <td>742.0</td>\n",
              "      <td>0.0</td>\n",
              "      <td>0.0</td>\n",
              "      <td>0.0</td>\n",
              "      <td>0.0</td>\n",
              "      <td>684.0</td>\n",
              "      <td>0.0</td>\n",
              "      <td>956.0</td>\n",
              "      <td>...</td>\n",
              "      <td>0.0</td>\n",
              "      <td>0.0</td>\n",
              "      <td>0.0</td>\n",
              "      <td>0.0</td>\n",
              "      <td>0.0</td>\n",
              "      <td>674.0</td>\n",
              "      <td>0.0</td>\n",
              "      <td>0.0</td>\n",
              "      <td>838.0</td>\n",
              "      <td>1.0</td>\n",
              "    </tr>\n",
              "    <tr>\n",
              "      <th>4</th>\n",
              "      <td>0.0</td>\n",
              "      <td>0.0</td>\n",
              "      <td>0.0</td>\n",
              "      <td>0.0</td>\n",
              "      <td>0.0</td>\n",
              "      <td>0.0</td>\n",
              "      <td>0.0</td>\n",
              "      <td>608.0</td>\n",
              "      <td>0.0</td>\n",
              "      <td>979.0</td>\n",
              "      <td>...</td>\n",
              "      <td>0.0</td>\n",
              "      <td>0.0</td>\n",
              "      <td>828.0</td>\n",
              "      <td>0.0</td>\n",
              "      <td>0.0</td>\n",
              "      <td>0.0</td>\n",
              "      <td>0.0</td>\n",
              "      <td>0.0</td>\n",
              "      <td>0.0</td>\n",
              "      <td>1.0</td>\n",
              "    </tr>\n",
              "    <tr>\n",
              "      <th>...</th>\n",
              "      <td>...</td>\n",
              "      <td>...</td>\n",
              "      <td>...</td>\n",
              "      <td>...</td>\n",
              "      <td>...</td>\n",
              "      <td>...</td>\n",
              "      <td>...</td>\n",
              "      <td>...</td>\n",
              "      <td>...</td>\n",
              "      <td>...</td>\n",
              "      <td>...</td>\n",
              "      <td>...</td>\n",
              "      <td>...</td>\n",
              "      <td>...</td>\n",
              "      <td>...</td>\n",
              "      <td>...</td>\n",
              "      <td>...</td>\n",
              "      <td>...</td>\n",
              "      <td>...</td>\n",
              "      <td>...</td>\n",
              "      <td>...</td>\n",
              "    </tr>\n",
              "    <tr>\n",
              "      <th>6471</th>\n",
              "      <td>0.0</td>\n",
              "      <td>0.0</td>\n",
              "      <td>0.0</td>\n",
              "      <td>0.0</td>\n",
              "      <td>0.0</td>\n",
              "      <td>0.0</td>\n",
              "      <td>0.0</td>\n",
              "      <td>991.0</td>\n",
              "      <td>0.0</td>\n",
              "      <td>0.0</td>\n",
              "      <td>...</td>\n",
              "      <td>0.0</td>\n",
              "      <td>0.0</td>\n",
              "      <td>753.0</td>\n",
              "      <td>0.0</td>\n",
              "      <td>0.0</td>\n",
              "      <td>734.0</td>\n",
              "      <td>0.0</td>\n",
              "      <td>0.0</td>\n",
              "      <td>0.0</td>\n",
              "      <td>NaN</td>\n",
              "    </tr>\n",
              "    <tr>\n",
              "      <th>6473</th>\n",
              "      <td>0.0</td>\n",
              "      <td>0.0</td>\n",
              "      <td>0.0</td>\n",
              "      <td>0.0</td>\n",
              "      <td>0.0</td>\n",
              "      <td>0.0</td>\n",
              "      <td>0.0</td>\n",
              "      <td>976.0</td>\n",
              "      <td>0.0</td>\n",
              "      <td>0.0</td>\n",
              "      <td>...</td>\n",
              "      <td>0.0</td>\n",
              "      <td>0.0</td>\n",
              "      <td>983.0</td>\n",
              "      <td>0.0</td>\n",
              "      <td>0.0</td>\n",
              "      <td>0.0</td>\n",
              "      <td>0.0</td>\n",
              "      <td>0.0</td>\n",
              "      <td>0.0</td>\n",
              "      <td>NaN</td>\n",
              "    </tr>\n",
              "    <tr>\n",
              "      <th>6475</th>\n",
              "      <td>0.0</td>\n",
              "      <td>0.0</td>\n",
              "      <td>976.0</td>\n",
              "      <td>0.0</td>\n",
              "      <td>0.0</td>\n",
              "      <td>0.0</td>\n",
              "      <td>0.0</td>\n",
              "      <td>991.0</td>\n",
              "      <td>0.0</td>\n",
              "      <td>556.0</td>\n",
              "      <td>...</td>\n",
              "      <td>0.0</td>\n",
              "      <td>0.0</td>\n",
              "      <td>0.0</td>\n",
              "      <td>0.0</td>\n",
              "      <td>0.0</td>\n",
              "      <td>0.0</td>\n",
              "      <td>0.0</td>\n",
              "      <td>0.0</td>\n",
              "      <td>475.0</td>\n",
              "      <td>NaN</td>\n",
              "    </tr>\n",
              "    <tr>\n",
              "      <th>6480</th>\n",
              "      <td>0.0</td>\n",
              "      <td>0.0</td>\n",
              "      <td>0.0</td>\n",
              "      <td>0.0</td>\n",
              "      <td>0.0</td>\n",
              "      <td>0.0</td>\n",
              "      <td>0.0</td>\n",
              "      <td>983.0</td>\n",
              "      <td>0.0</td>\n",
              "      <td>983.0</td>\n",
              "      <td>...</td>\n",
              "      <td>0.0</td>\n",
              "      <td>0.0</td>\n",
              "      <td>0.0</td>\n",
              "      <td>987.0</td>\n",
              "      <td>0.0</td>\n",
              "      <td>983.0</td>\n",
              "      <td>0.0</td>\n",
              "      <td>0.0</td>\n",
              "      <td>976.0</td>\n",
              "      <td>NaN</td>\n",
              "    </tr>\n",
              "    <tr>\n",
              "      <th>6484</th>\n",
              "      <td>0.0</td>\n",
              "      <td>0.0</td>\n",
              "      <td>0.0</td>\n",
              "      <td>0.0</td>\n",
              "      <td>0.0</td>\n",
              "      <td>0.0</td>\n",
              "      <td>0.0</td>\n",
              "      <td>0.0</td>\n",
              "      <td>0.0</td>\n",
              "      <td>0.0</td>\n",
              "      <td>...</td>\n",
              "      <td>0.0</td>\n",
              "      <td>0.0</td>\n",
              "      <td>0.0</td>\n",
              "      <td>0.0</td>\n",
              "      <td>0.0</td>\n",
              "      <td>757.0</td>\n",
              "      <td>0.0</td>\n",
              "      <td>0.0</td>\n",
              "      <td>0.0</td>\n",
              "      <td>NaN</td>\n",
              "    </tr>\n",
              "  </tbody>\n",
              "</table>\n",
              "<p>6500 rows × 5001 columns</p>\n",
              "</div>\n",
              "    <div class=\"colab-df-buttons\">\n",
              "\n",
              "  <div class=\"colab-df-container\">\n",
              "    <button class=\"colab-df-convert\" onclick=\"convertToInteractive('df-3133fdcc-d695-495c-9486-1effaa0acd2d')\"\n",
              "            title=\"Convert this dataframe to an interactive table.\"\n",
              "            style=\"display:none;\">\n",
              "\n",
              "  <svg xmlns=\"http://www.w3.org/2000/svg\" height=\"24px\" viewBox=\"0 -960 960 960\">\n",
              "    <path d=\"M120-120v-720h720v720H120Zm60-500h600v-160H180v160Zm220 220h160v-160H400v160Zm0 220h160v-160H400v160ZM180-400h160v-160H180v160Zm440 0h160v-160H620v160ZM180-180h160v-160H180v160Zm440 0h160v-160H620v160Z\"/>\n",
              "  </svg>\n",
              "    </button>\n",
              "\n",
              "  <style>\n",
              "    .colab-df-container {\n",
              "      display:flex;\n",
              "      gap: 12px;\n",
              "    }\n",
              "\n",
              "    .colab-df-convert {\n",
              "      background-color: #E8F0FE;\n",
              "      border: none;\n",
              "      border-radius: 50%;\n",
              "      cursor: pointer;\n",
              "      display: none;\n",
              "      fill: #1967D2;\n",
              "      height: 32px;\n",
              "      padding: 0 0 0 0;\n",
              "      width: 32px;\n",
              "    }\n",
              "\n",
              "    .colab-df-convert:hover {\n",
              "      background-color: #E2EBFA;\n",
              "      box-shadow: 0px 1px 2px rgba(60, 64, 67, 0.3), 0px 1px 3px 1px rgba(60, 64, 67, 0.15);\n",
              "      fill: #174EA6;\n",
              "    }\n",
              "\n",
              "    .colab-df-buttons div {\n",
              "      margin-bottom: 4px;\n",
              "    }\n",
              "\n",
              "    [theme=dark] .colab-df-convert {\n",
              "      background-color: #3B4455;\n",
              "      fill: #D2E3FC;\n",
              "    }\n",
              "\n",
              "    [theme=dark] .colab-df-convert:hover {\n",
              "      background-color: #434B5C;\n",
              "      box-shadow: 0px 1px 3px 1px rgba(0, 0, 0, 0.15);\n",
              "      filter: drop-shadow(0px 1px 2px rgba(0, 0, 0, 0.3));\n",
              "      fill: #FFFFFF;\n",
              "    }\n",
              "  </style>\n",
              "\n",
              "    <script>\n",
              "      const buttonEl =\n",
              "        document.querySelector('#df-3133fdcc-d695-495c-9486-1effaa0acd2d button.colab-df-convert');\n",
              "      buttonEl.style.display =\n",
              "        google.colab.kernel.accessAllowed ? 'block' : 'none';\n",
              "\n",
              "      async function convertToInteractive(key) {\n",
              "        const element = document.querySelector('#df-3133fdcc-d695-495c-9486-1effaa0acd2d');\n",
              "        const dataTable =\n",
              "          await google.colab.kernel.invokeFunction('convertToInteractive',\n",
              "                                                    [key], {});\n",
              "        if (!dataTable) return;\n",
              "\n",
              "        const docLinkHtml = 'Like what you see? Visit the ' +\n",
              "          '<a target=\"_blank\" href=https://colab.research.google.com/notebooks/data_table.ipynb>data table notebook</a>'\n",
              "          + ' to learn more about interactive tables.';\n",
              "        element.innerHTML = '';\n",
              "        dataTable['output_type'] = 'display_data';\n",
              "        await google.colab.output.renderOutput(dataTable, element);\n",
              "        const docLink = document.createElement('div');\n",
              "        docLink.innerHTML = docLinkHtml;\n",
              "        element.appendChild(docLink);\n",
              "      }\n",
              "    </script>\n",
              "  </div>\n",
              "\n",
              "\n",
              "<div id=\"df-0e7e9ac7-3708-4dbd-a028-00894b23360a\">\n",
              "  <button class=\"colab-df-quickchart\" onclick=\"quickchart('df-0e7e9ac7-3708-4dbd-a028-00894b23360a')\"\n",
              "            title=\"Suggest charts\"\n",
              "            style=\"display:none;\">\n",
              "\n",
              "<svg xmlns=\"http://www.w3.org/2000/svg\" height=\"24px\"viewBox=\"0 0 24 24\"\n",
              "     width=\"24px\">\n",
              "    <g>\n",
              "        <path d=\"M19 3H5c-1.1 0-2 .9-2 2v14c0 1.1.9 2 2 2h14c1.1 0 2-.9 2-2V5c0-1.1-.9-2-2-2zM9 17H7v-7h2v7zm4 0h-2V7h2v10zm4 0h-2v-4h2v4z\"/>\n",
              "    </g>\n",
              "</svg>\n",
              "  </button>\n",
              "\n",
              "<style>\n",
              "  .colab-df-quickchart {\n",
              "      --bg-color: #E8F0FE;\n",
              "      --fill-color: #1967D2;\n",
              "      --hover-bg-color: #E2EBFA;\n",
              "      --hover-fill-color: #174EA6;\n",
              "      --disabled-fill-color: #AAA;\n",
              "      --disabled-bg-color: #DDD;\n",
              "  }\n",
              "\n",
              "  [theme=dark] .colab-df-quickchart {\n",
              "      --bg-color: #3B4455;\n",
              "      --fill-color: #D2E3FC;\n",
              "      --hover-bg-color: #434B5C;\n",
              "      --hover-fill-color: #FFFFFF;\n",
              "      --disabled-bg-color: #3B4455;\n",
              "      --disabled-fill-color: #666;\n",
              "  }\n",
              "\n",
              "  .colab-df-quickchart {\n",
              "    background-color: var(--bg-color);\n",
              "    border: none;\n",
              "    border-radius: 50%;\n",
              "    cursor: pointer;\n",
              "    display: none;\n",
              "    fill: var(--fill-color);\n",
              "    height: 32px;\n",
              "    padding: 0;\n",
              "    width: 32px;\n",
              "  }\n",
              "\n",
              "  .colab-df-quickchart:hover {\n",
              "    background-color: var(--hover-bg-color);\n",
              "    box-shadow: 0 1px 2px rgba(60, 64, 67, 0.3), 0 1px 3px 1px rgba(60, 64, 67, 0.15);\n",
              "    fill: var(--button-hover-fill-color);\n",
              "  }\n",
              "\n",
              "  .colab-df-quickchart-complete:disabled,\n",
              "  .colab-df-quickchart-complete:disabled:hover {\n",
              "    background-color: var(--disabled-bg-color);\n",
              "    fill: var(--disabled-fill-color);\n",
              "    box-shadow: none;\n",
              "  }\n",
              "\n",
              "  .colab-df-spinner {\n",
              "    border: 2px solid var(--fill-color);\n",
              "    border-color: transparent;\n",
              "    border-bottom-color: var(--fill-color);\n",
              "    animation:\n",
              "      spin 1s steps(1) infinite;\n",
              "  }\n",
              "\n",
              "  @keyframes spin {\n",
              "    0% {\n",
              "      border-color: transparent;\n",
              "      border-bottom-color: var(--fill-color);\n",
              "      border-left-color: var(--fill-color);\n",
              "    }\n",
              "    20% {\n",
              "      border-color: transparent;\n",
              "      border-left-color: var(--fill-color);\n",
              "      border-top-color: var(--fill-color);\n",
              "    }\n",
              "    30% {\n",
              "      border-color: transparent;\n",
              "      border-left-color: var(--fill-color);\n",
              "      border-top-color: var(--fill-color);\n",
              "      border-right-color: var(--fill-color);\n",
              "    }\n",
              "    40% {\n",
              "      border-color: transparent;\n",
              "      border-right-color: var(--fill-color);\n",
              "      border-top-color: var(--fill-color);\n",
              "    }\n",
              "    60% {\n",
              "      border-color: transparent;\n",
              "      border-right-color: var(--fill-color);\n",
              "    }\n",
              "    80% {\n",
              "      border-color: transparent;\n",
              "      border-right-color: var(--fill-color);\n",
              "      border-bottom-color: var(--fill-color);\n",
              "    }\n",
              "    90% {\n",
              "      border-color: transparent;\n",
              "      border-bottom-color: var(--fill-color);\n",
              "    }\n",
              "  }\n",
              "</style>\n",
              "\n",
              "  <script>\n",
              "    async function quickchart(key) {\n",
              "      const quickchartButtonEl =\n",
              "        document.querySelector('#' + key + ' button');\n",
              "      quickchartButtonEl.disabled = true;  // To prevent multiple clicks.\n",
              "      quickchartButtonEl.classList.add('colab-df-spinner');\n",
              "      try {\n",
              "        const charts = await google.colab.kernel.invokeFunction(\n",
              "            'suggestCharts', [key], {});\n",
              "      } catch (error) {\n",
              "        console.error('Error during call to suggestCharts:', error);\n",
              "      }\n",
              "      quickchartButtonEl.classList.remove('colab-df-spinner');\n",
              "      quickchartButtonEl.classList.add('colab-df-quickchart-complete');\n",
              "    }\n",
              "    (() => {\n",
              "      let quickchartButtonEl =\n",
              "        document.querySelector('#df-0e7e9ac7-3708-4dbd-a028-00894b23360a button');\n",
              "      quickchartButtonEl.style.display =\n",
              "        google.colab.kernel.accessAllowed ? 'block' : 'none';\n",
              "    })();\n",
              "  </script>\n",
              "</div>\n",
              "    </div>\n",
              "  </div>\n"
            ]
          },
          "metadata": {},
          "execution_count": 94
        }
      ]
    },
    {
      "cell_type": "markdown",
      "source": [
        "<p>Despues de hacer eso nos damos cuenta que nuestra variable a predecir tiene valos nulos, tenemos que encargarnos de esos, extraemos nuestra variable a predecir usando la libreria de pandas con \"pd.Series\"</p>"
      ],
      "metadata": {
        "id": "4uqC0-sfuase"
      },
      "id": "4uqC0-sfuase"
    },
    {
      "cell_type": "code",
      "source": [
        "etiquetas = pd.Series(training_data[\"numero\"])"
      ],
      "metadata": {
        "id": "_pyzo0pgxFw3"
      },
      "id": "_pyzo0pgxFw3",
      "execution_count": null,
      "outputs": []
    },
    {
      "cell_type": "code",
      "source": [
        "#Oranizamos el indece forma ascendente\n",
        "etiquetas = etiquetas.sort_index()\n",
        "print(etiquetas)"
      ],
      "metadata": {
        "colab": {
          "base_uri": "https://localhost:8080/"
        },
        "id": "X3Iw5OfpxOmz",
        "outputId": "0f29a64b-bdd2-4a66-b1bf-bc854d66f233"
      },
      "id": "X3Iw5OfpxOmz",
      "execution_count": null,
      "outputs": [
        {
          "output_type": "stream",
          "name": "stdout",
          "text": [
            "0       1.0\n",
            "1       0.0\n",
            "2       1.0\n",
            "3       1.0\n",
            "4       1.0\n",
            "       ... \n",
            "6471    NaN\n",
            "6473    NaN\n",
            "6475    NaN\n",
            "6480    NaN\n",
            "6484    NaN\n",
            "Name: numero, Length: 6500, dtype: float64\n"
          ]
        }
      ]
    },
    {
      "cell_type": "markdown",
      "source": [
        "<p> Usando la libreria de \"random\", vamos a generar de forma aleatoria un 1.0 o un 0.0 con el fin de rellenar los valores faltantes de nuestra series que van a reresentar las etiquetas del conjunto de datos de entrenamiento, usamos una semilla (seed) de 42 es la que se usa por defecto  y usamos el metodo \"apply\", usando \"random.choice\" va elegir aleatoriamene entre los numeros que le hemos indicado y con un if preguntara si el valor en nan o no</p>"
      ],
      "metadata": {
        "id": "vIF6x-DY2oV0"
      },
      "id": "vIF6x-DY2oV0"
    },
    {
      "cell_type": "code",
      "source": [
        "np.random.seed(42)\n",
        "etiquetas = etiquetas.apply(lambda x: random.choice([0.0, 1.0]) if pd.isna(x) else x)"
      ],
      "metadata": {
        "id": "F5IhPUtRy-SG"
      },
      "id": "F5IhPUtRy-SG",
      "execution_count": null,
      "outputs": []
    },
    {
      "cell_type": "code",
      "source": [
        "print(etiquetas)"
      ],
      "metadata": {
        "colab": {
          "base_uri": "https://localhost:8080/"
        },
        "id": "nzDkFuKM0M_g",
        "outputId": "269bbb9f-6573-459c-bfc5-143c94be7fa2"
      },
      "id": "nzDkFuKM0M_g",
      "execution_count": null,
      "outputs": [
        {
          "output_type": "stream",
          "name": "stdout",
          "text": [
            "0       1.0\n",
            "1       0.0\n",
            "2       1.0\n",
            "3       1.0\n",
            "4       1.0\n",
            "       ... \n",
            "6471    0.0\n",
            "6473    1.0\n",
            "6475    1.0\n",
            "6480    1.0\n",
            "6484    1.0\n",
            "Name: numero, Length: 6500, dtype: float64\n"
          ]
        }
      ]
    },
    {
      "cell_type": "markdown",
      "source": [
        "<p>Y se han llenado aletoriamente los datos faltantes,ahora nuetras nuevas etiquetas para el conjunto de datos de entrenamiento se las asignamos a nuestra variable \"training_labels\"</p>"
      ],
      "metadata": {
        "id": "BpI_LpHz3q9K"
      },
      "id": "BpI_LpHz3q9K"
    },
    {
      "cell_type": "code",
      "source": [
        "training_labels = etiquetas"
      ],
      "metadata": {
        "id": "i73RqNsu0Uf_"
      },
      "id": "i73RqNsu0Uf_",
      "execution_count": null,
      "outputs": []
    },
    {
      "cell_type": "code",
      "source": [
        "print(training_labels)"
      ],
      "metadata": {
        "colab": {
          "base_uri": "https://localhost:8080/"
        },
        "id": "O5NVvKV70YLQ",
        "outputId": "76f03ea0-5c74-4830-ed3a-e3f79c7609cf"
      },
      "id": "O5NVvKV70YLQ",
      "execution_count": null,
      "outputs": [
        {
          "output_type": "stream",
          "name": "stdout",
          "text": [
            "0       1.0\n",
            "1       0.0\n",
            "2       1.0\n",
            "3       1.0\n",
            "4       1.0\n",
            "       ... \n",
            "6471    0.0\n",
            "6473    1.0\n",
            "6475    1.0\n",
            "6480    1.0\n",
            "6484    1.0\n",
            "Name: numero, Length: 6500, dtype: float64\n"
          ]
        }
      ]
    },
    {
      "cell_type": "markdown",
      "source": [
        "<hr>"
      ],
      "metadata": {
        "id": "oeTduTRaAAX1"
      },
      "id": "oeTduTRaAAX1"
    },
    {
      "cell_type": "markdown",
      "metadata": {
        "id": "4262ff59"
      },
      "source": [
        "<h1> <strong> ESTANDARIZACION Y ESCALAMIENTO DE DATOS </strong> 📈 🔎</h1>\n",
        "<p>Con el fin de disminuir el ruido, la exigencia computacional y para que posteriormente en la implementacion de los metodos de aprendizaje automatico, realizamos un proceso de estandarizacion y escalamiento</p>"
      ],
      "id": "4262ff59"
    },
    {
      "cell_type": "code",
      "execution_count": null,
      "metadata": {
        "id": "OF_uJ3bIOLQo"
      },
      "outputs": [],
      "source": [
        "training_data= training_data.drop(['numero'], axis=1)"
      ],
      "id": "OF_uJ3bIOLQo"
    },
    {
      "cell_type": "code",
      "execution_count": null,
      "metadata": {
        "id": "68ddff1a"
      },
      "outputs": [],
      "source": [
        "datos_standard = preprocessing.RobustScaler().fit_transform(training_data)"
      ],
      "id": "68ddff1a"
    },
    {
      "cell_type": "markdown",
      "metadata": {
        "id": "248390d5"
      },
      "source": [
        "<p> Importamos \"preprocessing\" de la libreria de sklearn que nos va permitir manipular los datos y realizamos un proceso de estadarizacion robusta con el fin de que la desviacion estandar sea de 1 y la media seda de 0, elegimos que sea una estandarizacion robusta para asi evitar OutLayers y el array resultante lo guardamos en datos_standard</p>"
      ],
      "id": "248390d5"
    },
    {
      "cell_type": "code",
      "execution_count": null,
      "metadata": {
        "colab": {
          "base_uri": "https://localhost:8080/"
        },
        "id": "aa4946e4",
        "outputId": "6505cd31-da1c-4009-c2af-116a2bab221f"
      },
      "outputs": [
        {
          "output_type": "execute_result",
          "data": {
            "text/plain": [
              "array([[550.,   0., 495., ...,   0.,   0., 983.],\n",
              "       [  0.,   0.,   0., ...,   0.,   0.,   0.],\n",
              "       [  0.,   0.,   0., ...,   0.,   0.,   0.],\n",
              "       ...,\n",
              "       [  0.,   0., 731., ...,   0.,   0.,   0.],\n",
              "       [809.,   0.,   0., ...,   0.,   0.,   0.],\n",
              "       [  0.,   0.,   0., ...,   0., 956.,   0.]])"
            ]
          },
          "metadata": {},
          "execution_count": 103
        }
      ],
      "source": [
        "datos_standard"
      ],
      "id": "aa4946e4"
    },
    {
      "cell_type": "code",
      "execution_count": null,
      "metadata": {
        "id": "eba15d23"
      },
      "outputs": [],
      "source": [
        "df_aux = pd.DataFrame(datos_standard)"
      ],
      "id": "eba15d23"
    },
    {
      "cell_type": "markdown",
      "metadata": {
        "id": "b8ead4d6"
      },
      "source": [
        "<p>Convertimos el array que nos retorno el metodo robusto a un DataFrame</p>"
      ],
      "id": "b8ead4d6"
    },
    {
      "cell_type": "code",
      "execution_count": null,
      "metadata": {
        "id": "47c95bdc"
      },
      "outputs": [],
      "source": [
        "datos_min_max = preprocessing.MinMaxScaler().fit_transform(df_aux)"
      ],
      "id": "47c95bdc"
    },
    {
      "cell_type": "markdown",
      "metadata": {
        "id": "94770c20"
      },
      "source": [
        "<p>Ahora que los datos han sido estandarizados vamos a escalarlos con su minimo y su maximo, para asi tener un rango entre 0 y 1 </p>"
      ],
      "id": "94770c20"
    },
    {
      "cell_type": "code",
      "execution_count": null,
      "metadata": {
        "id": "bd45de84"
      },
      "outputs": [],
      "source": [
        "df_definitivo = pd.DataFrame(datos_min_max)"
      ],
      "id": "bd45de84"
    },
    {
      "cell_type": "markdown",
      "metadata": {
        "id": "a9bf1d94"
      },
      "source": [
        "<p>Convertimos el array resultando en un data frame y este es nuestro data frame difinitivo con el cual vamos a iniciar el proceso de reduccion de caracteristicas, este proceso se hizo para mantener las buenas practicas que se debe realizar en un proceso de ciencia de datos</p>"
      ],
      "id": "a9bf1d94"
    },
    {
      "cell_type": "code",
      "execution_count": null,
      "metadata": {
        "colab": {
          "base_uri": "https://localhost:8080/",
          "height": 424
        },
        "id": "c3643034",
        "outputId": "938a411d-c2f5-4ab4-d4e9-ad5934d8c60c",
        "scrolled": true
      },
      "outputs": [
        {
          "output_type": "execute_result",
          "data": {
            "text/plain": [
              "          0     1         2     3     4         5         6         7     \\\n",
              "0     0.550551   0.0  0.495495   0.0   0.0  0.000000  0.000000  0.976977   \n",
              "1     0.000000   0.0  0.000000   0.0   0.0  0.000000  0.000000  0.976977   \n",
              "2     0.000000   0.0  0.000000   0.0   0.0  0.000000  0.000000  0.000000   \n",
              "3     0.000000   0.0  0.742743   0.0   0.0  0.000000  0.000000  0.684685   \n",
              "4     0.000000   0.0  0.000000   0.0   0.0  0.000000  0.000000  0.608609   \n",
              "...        ...   ...       ...   ...   ...       ...       ...       ...   \n",
              "6495  0.000000   0.0  0.000000   0.0   0.0  0.000000  0.000000  0.757758   \n",
              "6496  0.000000   0.0  0.000000   0.0   0.0  0.567568  0.000000  0.591592   \n",
              "6497  0.000000   0.0  0.731732   0.0   0.0  0.000000  0.000000  0.000000   \n",
              "6498  0.809810   0.0  0.000000   0.0   0.0  0.000000  0.000000  0.000000   \n",
              "6499  0.000000   0.0  0.000000   0.0   0.0  0.000000  0.585586  0.666667   \n",
              "\n",
              "      8         9     ...      4990      4991  4992      4993      4994  4995  \\\n",
              "0      0.0  0.000000  ...  0.000000  0.000000   0.0  0.991992  0.991992   0.0   \n",
              "1      0.0  0.000000  ...  0.000000  0.475475   0.0  0.991992  0.000000   0.0   \n",
              "2      0.0  0.000000  ...  0.000000  0.000000   0.0  0.000000  0.000000   0.0   \n",
              "3      0.0  0.956957  ...  0.000000  0.000000   0.0  0.000000  0.000000   0.0   \n",
              "4      0.0  0.979980  ...  0.991992  0.000000   0.0  0.828829  0.000000   0.0   \n",
              "...    ...       ...  ...       ...       ...   ...       ...       ...   ...   \n",
              "6495   0.0  0.000000  ...  0.000000  0.000000   0.0  0.983984  0.000000   0.0   \n",
              "6496   0.0  0.609610  ...  0.000000  0.000000   0.0  0.000000  0.000000   0.0   \n",
              "6497   0.0  0.000000  ...  0.658659  0.000000   0.0  0.000000  0.000000   0.0   \n",
              "6498   0.0  0.000000  ...  0.000000  0.000000   0.0  0.000000  0.000000   0.0   \n",
              "6499   0.0  0.000000  ...  0.991992  0.000000   0.0  0.991992  0.000000   0.0   \n",
              "\n",
              "          4996  4997      4998      4999  \n",
              "0     0.000000   0.0  0.000000  0.983984  \n",
              "1     0.991992   0.0  0.000000  0.000000  \n",
              "2     0.000000   0.0  0.000000  0.000000  \n",
              "3     0.674675   0.0  0.000000  0.838839  \n",
              "4     0.000000   0.0  0.000000  0.000000  \n",
              "...        ...   ...       ...       ...  \n",
              "6495  0.000000   0.0  0.000000  0.000000  \n",
              "6496  0.956957   0.0  0.431431  0.000000  \n",
              "6497  0.000000   0.0  0.000000  0.000000  \n",
              "6498  0.000000   0.0  0.000000  0.000000  \n",
              "6499  0.000000   0.0  0.956957  0.000000  \n",
              "\n",
              "[6500 rows x 5000 columns]"
            ],
            "text/html": [
              "\n",
              "  <div id=\"df-2d2647f9-e2b9-4024-8c35-46951ea2e14f\" class=\"colab-df-container\">\n",
              "    <div>\n",
              "<style scoped>\n",
              "    .dataframe tbody tr th:only-of-type {\n",
              "        vertical-align: middle;\n",
              "    }\n",
              "\n",
              "    .dataframe tbody tr th {\n",
              "        vertical-align: top;\n",
              "    }\n",
              "\n",
              "    .dataframe thead th {\n",
              "        text-align: right;\n",
              "    }\n",
              "</style>\n",
              "<table border=\"1\" class=\"dataframe\">\n",
              "  <thead>\n",
              "    <tr style=\"text-align: right;\">\n",
              "      <th></th>\n",
              "      <th>0</th>\n",
              "      <th>1</th>\n",
              "      <th>2</th>\n",
              "      <th>3</th>\n",
              "      <th>4</th>\n",
              "      <th>5</th>\n",
              "      <th>6</th>\n",
              "      <th>7</th>\n",
              "      <th>8</th>\n",
              "      <th>9</th>\n",
              "      <th>...</th>\n",
              "      <th>4990</th>\n",
              "      <th>4991</th>\n",
              "      <th>4992</th>\n",
              "      <th>4993</th>\n",
              "      <th>4994</th>\n",
              "      <th>4995</th>\n",
              "      <th>4996</th>\n",
              "      <th>4997</th>\n",
              "      <th>4998</th>\n",
              "      <th>4999</th>\n",
              "    </tr>\n",
              "  </thead>\n",
              "  <tbody>\n",
              "    <tr>\n",
              "      <th>0</th>\n",
              "      <td>0.550551</td>\n",
              "      <td>0.0</td>\n",
              "      <td>0.495495</td>\n",
              "      <td>0.0</td>\n",
              "      <td>0.0</td>\n",
              "      <td>0.000000</td>\n",
              "      <td>0.000000</td>\n",
              "      <td>0.976977</td>\n",
              "      <td>0.0</td>\n",
              "      <td>0.000000</td>\n",
              "      <td>...</td>\n",
              "      <td>0.000000</td>\n",
              "      <td>0.000000</td>\n",
              "      <td>0.0</td>\n",
              "      <td>0.991992</td>\n",
              "      <td>0.991992</td>\n",
              "      <td>0.0</td>\n",
              "      <td>0.000000</td>\n",
              "      <td>0.0</td>\n",
              "      <td>0.000000</td>\n",
              "      <td>0.983984</td>\n",
              "    </tr>\n",
              "    <tr>\n",
              "      <th>1</th>\n",
              "      <td>0.000000</td>\n",
              "      <td>0.0</td>\n",
              "      <td>0.000000</td>\n",
              "      <td>0.0</td>\n",
              "      <td>0.0</td>\n",
              "      <td>0.000000</td>\n",
              "      <td>0.000000</td>\n",
              "      <td>0.976977</td>\n",
              "      <td>0.0</td>\n",
              "      <td>0.000000</td>\n",
              "      <td>...</td>\n",
              "      <td>0.000000</td>\n",
              "      <td>0.475475</td>\n",
              "      <td>0.0</td>\n",
              "      <td>0.991992</td>\n",
              "      <td>0.000000</td>\n",
              "      <td>0.0</td>\n",
              "      <td>0.991992</td>\n",
              "      <td>0.0</td>\n",
              "      <td>0.000000</td>\n",
              "      <td>0.000000</td>\n",
              "    </tr>\n",
              "    <tr>\n",
              "      <th>2</th>\n",
              "      <td>0.000000</td>\n",
              "      <td>0.0</td>\n",
              "      <td>0.000000</td>\n",
              "      <td>0.0</td>\n",
              "      <td>0.0</td>\n",
              "      <td>0.000000</td>\n",
              "      <td>0.000000</td>\n",
              "      <td>0.000000</td>\n",
              "      <td>0.0</td>\n",
              "      <td>0.000000</td>\n",
              "      <td>...</td>\n",
              "      <td>0.000000</td>\n",
              "      <td>0.000000</td>\n",
              "      <td>0.0</td>\n",
              "      <td>0.000000</td>\n",
              "      <td>0.000000</td>\n",
              "      <td>0.0</td>\n",
              "      <td>0.000000</td>\n",
              "      <td>0.0</td>\n",
              "      <td>0.000000</td>\n",
              "      <td>0.000000</td>\n",
              "    </tr>\n",
              "    <tr>\n",
              "      <th>3</th>\n",
              "      <td>0.000000</td>\n",
              "      <td>0.0</td>\n",
              "      <td>0.742743</td>\n",
              "      <td>0.0</td>\n",
              "      <td>0.0</td>\n",
              "      <td>0.000000</td>\n",
              "      <td>0.000000</td>\n",
              "      <td>0.684685</td>\n",
              "      <td>0.0</td>\n",
              "      <td>0.956957</td>\n",
              "      <td>...</td>\n",
              "      <td>0.000000</td>\n",
              "      <td>0.000000</td>\n",
              "      <td>0.0</td>\n",
              "      <td>0.000000</td>\n",
              "      <td>0.000000</td>\n",
              "      <td>0.0</td>\n",
              "      <td>0.674675</td>\n",
              "      <td>0.0</td>\n",
              "      <td>0.000000</td>\n",
              "      <td>0.838839</td>\n",
              "    </tr>\n",
              "    <tr>\n",
              "      <th>4</th>\n",
              "      <td>0.000000</td>\n",
              "      <td>0.0</td>\n",
              "      <td>0.000000</td>\n",
              "      <td>0.0</td>\n",
              "      <td>0.0</td>\n",
              "      <td>0.000000</td>\n",
              "      <td>0.000000</td>\n",
              "      <td>0.608609</td>\n",
              "      <td>0.0</td>\n",
              "      <td>0.979980</td>\n",
              "      <td>...</td>\n",
              "      <td>0.991992</td>\n",
              "      <td>0.000000</td>\n",
              "      <td>0.0</td>\n",
              "      <td>0.828829</td>\n",
              "      <td>0.000000</td>\n",
              "      <td>0.0</td>\n",
              "      <td>0.000000</td>\n",
              "      <td>0.0</td>\n",
              "      <td>0.000000</td>\n",
              "      <td>0.000000</td>\n",
              "    </tr>\n",
              "    <tr>\n",
              "      <th>...</th>\n",
              "      <td>...</td>\n",
              "      <td>...</td>\n",
              "      <td>...</td>\n",
              "      <td>...</td>\n",
              "      <td>...</td>\n",
              "      <td>...</td>\n",
              "      <td>...</td>\n",
              "      <td>...</td>\n",
              "      <td>...</td>\n",
              "      <td>...</td>\n",
              "      <td>...</td>\n",
              "      <td>...</td>\n",
              "      <td>...</td>\n",
              "      <td>...</td>\n",
              "      <td>...</td>\n",
              "      <td>...</td>\n",
              "      <td>...</td>\n",
              "      <td>...</td>\n",
              "      <td>...</td>\n",
              "      <td>...</td>\n",
              "      <td>...</td>\n",
              "    </tr>\n",
              "    <tr>\n",
              "      <th>6495</th>\n",
              "      <td>0.000000</td>\n",
              "      <td>0.0</td>\n",
              "      <td>0.000000</td>\n",
              "      <td>0.0</td>\n",
              "      <td>0.0</td>\n",
              "      <td>0.000000</td>\n",
              "      <td>0.000000</td>\n",
              "      <td>0.757758</td>\n",
              "      <td>0.0</td>\n",
              "      <td>0.000000</td>\n",
              "      <td>...</td>\n",
              "      <td>0.000000</td>\n",
              "      <td>0.000000</td>\n",
              "      <td>0.0</td>\n",
              "      <td>0.983984</td>\n",
              "      <td>0.000000</td>\n",
              "      <td>0.0</td>\n",
              "      <td>0.000000</td>\n",
              "      <td>0.0</td>\n",
              "      <td>0.000000</td>\n",
              "      <td>0.000000</td>\n",
              "    </tr>\n",
              "    <tr>\n",
              "      <th>6496</th>\n",
              "      <td>0.000000</td>\n",
              "      <td>0.0</td>\n",
              "      <td>0.000000</td>\n",
              "      <td>0.0</td>\n",
              "      <td>0.0</td>\n",
              "      <td>0.567568</td>\n",
              "      <td>0.000000</td>\n",
              "      <td>0.591592</td>\n",
              "      <td>0.0</td>\n",
              "      <td>0.609610</td>\n",
              "      <td>...</td>\n",
              "      <td>0.000000</td>\n",
              "      <td>0.000000</td>\n",
              "      <td>0.0</td>\n",
              "      <td>0.000000</td>\n",
              "      <td>0.000000</td>\n",
              "      <td>0.0</td>\n",
              "      <td>0.956957</td>\n",
              "      <td>0.0</td>\n",
              "      <td>0.431431</td>\n",
              "      <td>0.000000</td>\n",
              "    </tr>\n",
              "    <tr>\n",
              "      <th>6497</th>\n",
              "      <td>0.000000</td>\n",
              "      <td>0.0</td>\n",
              "      <td>0.731732</td>\n",
              "      <td>0.0</td>\n",
              "      <td>0.0</td>\n",
              "      <td>0.000000</td>\n",
              "      <td>0.000000</td>\n",
              "      <td>0.000000</td>\n",
              "      <td>0.0</td>\n",
              "      <td>0.000000</td>\n",
              "      <td>...</td>\n",
              "      <td>0.658659</td>\n",
              "      <td>0.000000</td>\n",
              "      <td>0.0</td>\n",
              "      <td>0.000000</td>\n",
              "      <td>0.000000</td>\n",
              "      <td>0.0</td>\n",
              "      <td>0.000000</td>\n",
              "      <td>0.0</td>\n",
              "      <td>0.000000</td>\n",
              "      <td>0.000000</td>\n",
              "    </tr>\n",
              "    <tr>\n",
              "      <th>6498</th>\n",
              "      <td>0.809810</td>\n",
              "      <td>0.0</td>\n",
              "      <td>0.000000</td>\n",
              "      <td>0.0</td>\n",
              "      <td>0.0</td>\n",
              "      <td>0.000000</td>\n",
              "      <td>0.000000</td>\n",
              "      <td>0.000000</td>\n",
              "      <td>0.0</td>\n",
              "      <td>0.000000</td>\n",
              "      <td>...</td>\n",
              "      <td>0.000000</td>\n",
              "      <td>0.000000</td>\n",
              "      <td>0.0</td>\n",
              "      <td>0.000000</td>\n",
              "      <td>0.000000</td>\n",
              "      <td>0.0</td>\n",
              "      <td>0.000000</td>\n",
              "      <td>0.0</td>\n",
              "      <td>0.000000</td>\n",
              "      <td>0.000000</td>\n",
              "    </tr>\n",
              "    <tr>\n",
              "      <th>6499</th>\n",
              "      <td>0.000000</td>\n",
              "      <td>0.0</td>\n",
              "      <td>0.000000</td>\n",
              "      <td>0.0</td>\n",
              "      <td>0.0</td>\n",
              "      <td>0.000000</td>\n",
              "      <td>0.585586</td>\n",
              "      <td>0.666667</td>\n",
              "      <td>0.0</td>\n",
              "      <td>0.000000</td>\n",
              "      <td>...</td>\n",
              "      <td>0.991992</td>\n",
              "      <td>0.000000</td>\n",
              "      <td>0.0</td>\n",
              "      <td>0.991992</td>\n",
              "      <td>0.000000</td>\n",
              "      <td>0.0</td>\n",
              "      <td>0.000000</td>\n",
              "      <td>0.0</td>\n",
              "      <td>0.956957</td>\n",
              "      <td>0.000000</td>\n",
              "    </tr>\n",
              "  </tbody>\n",
              "</table>\n",
              "<p>6500 rows × 5000 columns</p>\n",
              "</div>\n",
              "    <div class=\"colab-df-buttons\">\n",
              "\n",
              "  <div class=\"colab-df-container\">\n",
              "    <button class=\"colab-df-convert\" onclick=\"convertToInteractive('df-2d2647f9-e2b9-4024-8c35-46951ea2e14f')\"\n",
              "            title=\"Convert this dataframe to an interactive table.\"\n",
              "            style=\"display:none;\">\n",
              "\n",
              "  <svg xmlns=\"http://www.w3.org/2000/svg\" height=\"24px\" viewBox=\"0 -960 960 960\">\n",
              "    <path d=\"M120-120v-720h720v720H120Zm60-500h600v-160H180v160Zm220 220h160v-160H400v160Zm0 220h160v-160H400v160ZM180-400h160v-160H180v160Zm440 0h160v-160H620v160ZM180-180h160v-160H180v160Zm440 0h160v-160H620v160Z\"/>\n",
              "  </svg>\n",
              "    </button>\n",
              "\n",
              "  <style>\n",
              "    .colab-df-container {\n",
              "      display:flex;\n",
              "      gap: 12px;\n",
              "    }\n",
              "\n",
              "    .colab-df-convert {\n",
              "      background-color: #E8F0FE;\n",
              "      border: none;\n",
              "      border-radius: 50%;\n",
              "      cursor: pointer;\n",
              "      display: none;\n",
              "      fill: #1967D2;\n",
              "      height: 32px;\n",
              "      padding: 0 0 0 0;\n",
              "      width: 32px;\n",
              "    }\n",
              "\n",
              "    .colab-df-convert:hover {\n",
              "      background-color: #E2EBFA;\n",
              "      box-shadow: 0px 1px 2px rgba(60, 64, 67, 0.3), 0px 1px 3px 1px rgba(60, 64, 67, 0.15);\n",
              "      fill: #174EA6;\n",
              "    }\n",
              "\n",
              "    .colab-df-buttons div {\n",
              "      margin-bottom: 4px;\n",
              "    }\n",
              "\n",
              "    [theme=dark] .colab-df-convert {\n",
              "      background-color: #3B4455;\n",
              "      fill: #D2E3FC;\n",
              "    }\n",
              "\n",
              "    [theme=dark] .colab-df-convert:hover {\n",
              "      background-color: #434B5C;\n",
              "      box-shadow: 0px 1px 3px 1px rgba(0, 0, 0, 0.15);\n",
              "      filter: drop-shadow(0px 1px 2px rgba(0, 0, 0, 0.3));\n",
              "      fill: #FFFFFF;\n",
              "    }\n",
              "  </style>\n",
              "\n",
              "    <script>\n",
              "      const buttonEl =\n",
              "        document.querySelector('#df-2d2647f9-e2b9-4024-8c35-46951ea2e14f button.colab-df-convert');\n",
              "      buttonEl.style.display =\n",
              "        google.colab.kernel.accessAllowed ? 'block' : 'none';\n",
              "\n",
              "      async function convertToInteractive(key) {\n",
              "        const element = document.querySelector('#df-2d2647f9-e2b9-4024-8c35-46951ea2e14f');\n",
              "        const dataTable =\n",
              "          await google.colab.kernel.invokeFunction('convertToInteractive',\n",
              "                                                    [key], {});\n",
              "        if (!dataTable) return;\n",
              "\n",
              "        const docLinkHtml = 'Like what you see? Visit the ' +\n",
              "          '<a target=\"_blank\" href=https://colab.research.google.com/notebooks/data_table.ipynb>data table notebook</a>'\n",
              "          + ' to learn more about interactive tables.';\n",
              "        element.innerHTML = '';\n",
              "        dataTable['output_type'] = 'display_data';\n",
              "        await google.colab.output.renderOutput(dataTable, element);\n",
              "        const docLink = document.createElement('div');\n",
              "        docLink.innerHTML = docLinkHtml;\n",
              "        element.appendChild(docLink);\n",
              "      }\n",
              "    </script>\n",
              "  </div>\n",
              "\n",
              "\n",
              "<div id=\"df-b6833599-7990-4ad9-a075-7f0919e985b5\">\n",
              "  <button class=\"colab-df-quickchart\" onclick=\"quickchart('df-b6833599-7990-4ad9-a075-7f0919e985b5')\"\n",
              "            title=\"Suggest charts\"\n",
              "            style=\"display:none;\">\n",
              "\n",
              "<svg xmlns=\"http://www.w3.org/2000/svg\" height=\"24px\"viewBox=\"0 0 24 24\"\n",
              "     width=\"24px\">\n",
              "    <g>\n",
              "        <path d=\"M19 3H5c-1.1 0-2 .9-2 2v14c0 1.1.9 2 2 2h14c1.1 0 2-.9 2-2V5c0-1.1-.9-2-2-2zM9 17H7v-7h2v7zm4 0h-2V7h2v10zm4 0h-2v-4h2v4z\"/>\n",
              "    </g>\n",
              "</svg>\n",
              "  </button>\n",
              "\n",
              "<style>\n",
              "  .colab-df-quickchart {\n",
              "      --bg-color: #E8F0FE;\n",
              "      --fill-color: #1967D2;\n",
              "      --hover-bg-color: #E2EBFA;\n",
              "      --hover-fill-color: #174EA6;\n",
              "      --disabled-fill-color: #AAA;\n",
              "      --disabled-bg-color: #DDD;\n",
              "  }\n",
              "\n",
              "  [theme=dark] .colab-df-quickchart {\n",
              "      --bg-color: #3B4455;\n",
              "      --fill-color: #D2E3FC;\n",
              "      --hover-bg-color: #434B5C;\n",
              "      --hover-fill-color: #FFFFFF;\n",
              "      --disabled-bg-color: #3B4455;\n",
              "      --disabled-fill-color: #666;\n",
              "  }\n",
              "\n",
              "  .colab-df-quickchart {\n",
              "    background-color: var(--bg-color);\n",
              "    border: none;\n",
              "    border-radius: 50%;\n",
              "    cursor: pointer;\n",
              "    display: none;\n",
              "    fill: var(--fill-color);\n",
              "    height: 32px;\n",
              "    padding: 0;\n",
              "    width: 32px;\n",
              "  }\n",
              "\n",
              "  .colab-df-quickchart:hover {\n",
              "    background-color: var(--hover-bg-color);\n",
              "    box-shadow: 0 1px 2px rgba(60, 64, 67, 0.3), 0 1px 3px 1px rgba(60, 64, 67, 0.15);\n",
              "    fill: var(--button-hover-fill-color);\n",
              "  }\n",
              "\n",
              "  .colab-df-quickchart-complete:disabled,\n",
              "  .colab-df-quickchart-complete:disabled:hover {\n",
              "    background-color: var(--disabled-bg-color);\n",
              "    fill: var(--disabled-fill-color);\n",
              "    box-shadow: none;\n",
              "  }\n",
              "\n",
              "  .colab-df-spinner {\n",
              "    border: 2px solid var(--fill-color);\n",
              "    border-color: transparent;\n",
              "    border-bottom-color: var(--fill-color);\n",
              "    animation:\n",
              "      spin 1s steps(1) infinite;\n",
              "  }\n",
              "\n",
              "  @keyframes spin {\n",
              "    0% {\n",
              "      border-color: transparent;\n",
              "      border-bottom-color: var(--fill-color);\n",
              "      border-left-color: var(--fill-color);\n",
              "    }\n",
              "    20% {\n",
              "      border-color: transparent;\n",
              "      border-left-color: var(--fill-color);\n",
              "      border-top-color: var(--fill-color);\n",
              "    }\n",
              "    30% {\n",
              "      border-color: transparent;\n",
              "      border-left-color: var(--fill-color);\n",
              "      border-top-color: var(--fill-color);\n",
              "      border-right-color: var(--fill-color);\n",
              "    }\n",
              "    40% {\n",
              "      border-color: transparent;\n",
              "      border-right-color: var(--fill-color);\n",
              "      border-top-color: var(--fill-color);\n",
              "    }\n",
              "    60% {\n",
              "      border-color: transparent;\n",
              "      border-right-color: var(--fill-color);\n",
              "    }\n",
              "    80% {\n",
              "      border-color: transparent;\n",
              "      border-right-color: var(--fill-color);\n",
              "      border-bottom-color: var(--fill-color);\n",
              "    }\n",
              "    90% {\n",
              "      border-color: transparent;\n",
              "      border-bottom-color: var(--fill-color);\n",
              "    }\n",
              "  }\n",
              "</style>\n",
              "\n",
              "  <script>\n",
              "    async function quickchart(key) {\n",
              "      const quickchartButtonEl =\n",
              "        document.querySelector('#' + key + ' button');\n",
              "      quickchartButtonEl.disabled = true;  // To prevent multiple clicks.\n",
              "      quickchartButtonEl.classList.add('colab-df-spinner');\n",
              "      try {\n",
              "        const charts = await google.colab.kernel.invokeFunction(\n",
              "            'suggestCharts', [key], {});\n",
              "      } catch (error) {\n",
              "        console.error('Error during call to suggestCharts:', error);\n",
              "      }\n",
              "      quickchartButtonEl.classList.remove('colab-df-spinner');\n",
              "      quickchartButtonEl.classList.add('colab-df-quickchart-complete');\n",
              "    }\n",
              "    (() => {\n",
              "      let quickchartButtonEl =\n",
              "        document.querySelector('#df-b6833599-7990-4ad9-a075-7f0919e985b5 button');\n",
              "      quickchartButtonEl.style.display =\n",
              "        google.colab.kernel.accessAllowed ? 'block' : 'none';\n",
              "    })();\n",
              "  </script>\n",
              "</div>\n",
              "    </div>\n",
              "  </div>\n"
            ]
          },
          "metadata": {},
          "execution_count": 107
        }
      ],
      "source": [
        "df_definitivo"
      ],
      "id": "c3643034"
    },
    {
      "cell_type": "markdown",
      "source": [
        "<hr>"
      ],
      "metadata": {
        "id": "zdaiZGU6ADr8"
      },
      "id": "zdaiZGU6ADr8"
    },
    {
      "cell_type": "markdown",
      "metadata": {
        "id": "16d47218"
      },
      "source": [
        "<h1> <strong> Reduccion de caracteristicas </strong>  ✂ </h1>"
      ],
      "id": "16d47218"
    },
    {
      "cell_type": "markdown",
      "metadata": {
        "id": "16e60e31"
      },
      "source": [
        "<h2>PCA</h2>"
      ],
      "id": "16e60e31"
    },
    {
      "cell_type": "markdown",
      "metadata": {
        "id": "d0177e04"
      },
      "source": [
        "<p>PCA (Principal Component Analysis) es una técnica de reducción de dimensionalidad que se utiliza comúnmente en análisis de datos y aprendizaje automático. Su objetivo principal es reducir la cantidad de dimensiones (o variables) en un conjunto de datos mientras se conserva la mayor cantidad posible de información.\n",
        "\n",
        "La idea fundamental detrás de PCA es transformar el conjunto de datos original en un nuevo conjunto de datos, donde las variables están descorrelacionadas y ordenadas por la cantidad de varianza que explican. Los \"componentes principales\" son combinaciones lineales de las variables originales y se calculan de manera que capturen la mayor varianza posible.</p>"
      ],
      "id": "d0177e04"
    },
    {
      "cell_type": "code",
      "execution_count": null,
      "metadata": {
        "id": "e6a32c97"
      },
      "outputs": [],
      "source": [
        "#df_definitivo=df_definitivo.drop(['Etiqueta'], axis=1)"
      ],
      "id": "e6a32c97"
    },
    {
      "cell_type": "markdown",
      "metadata": {
        "id": "06ef0339"
      },
      "source": [
        "<p>Vamos a realizar la grafica de la varianza vs las dimensiones para asi observar graficamente el comportamiento de la varianza en nuestro conjunto de datos</p>"
      ],
      "id": "06ef0339"
    },
    {
      "cell_type": "code",
      "execution_count": null,
      "metadata": {
        "colab": {
          "base_uri": "https://localhost:8080/",
          "height": 472
        },
        "id": "20b8fe1d",
        "outputId": "a3b027d6-8a80-436a-9d5a-f6e5c44b2ecf",
        "scrolled": false
      },
      "outputs": [
        {
          "output_type": "display_data",
          "data": {
            "text/plain": [
              "<Figure size 640x480 with 1 Axes>"
            ],
            "image/png": "[encoded data removed]"
          },
          "metadata": {}
        }
      ],
      "source": [
        "pca = PCA()\n",
        "train_index = range(0,len(df_definitivo))\n",
        "X_train_PCA = pca.fit_transform(df_definitivo)\n",
        "cumsum = np.cumsum(pca.explained_variance_ratio_)\n",
        "plt.plot(cumsum)\n",
        "plt.xlabel('Dimensiones')\n",
        "plt.ylabel('Varianza')\n",
        "plt.title(\"Explained Variance PCA\")\n",
        "plt.show()\n",
        "X_train_PCA = pd.DataFrame(data=X_train_PCA, index=train_index)"
      ],
      "id": "20b8fe1d"
    },
    {
      "cell_type": "markdown",
      "metadata": {
        "id": "169fbdf0"
      },
      "source": [
        "<p>Ahora vamos analizar dentro de un rango de componentes cual es ese punto en donde la varianza cada vez presenta cambios leves</p>"
      ],
      "id": "169fbdf0"
    },
    {
      "cell_type": "code",
      "execution_count": null,
      "metadata": {
        "colab": {
          "base_uri": "https://localhost:8080/"
        },
        "id": "de57c005",
        "outputId": "670367f5-9d54-458f-cd5a-6680d9cf316f",
        "scrolled": true
      },
      "outputs": [
        {
          "output_type": "stream",
          "name": "stdout",
          "text": [
            "varianza para los primeros 2000 componentes [0.96611271] \n",
            "\n",
            "varianza para los primeros 2400 componentes [0.98282786] \n",
            "\n",
            "varianza para los primeros 2500 componentes [0.98562274] \n",
            "\n",
            "varianza para los primeros 2600 componentes [0.98801044] \n",
            "\n",
            "varianza para los primeros 2650 componentes [0.9890685] \n",
            "\n",
            "varianza para los primeros 2680 componentes [0.9896637] \n",
            "\n",
            "varianza para los primeros 2690 componentes [0.98985574] \n",
            "\n",
            "varianza para los primeros 2700 componentes [0.99004496] \n",
            "\n",
            "varianza para los primeros 2800 componentes [0.9917766] \n",
            "\n",
            "varianza para los primeros 2900 componentes [0.99324134] \n",
            "\n",
            "varianza para los primeros 2950 componentes [0.99388721] \n",
            "\n",
            "varianza para los primeros 2960 componentes [0.99400973] \n",
            "\n",
            "varianza para los primeros 2970 componentes [0.99413026] \n",
            "\n",
            "varianza para los primeros 2980 componentes [0.99424876] \n",
            "\n",
            "varianza para los primeros 2990 componentes [0.99436511] \n",
            "\n",
            "varianza para los primeros 3000 componentes [0.99447953] \n",
            "\n",
            "varianza para los primeros 3100 componentes [0.99552133] \n",
            "\n",
            "varianza para los primeros 3400 componentes [0.99772566] \n",
            "\n",
            "varianza para los primeros 3500 componentes [0.99822277] \n",
            "\n",
            "varianza para los primeros 3600 componentes [0.99862985] \n",
            "\n",
            "varianza para los primeros 3800 componentes [0.99922445] \n",
            "\n",
            "varianza para los primeros 4000 componentes [0.99959825] \n",
            "\n"
          ]
        }
      ],
      "source": [
        "importanceOfPrincipalComponents = \\\n",
        "    pd.DataFrame(data=pca.explained_variance_ratio_)\n",
        "importanceOfPrincipalComponents = importanceOfPrincipalComponents.T\n",
        "\n",
        "print('varianza para los primeros 2000 componentes',\n",
        "      importanceOfPrincipalComponents.loc[:,0:1999].sum(axis=1).values, '\\n' )\n",
        "print('varianza para los primeros 2400 componentes',\n",
        "      importanceOfPrincipalComponents.loc[:,0:2399].sum(axis=1).values, '\\n')\n",
        "print('varianza para los primeros 2500 componentes',\n",
        "      importanceOfPrincipalComponents.loc[:,0:2499].sum(axis=1).values, '\\n')\n",
        "print('varianza para los primeros 2600 componentes',\n",
        "      importanceOfPrincipalComponents.loc[:,0:2599].sum(axis=1).values, '\\n')\n",
        "print('varianza para los primeros 2650 componentes',\n",
        "      importanceOfPrincipalComponents.loc[:,0:2649].sum(axis=1).values, '\\n')\n",
        "print('varianza para los primeros 2680 componentes',\n",
        "      importanceOfPrincipalComponents.loc[:,0:2679].sum(axis=1).values, '\\n')\n",
        "print('varianza para los primeros 2690 componentes',\n",
        "      importanceOfPrincipalComponents.loc[:,0:2689].sum(axis=1).values, '\\n')\n",
        "print('varianza para los primeros 2700 componentes',\n",
        "      importanceOfPrincipalComponents.loc[:,0:2699].sum(axis=1).values, '\\n')\n",
        "print('varianza para los primeros 2800 componentes',\n",
        "      importanceOfPrincipalComponents.loc[:,0:2799].sum(axis=1).values, '\\n')\n",
        "print('varianza para los primeros 2900 componentes',\n",
        "      importanceOfPrincipalComponents.loc[:,0:2899].sum(axis=1).values, '\\n')\n",
        "print('varianza para los primeros 2950 componentes',\n",
        "      importanceOfPrincipalComponents.loc[:,0:2949].sum(axis=1).values, '\\n')\n",
        "print('varianza para los primeros 2960 componentes',\n",
        "      importanceOfPrincipalComponents.loc[:,0:2959].sum(axis=1).values, '\\n')\n",
        "print('varianza para los primeros 2970 componentes',\n",
        "      importanceOfPrincipalComponents.loc[:,0:2969].sum(axis=1).values, '\\n')\n",
        "print('varianza para los primeros 2980 componentes',\n",
        "      importanceOfPrincipalComponents.loc[:,0:2979].sum(axis=1).values, '\\n')\n",
        "print('varianza para los primeros 2990 componentes',\n",
        "      importanceOfPrincipalComponents.loc[:,0:2989].sum(axis=1).values, '\\n')\n",
        "print('varianza para los primeros 3000 componentes',\n",
        "      importanceOfPrincipalComponents.loc[:,0:2999].sum(axis=1).values, '\\n')\n",
        "print('varianza para los primeros 3100 componentes',\n",
        "      importanceOfPrincipalComponents.loc[:,0:3099].sum(axis=1).values, '\\n')\n",
        "print('varianza para los primeros 3400 componentes',\n",
        "      importanceOfPrincipalComponents.loc[:,0:3399].sum(axis=1).values, '\\n')\n",
        "print('varianza para los primeros 3500 componentes',\n",
        "      importanceOfPrincipalComponents.loc[:,0:3499].sum(axis=1).values, '\\n')\n",
        "print('varianza para los primeros 3600 componentes',\n",
        "      importanceOfPrincipalComponents.loc[:,0:3599].sum(axis=1).values, '\\n')\n",
        "print('varianza para los primeros 3800 componentes',\n",
        "      importanceOfPrincipalComponents.loc[:,0:3799].sum(axis=1).values, '\\n')\n",
        "print('varianza para los primeros 4000 componentes',\n",
        "      importanceOfPrincipalComponents.loc[:,0:3999].sum(axis=1).values, '\\n')"
      ],
      "id": "de57c005"
    },
    {
      "cell_type": "markdown",
      "source": [
        "![GraficaVarianza.png](data:image/png;base64,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)"
      ],
      "metadata": {
        "id": "ICvFQnmXXRPC"
      },
      "id": "ICvFQnmXXRPC"
    },
    {
      "cell_type": "markdown",
      "metadata": {
        "id": "1c348e04"
      },
      "source": [
        "<p>Gracias al calculo y a la grafica podemos observar que despues de los 2400 componentes los cambios en la varianza son cada vez mas leves por lo tanto decidimos que para reducir la dimensionalidad de nuestro datos nos vamos a quedar con 2400 componentes y hacer el respectivo proceso de ML.\n",
        "<p>\n",
        "    <strong>varianza para los primeros 2400 componentes [0.98282786]  </strong>"
      ],
      "id": "1c348e04"
    },
    {
      "cell_type": "markdown",
      "metadata": {
        "id": "9efe020d"
      },
      "source": [
        "<p>Procedemos a realizar el proceso de reduccion de caracteristicas usando la libreria de sklearn y su componente decomposition e importamos KernelPCA, usando como numero de componentes 2400\n",
        "</p>"
      ],
      "id": "9efe020d"
    },
    {
      "cell_type": "code",
      "execution_count": null,
      "metadata": {
        "id": "fc49d0b2"
      },
      "outputs": [],
      "source": [
        "\n",
        "\n",
        "n_components = 2400\n",
        "kernel = 'rbf'\n",
        "\n",
        "kernelPCA = KernelPCA(n_components=n_components, kernel=kernel)\n",
        "\n",
        "kernelPCA.fit(X_train_PCA)\n",
        "X_train_kernelPCA = kernelPCA.transform(X_train_PCA)\n",
        "X_train_kernelPCA = pd.DataFrame(data=X_train_kernelPCA,index=train_index)\n",
        "\n"
      ],
      "id": "fc49d0b2"
    },
    {
      "cell_type": "code",
      "execution_count": null,
      "metadata": {
        "colab": {
          "base_uri": "https://localhost:8080/",
          "height": 444
        },
        "id": "098cf4b7",
        "outputId": "aee52689-4f92-49d7-e765-8ded3deea678"
      },
      "outputs": [
        {
          "output_type": "execute_result",
          "data": {
            "text/plain": [
              "          0         1         2         3         4         5         6     \\\n",
              "0     0.193559  0.050992  0.124069  0.149860  0.016470 -0.022707  0.039205   \n",
              "1     0.096408 -0.100270 -0.077604 -0.043529  0.008684  0.012192 -0.006979   \n",
              "2     0.034165 -0.109714 -0.040642  0.047759  0.070520 -0.023570  0.013540   \n",
              "3     0.076140 -0.013391  0.001979 -0.048652  0.055139 -0.084289 -0.019858   \n",
              "4    -0.100012  0.009802  0.014222 -0.004802 -0.020465  0.012918 -0.015009   \n",
              "...        ...       ...       ...       ...       ...       ...       ...   \n",
              "6495  0.004461 -0.018637 -0.038189 -0.057278 -0.050197 -0.086534 -0.021666   \n",
              "6496  0.101843 -0.017576 -0.085101 -0.017752 -0.018190  0.045040  0.028004   \n",
              "6497  0.053952  0.050456 -0.123149 -0.045552  0.022847  0.065067  0.057868   \n",
              "6498 -0.072606 -0.030349 -0.017420  0.014494 -0.031516 -0.026892  0.028796   \n",
              "6499  0.021344 -0.074474 -0.074074 -0.001855 -0.040414 -0.012950 -0.013714   \n",
              "\n",
              "          7         8         9     ...      2390      2391      2392  \\\n",
              "0     0.053459 -0.050168  0.072176  ...  0.001047  0.004812 -0.000938   \n",
              "1     0.090012  0.002360  0.021790  ...  0.004953  0.000981  0.000249   \n",
              "2    -0.036355  0.021794  0.043021  ... -0.001373  0.005024  0.000585   \n",
              "3     0.053259 -0.028647  0.001946  ...  0.000209  0.002640 -0.003354   \n",
              "4    -0.030594 -0.020056 -0.017716  ... -0.004662 -0.001452 -0.002715   \n",
              "...        ...       ...       ...  ...       ...       ...       ...   \n",
              "6495  0.042531  0.020725  0.035257  ... -0.000730 -0.000284  0.001464   \n",
              "6496 -0.001084 -0.103518 -0.048665  ...  0.001511  0.001648  0.000755   \n",
              "6497  0.017347 -0.057257 -0.047133  ... -0.000081  0.000171  0.000389   \n",
              "6498 -0.005910 -0.006841  0.014430  ... -0.001380  0.002829  0.003548   \n",
              "6499  0.038669 -0.060119  0.005322  ...  0.001250 -0.000553 -0.001385   \n",
              "\n",
              "          2393      2394      2395      2396      2397      2398      2399  \n",
              "0     0.005703 -0.006320  0.001537 -0.000303  0.004613 -0.004205 -0.003436  \n",
              "1     0.001204  0.000173  0.002641  0.000696 -0.002736  0.000705  0.000375  \n",
              "2     0.002637 -0.002974 -0.000673 -0.000940  0.000694  0.001280  0.002026  \n",
              "3     0.003059  0.001513 -0.004267 -0.001774  0.001341  0.001902 -0.001031  \n",
              "4     0.000565 -0.002609 -0.001229  0.001395  0.001910  0.000215 -0.003325  \n",
              "...        ...       ...       ...       ...       ...       ...       ...  \n",
              "6495  0.001087 -0.001379 -0.001266  0.004055 -0.000146 -0.000142  0.001200  \n",
              "6496  0.001715 -0.002027  0.003590  0.003008 -0.003675  0.000674 -0.001861  \n",
              "6497 -0.004306 -0.001611 -0.001074 -0.003983  0.000969 -0.000194  0.002659  \n",
              "6498 -0.002141  0.001806 -0.004811  0.003057 -0.004437  0.000770  0.000940  \n",
              "6499  0.002142 -0.000002 -0.001013 -0.001490  0.000935 -0.000072 -0.001366  \n",
              "\n",
              "[6500 rows x 2400 columns]"
            ],
            "text/html": [
              "\n",
              "  <div id=\"df-f888110a-f006-49d6-86fa-ca29424f912f\" class=\"colab-df-container\">\n",
              "    <div>\n",
              "<style scoped>\n",
              "    .dataframe tbody tr th:only-of-type {\n",
              "        vertical-align: middle;\n",
              "    }\n",
              "\n",
              "    .dataframe tbody tr th {\n",
              "        vertical-align: top;\n",
              "    }\n",
              "\n",
              "    .dataframe thead th {\n",
              "        text-align: right;\n",
              "    }\n",
              "</style>\n",
              "<table border=\"1\" class=\"dataframe\">\n",
              "  <thead>\n",
              "    <tr style=\"text-align: right;\">\n",
              "      <th></th>\n",
              "      <th>0</th>\n",
              "      <th>1</th>\n",
              "      <th>2</th>\n",
              "      <th>3</th>\n",
              "      <th>4</th>\n",
              "      <th>5</th>\n",
              "      <th>6</th>\n",
              "      <th>7</th>\n",
              "      <th>8</th>\n",
              "      <th>9</th>\n",
              "      <th>...</th>\n",
              "      <th>2390</th>\n",
              "      <th>2391</th>\n",
              "      <th>2392</th>\n",
              "      <th>2393</th>\n",
              "      <th>2394</th>\n",
              "      <th>2395</th>\n",
              "      <th>2396</th>\n",
              "      <th>2397</th>\n",
              "      <th>2398</th>\n",
              "      <th>2399</th>\n",
              "    </tr>\n",
              "  </thead>\n",
              "  <tbody>\n",
              "    <tr>\n",
              "      <th>0</th>\n",
              "      <td>0.193559</td>\n",
              "      <td>0.050992</td>\n",
              "      <td>0.124069</td>\n",
              "      <td>0.149860</td>\n",
              "      <td>0.016470</td>\n",
              "      <td>-0.022707</td>\n",
              "      <td>0.039205</td>\n",
              "      <td>0.053459</td>\n",
              "      <td>-0.050168</td>\n",
              "      <td>0.072176</td>\n",
              "      <td>...</td>\n",
              "      <td>0.001047</td>\n",
              "      <td>0.004812</td>\n",
              "      <td>-0.000938</td>\n",
              "      <td>0.005703</td>\n",
              "      <td>-0.006320</td>\n",
              "      <td>0.001537</td>\n",
              "      <td>-0.000303</td>\n",
              "      <td>0.004613</td>\n",
              "      <td>-0.004205</td>\n",
              "      <td>-0.003436</td>\n",
              "    </tr>\n",
              "    <tr>\n",
              "      <th>1</th>\n",
              "      <td>0.096408</td>\n",
              "      <td>-0.100270</td>\n",
              "      <td>-0.077604</td>\n",
              "      <td>-0.043529</td>\n",
              "      <td>0.008684</td>\n",
              "      <td>0.012192</td>\n",
              "      <td>-0.006979</td>\n",
              "      <td>0.090012</td>\n",
              "      <td>0.002360</td>\n",
              "      <td>0.021790</td>\n",
              "      <td>...</td>\n",
              "      <td>0.004953</td>\n",
              "      <td>0.000981</td>\n",
              "      <td>0.000249</td>\n",
              "      <td>0.001204</td>\n",
              "      <td>0.000173</td>\n",
              "      <td>0.002641</td>\n",
              "      <td>0.000696</td>\n",
              "      <td>-0.002736</td>\n",
              "      <td>0.000705</td>\n",
              "      <td>0.000375</td>\n",
              "    </tr>\n",
              "    <tr>\n",
              "      <th>2</th>\n",
              "      <td>0.034165</td>\n",
              "      <td>-0.109714</td>\n",
              "      <td>-0.040642</td>\n",
              "      <td>0.047759</td>\n",
              "      <td>0.070520</td>\n",
              "      <td>-0.023570</td>\n",
              "      <td>0.013540</td>\n",
              "      <td>-0.036355</td>\n",
              "      <td>0.021794</td>\n",
              "      <td>0.043021</td>\n",
              "      <td>...</td>\n",
              "      <td>-0.001373</td>\n",
              "      <td>0.005024</td>\n",
              "      <td>0.000585</td>\n",
              "      <td>0.002637</td>\n",
              "      <td>-0.002974</td>\n",
              "      <td>-0.000673</td>\n",
              "      <td>-0.000940</td>\n",
              "      <td>0.000694</td>\n",
              "      <td>0.001280</td>\n",
              "      <td>0.002026</td>\n",
              "    </tr>\n",
              "    <tr>\n",
              "      <th>3</th>\n",
              "      <td>0.076140</td>\n",
              "      <td>-0.013391</td>\n",
              "      <td>0.001979</td>\n",
              "      <td>-0.048652</td>\n",
              "      <td>0.055139</td>\n",
              "      <td>-0.084289</td>\n",
              "      <td>-0.019858</td>\n",
              "      <td>0.053259</td>\n",
              "      <td>-0.028647</td>\n",
              "      <td>0.001946</td>\n",
              "      <td>...</td>\n",
              "      <td>0.000209</td>\n",
              "      <td>0.002640</td>\n",
              "      <td>-0.003354</td>\n",
              "      <td>0.003059</td>\n",
              "      <td>0.001513</td>\n",
              "      <td>-0.004267</td>\n",
              "      <td>-0.001774</td>\n",
              "      <td>0.001341</td>\n",
              "      <td>0.001902</td>\n",
              "      <td>-0.001031</td>\n",
              "    </tr>\n",
              "    <tr>\n",
              "      <th>4</th>\n",
              "      <td>-0.100012</td>\n",
              "      <td>0.009802</td>\n",
              "      <td>0.014222</td>\n",
              "      <td>-0.004802</td>\n",
              "      <td>-0.020465</td>\n",
              "      <td>0.012918</td>\n",
              "      <td>-0.015009</td>\n",
              "      <td>-0.030594</td>\n",
              "      <td>-0.020056</td>\n",
              "      <td>-0.017716</td>\n",
              "      <td>...</td>\n",
              "      <td>-0.004662</td>\n",
              "      <td>-0.001452</td>\n",
              "      <td>-0.002715</td>\n",
              "      <td>0.000565</td>\n",
              "      <td>-0.002609</td>\n",
              "      <td>-0.001229</td>\n",
              "      <td>0.001395</td>\n",
              "      <td>0.001910</td>\n",
              "      <td>0.000215</td>\n",
              "      <td>-0.003325</td>\n",
              "    </tr>\n",
              "    <tr>\n",
              "      <th>...</th>\n",
              "      <td>...</td>\n",
              "      <td>...</td>\n",
              "      <td>...</td>\n",
              "      <td>...</td>\n",
              "      <td>...</td>\n",
              "      <td>...</td>\n",
              "      <td>...</td>\n",
              "      <td>...</td>\n",
              "      <td>...</td>\n",
              "      <td>...</td>\n",
              "      <td>...</td>\n",
              "      <td>...</td>\n",
              "      <td>...</td>\n",
              "      <td>...</td>\n",
              "      <td>...</td>\n",
              "      <td>...</td>\n",
              "      <td>...</td>\n",
              "      <td>...</td>\n",
              "      <td>...</td>\n",
              "      <td>...</td>\n",
              "      <td>...</td>\n",
              "    </tr>\n",
              "    <tr>\n",
              "      <th>6495</th>\n",
              "      <td>0.004461</td>\n",
              "      <td>-0.018637</td>\n",
              "      <td>-0.038189</td>\n",
              "      <td>-0.057278</td>\n",
              "      <td>-0.050197</td>\n",
              "      <td>-0.086534</td>\n",
              "      <td>-0.021666</td>\n",
              "      <td>0.042531</td>\n",
              "      <td>0.020725</td>\n",
              "      <td>0.035257</td>\n",
              "      <td>...</td>\n",
              "      <td>-0.000730</td>\n",
              "      <td>-0.000284</td>\n",
              "      <td>0.001464</td>\n",
              "      <td>0.001087</td>\n",
              "      <td>-0.001379</td>\n",
              "      <td>-0.001266</td>\n",
              "      <td>0.004055</td>\n",
              "      <td>-0.000146</td>\n",
              "      <td>-0.000142</td>\n",
              "      <td>0.001200</td>\n",
              "    </tr>\n",
              "    <tr>\n",
              "      <th>6496</th>\n",
              "      <td>0.101843</td>\n",
              "      <td>-0.017576</td>\n",
              "      <td>-0.085101</td>\n",
              "      <td>-0.017752</td>\n",
              "      <td>-0.018190</td>\n",
              "      <td>0.045040</td>\n",
              "      <td>0.028004</td>\n",
              "      <td>-0.001084</td>\n",
              "      <td>-0.103518</td>\n",
              "      <td>-0.048665</td>\n",
              "      <td>...</td>\n",
              "      <td>0.001511</td>\n",
              "      <td>0.001648</td>\n",
              "      <td>0.000755</td>\n",
              "      <td>0.001715</td>\n",
              "      <td>-0.002027</td>\n",
              "      <td>0.003590</td>\n",
              "      <td>0.003008</td>\n",
              "      <td>-0.003675</td>\n",
              "      <td>0.000674</td>\n",
              "      <td>-0.001861</td>\n",
              "    </tr>\n",
              "    <tr>\n",
              "      <th>6497</th>\n",
              "      <td>0.053952</td>\n",
              "      <td>0.050456</td>\n",
              "      <td>-0.123149</td>\n",
              "      <td>-0.045552</td>\n",
              "      <td>0.022847</td>\n",
              "      <td>0.065067</td>\n",
              "      <td>0.057868</td>\n",
              "      <td>0.017347</td>\n",
              "      <td>-0.057257</td>\n",
              "      <td>-0.047133</td>\n",
              "      <td>...</td>\n",
              "      <td>-0.000081</td>\n",
              "      <td>0.000171</td>\n",
              "      <td>0.000389</td>\n",
              "      <td>-0.004306</td>\n",
              "      <td>-0.001611</td>\n",
              "      <td>-0.001074</td>\n",
              "      <td>-0.003983</td>\n",
              "      <td>0.000969</td>\n",
              "      <td>-0.000194</td>\n",
              "      <td>0.002659</td>\n",
              "    </tr>\n",
              "    <tr>\n",
              "      <th>6498</th>\n",
              "      <td>-0.072606</td>\n",
              "      <td>-0.030349</td>\n",
              "      <td>-0.017420</td>\n",
              "      <td>0.014494</td>\n",
              "      <td>-0.031516</td>\n",
              "      <td>-0.026892</td>\n",
              "      <td>0.028796</td>\n",
              "      <td>-0.005910</td>\n",
              "      <td>-0.006841</td>\n",
              "      <td>0.014430</td>\n",
              "      <td>...</td>\n",
              "      <td>-0.001380</td>\n",
              "      <td>0.002829</td>\n",
              "      <td>0.003548</td>\n",
              "      <td>-0.002141</td>\n",
              "      <td>0.001806</td>\n",
              "      <td>-0.004811</td>\n",
              "      <td>0.003057</td>\n",
              "      <td>-0.004437</td>\n",
              "      <td>0.000770</td>\n",
              "      <td>0.000940</td>\n",
              "    </tr>\n",
              "    <tr>\n",
              "      <th>6499</th>\n",
              "      <td>0.021344</td>\n",
              "      <td>-0.074474</td>\n",
              "      <td>-0.074074</td>\n",
              "      <td>-0.001855</td>\n",
              "      <td>-0.040414</td>\n",
              "      <td>-0.012950</td>\n",
              "      <td>-0.013714</td>\n",
              "      <td>0.038669</td>\n",
              "      <td>-0.060119</td>\n",
              "      <td>0.005322</td>\n",
              "      <td>...</td>\n",
              "      <td>0.001250</td>\n",
              "      <td>-0.000553</td>\n",
              "      <td>-0.001385</td>\n",
              "      <td>0.002142</td>\n",
              "      <td>-0.000002</td>\n",
              "      <td>-0.001013</td>\n",
              "      <td>-0.001490</td>\n",
              "      <td>0.000935</td>\n",
              "      <td>-0.000072</td>\n",
              "      <td>-0.001366</td>\n",
              "    </tr>\n",
              "  </tbody>\n",
              "</table>\n",
              "<p>6500 rows × 2400 columns</p>\n",
              "</div>\n",
              "    <div class=\"colab-df-buttons\">\n",
              "\n",
              "  <div class=\"colab-df-container\">\n",
              "    <button class=\"colab-df-convert\" onclick=\"convertToInteractive('df-f888110a-f006-49d6-86fa-ca29424f912f')\"\n",
              "            title=\"Convert this dataframe to an interactive table.\"\n",
              "            style=\"display:none;\">\n",
              "\n",
              "  <svg xmlns=\"http://www.w3.org/2000/svg\" height=\"24px\" viewBox=\"0 -960 960 960\">\n",
              "    <path d=\"M120-120v-720h720v720H120Zm60-500h600v-160H180v160Zm220 220h160v-160H400v160Zm0 220h160v-160H400v160ZM180-400h160v-160H180v160Zm440 0h160v-160H620v160ZM180-180h160v-160H180v160Zm440 0h160v-160H620v160Z\"/>\n",
              "  </svg>\n",
              "    </button>\n",
              "\n",
              "  <style>\n",
              "    .colab-df-container {\n",
              "      display:flex;\n",
              "      gap: 12px;\n",
              "    }\n",
              "\n",
              "    .colab-df-convert {\n",
              "      background-color: #E8F0FE;\n",
              "      border: none;\n",
              "      border-radius: 50%;\n",
              "      cursor: pointer;\n",
              "      display: none;\n",
              "      fill: #1967D2;\n",
              "      height: 32px;\n",
              "      padding: 0 0 0 0;\n",
              "      width: 32px;\n",
              "    }\n",
              "\n",
              "    .colab-df-convert:hover {\n",
              "      background-color: #E2EBFA;\n",
              "      box-shadow: 0px 1px 2px rgba(60, 64, 67, 0.3), 0px 1px 3px 1px rgba(60, 64, 67, 0.15);\n",
              "      fill: #174EA6;\n",
              "    }\n",
              "\n",
              "    .colab-df-buttons div {\n",
              "      margin-bottom: 4px;\n",
              "    }\n",
              "\n",
              "    [theme=dark] .colab-df-convert {\n",
              "      background-color: #3B4455;\n",
              "      fill: #D2E3FC;\n",
              "    }\n",
              "\n",
              "    [theme=dark] .colab-df-convert:hover {\n",
              "      background-color: #434B5C;\n",
              "      box-shadow: 0px 1px 3px 1px rgba(0, 0, 0, 0.15);\n",
              "      filter: drop-shadow(0px 1px 2px rgba(0, 0, 0, 0.3));\n",
              "      fill: #FFFFFF;\n",
              "    }\n",
              "  </style>\n",
              "\n",
              "    <script>\n",
              "      const buttonEl =\n",
              "        document.querySelector('#df-f888110a-f006-49d6-86fa-ca29424f912f button.colab-df-convert');\n",
              "      buttonEl.style.display =\n",
              "        google.colab.kernel.accessAllowed ? 'block' : 'none';\n",
              "\n",
              "      async function convertToInteractive(key) {\n",
              "        const element = document.querySelector('#df-f888110a-f006-49d6-86fa-ca29424f912f');\n",
              "        const dataTable =\n",
              "          await google.colab.kernel.invokeFunction('convertToInteractive',\n",
              "                                                    [key], {});\n",
              "        if (!dataTable) return;\n",
              "\n",
              "        const docLinkHtml = 'Like what you see? Visit the ' +\n",
              "          '<a target=\"_blank\" href=https://colab.research.google.com/notebooks/data_table.ipynb>data table notebook</a>'\n",
              "          + ' to learn more about interactive tables.';\n",
              "        element.innerHTML = '';\n",
              "        dataTable['output_type'] = 'display_data';\n",
              "        await google.colab.output.renderOutput(dataTable, element);\n",
              "        const docLink = document.createElement('div');\n",
              "        docLink.innerHTML = docLinkHtml;\n",
              "        element.appendChild(docLink);\n",
              "      }\n",
              "    </script>\n",
              "  </div>\n",
              "\n",
              "\n",
              "<div id=\"df-f3bf7f36-8b3c-43b1-b23a-04cb0579db38\">\n",
              "  <button class=\"colab-df-quickchart\" onclick=\"quickchart('df-f3bf7f36-8b3c-43b1-b23a-04cb0579db38')\"\n",
              "            title=\"Suggest charts\"\n",
              "            style=\"display:none;\">\n",
              "\n",
              "<svg xmlns=\"http://www.w3.org/2000/svg\" height=\"24px\"viewBox=\"0 0 24 24\"\n",
              "     width=\"24px\">\n",
              "    <g>\n",
              "        <path d=\"M19 3H5c-1.1 0-2 .9-2 2v14c0 1.1.9 2 2 2h14c1.1 0 2-.9 2-2V5c0-1.1-.9-2-2-2zM9 17H7v-7h2v7zm4 0h-2V7h2v10zm4 0h-2v-4h2v4z\"/>\n",
              "    </g>\n",
              "</svg>\n",
              "  </button>\n",
              "\n",
              "<style>\n",
              "  .colab-df-quickchart {\n",
              "      --bg-color: #E8F0FE;\n",
              "      --fill-color: #1967D2;\n",
              "      --hover-bg-color: #E2EBFA;\n",
              "      --hover-fill-color: #174EA6;\n",
              "      --disabled-fill-color: #AAA;\n",
              "      --disabled-bg-color: #DDD;\n",
              "  }\n",
              "\n",
              "  [theme=dark] .colab-df-quickchart {\n",
              "      --bg-color: #3B4455;\n",
              "      --fill-color: #D2E3FC;\n",
              "      --hover-bg-color: #434B5C;\n",
              "      --hover-fill-color: #FFFFFF;\n",
              "      --disabled-bg-color: #3B4455;\n",
              "      --disabled-fill-color: #666;\n",
              "  }\n",
              "\n",
              "  .colab-df-quickchart {\n",
              "    background-color: var(--bg-color);\n",
              "    border: none;\n",
              "    border-radius: 50%;\n",
              "    cursor: pointer;\n",
              "    display: none;\n",
              "    fill: var(--fill-color);\n",
              "    height: 32px;\n",
              "    padding: 0;\n",
              "    width: 32px;\n",
              "  }\n",
              "\n",
              "  .colab-df-quickchart:hover {\n",
              "    background-color: var(--hover-bg-color);\n",
              "    box-shadow: 0 1px 2px rgba(60, 64, 67, 0.3), 0 1px 3px 1px rgba(60, 64, 67, 0.15);\n",
              "    fill: var(--button-hover-fill-color);\n",
              "  }\n",
              "\n",
              "  .colab-df-quickchart-complete:disabled,\n",
              "  .colab-df-quickchart-complete:disabled:hover {\n",
              "    background-color: var(--disabled-bg-color);\n",
              "    fill: var(--disabled-fill-color);\n",
              "    box-shadow: none;\n",
              "  }\n",
              "\n",
              "  .colab-df-spinner {\n",
              "    border: 2px solid var(--fill-color);\n",
              "    border-color: transparent;\n",
              "    border-bottom-color: var(--fill-color);\n",
              "    animation:\n",
              "      spin 1s steps(1) infinite;\n",
              "  }\n",
              "\n",
              "  @keyframes spin {\n",
              "    0% {\n",
              "      border-color: transparent;\n",
              "      border-bottom-color: var(--fill-color);\n",
              "      border-left-color: var(--fill-color);\n",
              "    }\n",
              "    20% {\n",
              "      border-color: transparent;\n",
              "      border-left-color: var(--fill-color);\n",
              "      border-top-color: var(--fill-color);\n",
              "    }\n",
              "    30% {\n",
              "      border-color: transparent;\n",
              "      border-left-color: var(--fill-color);\n",
              "      border-top-color: var(--fill-color);\n",
              "      border-right-color: var(--fill-color);\n",
              "    }\n",
              "    40% {\n",
              "      border-color: transparent;\n",
              "      border-right-color: var(--fill-color);\n",
              "      border-top-color: var(--fill-color);\n",
              "    }\n",
              "    60% {\n",
              "      border-color: transparent;\n",
              "      border-right-color: var(--fill-color);\n",
              "    }\n",
              "    80% {\n",
              "      border-color: transparent;\n",
              "      border-right-color: var(--fill-color);\n",
              "      border-bottom-color: var(--fill-color);\n",
              "    }\n",
              "    90% {\n",
              "      border-color: transparent;\n",
              "      border-bottom-color: var(--fill-color);\n",
              "    }\n",
              "  }\n",
              "</style>\n",
              "\n",
              "  <script>\n",
              "    async function quickchart(key) {\n",
              "      const quickchartButtonEl =\n",
              "        document.querySelector('#' + key + ' button');\n",
              "      quickchartButtonEl.disabled = true;  // To prevent multiple clicks.\n",
              "      quickchartButtonEl.classList.add('colab-df-spinner');\n",
              "      try {\n",
              "        const charts = await google.colab.kernel.invokeFunction(\n",
              "            'suggestCharts', [key], {});\n",
              "      } catch (error) {\n",
              "        console.error('Error during call to suggestCharts:', error);\n",
              "      }\n",
              "      quickchartButtonEl.classList.remove('colab-df-spinner');\n",
              "      quickchartButtonEl.classList.add('colab-df-quickchart-complete');\n",
              "    }\n",
              "    (() => {\n",
              "      let quickchartButtonEl =\n",
              "        document.querySelector('#df-f3bf7f36-8b3c-43b1-b23a-04cb0579db38 button');\n",
              "      quickchartButtonEl.style.display =\n",
              "        google.colab.kernel.accessAllowed ? 'block' : 'none';\n",
              "    })();\n",
              "  </script>\n",
              "</div>\n",
              "    </div>\n",
              "  </div>\n"
            ]
          },
          "metadata": {},
          "execution_count": 112
        }
      ],
      "source": [
        "X_train_kernelPCA"
      ],
      "id": "098cf4b7"
    },
    {
      "cell_type": "markdown",
      "metadata": {
        "id": "6fcf498e"
      },
      "source": [
        "<p>Podemos observar como el numero de columnas ha disminuido, pasando de 5000 a 2500 pero manteniendo la mayor cantidad de informacion relevante posible</p>"
      ],
      "id": "6fcf498e"
    },
    {
      "cell_type": "markdown",
      "metadata": {
        "id": "2b2853c7"
      },
      "source": [
        "<p>Procedemos a transformar los data frames de validacion y testing</p>"
      ],
      "id": "2b2853c7"
    },
    {
      "cell_type": "code",
      "execution_count": null,
      "metadata": {
        "id": "9441a031"
      },
      "outputs": [],
      "source": [
        "X_validation_kernelPCA = kernelPCA.transform(validation_data)\n",
        "X_validation_kernelPCA = \\\n",
        "    pd.DataFrame(data=X_validation_kernelPCA, index=validation_index)"
      ],
      "id": "9441a031"
    },
    {
      "cell_type": "code",
      "execution_count": null,
      "metadata": {
        "colab": {
          "base_uri": "https://localhost:8080/",
          "height": 444
        },
        "id": "4bcc4715",
        "outputId": "360eff30-4886-4183-8b03-27a995344d6e"
      },
      "outputs": [
        {
          "output_type": "execute_result",
          "data": {
            "text/plain": [
              "          0         1         2         3         4         5         6     \\\n",
              "6000  0.107736  0.053539  0.022088  0.034324  0.098363  0.069254  0.061784   \n",
              "6001  0.107736  0.053539  0.022088  0.034324  0.098363  0.069254  0.061784   \n",
              "6002  0.107736  0.053539  0.022088  0.034324  0.098363  0.069254  0.061784   \n",
              "6003  0.107736  0.053539  0.022088  0.034324  0.098363  0.069254  0.061784   \n",
              "6004  0.107736  0.053539  0.022088  0.034324  0.098363  0.069254  0.061784   \n",
              "...        ...       ...       ...       ...       ...       ...       ...   \n",
              "6995  0.107736  0.053539  0.022088  0.034324  0.098363  0.069254  0.061784   \n",
              "6996  0.107736  0.053539  0.022088  0.034324  0.098363  0.069254  0.061784   \n",
              "6997  0.107736  0.053539  0.022088  0.034324  0.098363  0.069254  0.061784   \n",
              "6998  0.107736  0.053539  0.022088  0.034324  0.098363  0.069254  0.061784   \n",
              "6999  0.107736  0.053539  0.022088  0.034324  0.098363  0.069254  0.061784   \n",
              "\n",
              "          7        8         9     ...      2390     2391      2392     2393  \\\n",
              "6000  0.072609 -0.00941  0.072094  ... -0.017331 -0.00821  0.000824 -0.00461   \n",
              "6001  0.072609 -0.00941  0.072094  ... -0.017331 -0.00821  0.000824 -0.00461   \n",
              "6002  0.072609 -0.00941  0.072094  ... -0.017331 -0.00821  0.000824 -0.00461   \n",
              "6003  0.072609 -0.00941  0.072094  ... -0.017331 -0.00821  0.000824 -0.00461   \n",
              "6004  0.072609 -0.00941  0.072094  ... -0.017331 -0.00821  0.000824 -0.00461   \n",
              "...        ...      ...       ...  ...       ...      ...       ...      ...   \n",
              "6995  0.072609 -0.00941  0.072094  ... -0.017331 -0.00821  0.000824 -0.00461   \n",
              "6996  0.072609 -0.00941  0.072094  ... -0.017331 -0.00821  0.000824 -0.00461   \n",
              "6997  0.072609 -0.00941  0.072094  ... -0.017331 -0.00821  0.000824 -0.00461   \n",
              "6998  0.072609 -0.00941  0.072094  ... -0.017331 -0.00821  0.000824 -0.00461   \n",
              "6999  0.072609 -0.00941  0.072094  ... -0.017331 -0.00821  0.000824 -0.00461   \n",
              "\n",
              "          2394      2395      2396      2397      2398      2399  \n",
              "6000 -0.009182 -0.002358  0.006611  0.012592  0.003078 -0.003307  \n",
              "6001 -0.009182 -0.002358  0.006611  0.012592  0.003078 -0.003307  \n",
              "6002 -0.009182 -0.002358  0.006611  0.012592  0.003078 -0.003307  \n",
              "6003 -0.009182 -0.002358  0.006611  0.012592  0.003078 -0.003307  \n",
              "6004 -0.009182 -0.002358  0.006611  0.012592  0.003078 -0.003307  \n",
              "...        ...       ...       ...       ...       ...       ...  \n",
              "6995 -0.009182 -0.002358  0.006611  0.012592  0.003078 -0.003307  \n",
              "6996 -0.009182 -0.002358  0.006611  0.012592  0.003078 -0.003307  \n",
              "6997 -0.009182 -0.002358  0.006611  0.012592  0.003078 -0.003307  \n",
              "6998 -0.009182 -0.002358  0.006611  0.012592  0.003078 -0.003307  \n",
              "6999 -0.009182 -0.002358  0.006611  0.012592  0.003078 -0.003307  \n",
              "\n",
              "[1000 rows x 2400 columns]"
            ],
            "text/html": [
              "\n",
              "  <div id=\"df-c0e22cc9-6633-46ce-98aa-749416a5064d\" class=\"colab-df-container\">\n",
              "    <div>\n",
              "<style scoped>\n",
              "    .dataframe tbody tr th:only-of-type {\n",
              "        vertical-align: middle;\n",
              "    }\n",
              "\n",
              "    .dataframe tbody tr th {\n",
              "        vertical-align: top;\n",
              "    }\n",
              "\n",
              "    .dataframe thead th {\n",
              "        text-align: right;\n",
              "    }\n",
              "</style>\n",
              "<table border=\"1\" class=\"dataframe\">\n",
              "  <thead>\n",
              "    <tr style=\"text-align: right;\">\n",
              "      <th></th>\n",
              "      <th>0</th>\n",
              "      <th>1</th>\n",
              "      <th>2</th>\n",
              "      <th>3</th>\n",
              "      <th>4</th>\n",
              "      <th>5</th>\n",
              "      <th>6</th>\n",
              "      <th>7</th>\n",
              "      <th>8</th>\n",
              "      <th>9</th>\n",
              "      <th>...</th>\n",
              "      <th>2390</th>\n",
              "      <th>2391</th>\n",
              "      <th>2392</th>\n",
              "      <th>2393</th>\n",
              "      <th>2394</th>\n",
              "      <th>2395</th>\n",
              "      <th>2396</th>\n",
              "      <th>2397</th>\n",
              "      <th>2398</th>\n",
              "      <th>2399</th>\n",
              "    </tr>\n",
              "  </thead>\n",
              "  <tbody>\n",
              "    <tr>\n",
              "      <th>6000</th>\n",
              "      <td>0.107736</td>\n",
              "      <td>0.053539</td>\n",
              "      <td>0.022088</td>\n",
              "      <td>0.034324</td>\n",
              "      <td>0.098363</td>\n",
              "      <td>0.069254</td>\n",
              "      <td>0.061784</td>\n",
              "      <td>0.072609</td>\n",
              "      <td>-0.00941</td>\n",
              "      <td>0.072094</td>\n",
              "      <td>...</td>\n",
              "      <td>-0.017331</td>\n",
              "      <td>-0.00821</td>\n",
              "      <td>0.000824</td>\n",
              "      <td>-0.00461</td>\n",
              "      <td>-0.009182</td>\n",
              "      <td>-0.002358</td>\n",
              "      <td>0.006611</td>\n",
              "      <td>0.012592</td>\n",
              "      <td>0.003078</td>\n",
              "      <td>-0.003307</td>\n",
              "    </tr>\n",
              "    <tr>\n",
              "      <th>6001</th>\n",
              "      <td>0.107736</td>\n",
              "      <td>0.053539</td>\n",
              "      <td>0.022088</td>\n",
              "      <td>0.034324</td>\n",
              "      <td>0.098363</td>\n",
              "      <td>0.069254</td>\n",
              "      <td>0.061784</td>\n",
              "      <td>0.072609</td>\n",
              "      <td>-0.00941</td>\n",
              "      <td>0.072094</td>\n",
              "      <td>...</td>\n",
              "      <td>-0.017331</td>\n",
              "      <td>-0.00821</td>\n",
              "      <td>0.000824</td>\n",
              "      <td>-0.00461</td>\n",
              "      <td>-0.009182</td>\n",
              "      <td>-0.002358</td>\n",
              "      <td>0.006611</td>\n",
              "      <td>0.012592</td>\n",
              "      <td>0.003078</td>\n",
              "      <td>-0.003307</td>\n",
              "    </tr>\n",
              "    <tr>\n",
              "      <th>6002</th>\n",
              "      <td>0.107736</td>\n",
              "      <td>0.053539</td>\n",
              "      <td>0.022088</td>\n",
              "      <td>0.034324</td>\n",
              "      <td>0.098363</td>\n",
              "      <td>0.069254</td>\n",
              "      <td>0.061784</td>\n",
              "      <td>0.072609</td>\n",
              "      <td>-0.00941</td>\n",
              "      <td>0.072094</td>\n",
              "      <td>...</td>\n",
              "      <td>-0.017331</td>\n",
              "      <td>-0.00821</td>\n",
              "      <td>0.000824</td>\n",
              "      <td>-0.00461</td>\n",
              "      <td>-0.009182</td>\n",
              "      <td>-0.002358</td>\n",
              "      <td>0.006611</td>\n",
              "      <td>0.012592</td>\n",
              "      <td>0.003078</td>\n",
              "      <td>-0.003307</td>\n",
              "    </tr>\n",
              "    <tr>\n",
              "      <th>6003</th>\n",
              "      <td>0.107736</td>\n",
              "      <td>0.053539</td>\n",
              "      <td>0.022088</td>\n",
              "      <td>0.034324</td>\n",
              "      <td>0.098363</td>\n",
              "      <td>0.069254</td>\n",
              "      <td>0.061784</td>\n",
              "      <td>0.072609</td>\n",
              "      <td>-0.00941</td>\n",
              "      <td>0.072094</td>\n",
              "      <td>...</td>\n",
              "      <td>-0.017331</td>\n",
              "      <td>-0.00821</td>\n",
              "      <td>0.000824</td>\n",
              "      <td>-0.00461</td>\n",
              "      <td>-0.009182</td>\n",
              "      <td>-0.002358</td>\n",
              "      <td>0.006611</td>\n",
              "      <td>0.012592</td>\n",
              "      <td>0.003078</td>\n",
              "      <td>-0.003307</td>\n",
              "    </tr>\n",
              "    <tr>\n",
              "      <th>6004</th>\n",
              "      <td>0.107736</td>\n",
              "      <td>0.053539</td>\n",
              "      <td>0.022088</td>\n",
              "      <td>0.034324</td>\n",
              "      <td>0.098363</td>\n",
              "      <td>0.069254</td>\n",
              "      <td>0.061784</td>\n",
              "      <td>0.072609</td>\n",
              "      <td>-0.00941</td>\n",
              "      <td>0.072094</td>\n",
              "      <td>...</td>\n",
              "      <td>-0.017331</td>\n",
              "      <td>-0.00821</td>\n",
              "      <td>0.000824</td>\n",
              "      <td>-0.00461</td>\n",
              "      <td>-0.009182</td>\n",
              "      <td>-0.002358</td>\n",
              "      <td>0.006611</td>\n",
              "      <td>0.012592</td>\n",
              "      <td>0.003078</td>\n",
              "      <td>-0.003307</td>\n",
              "    </tr>\n",
              "    <tr>\n",
              "      <th>...</th>\n",
              "      <td>...</td>\n",
              "      <td>...</td>\n",
              "      <td>...</td>\n",
              "      <td>...</td>\n",
              "      <td>...</td>\n",
              "      <td>...</td>\n",
              "      <td>...</td>\n",
              "      <td>...</td>\n",
              "      <td>...</td>\n",
              "      <td>...</td>\n",
              "      <td>...</td>\n",
              "      <td>...</td>\n",
              "      <td>...</td>\n",
              "      <td>...</td>\n",
              "      <td>...</td>\n",
              "      <td>...</td>\n",
              "      <td>...</td>\n",
              "      <td>...</td>\n",
              "      <td>...</td>\n",
              "      <td>...</td>\n",
              "      <td>...</td>\n",
              "    </tr>\n",
              "    <tr>\n",
              "      <th>6995</th>\n",
              "      <td>0.107736</td>\n",
              "      <td>0.053539</td>\n",
              "      <td>0.022088</td>\n",
              "      <td>0.034324</td>\n",
              "      <td>0.098363</td>\n",
              "      <td>0.069254</td>\n",
              "      <td>0.061784</td>\n",
              "      <td>0.072609</td>\n",
              "      <td>-0.00941</td>\n",
              "      <td>0.072094</td>\n",
              "      <td>...</td>\n",
              "      <td>-0.017331</td>\n",
              "      <td>-0.00821</td>\n",
              "      <td>0.000824</td>\n",
              "      <td>-0.00461</td>\n",
              "      <td>-0.009182</td>\n",
              "      <td>-0.002358</td>\n",
              "      <td>0.006611</td>\n",
              "      <td>0.012592</td>\n",
              "      <td>0.003078</td>\n",
              "      <td>-0.003307</td>\n",
              "    </tr>\n",
              "    <tr>\n",
              "      <th>6996</th>\n",
              "      <td>0.107736</td>\n",
              "      <td>0.053539</td>\n",
              "      <td>0.022088</td>\n",
              "      <td>0.034324</td>\n",
              "      <td>0.098363</td>\n",
              "      <td>0.069254</td>\n",
              "      <td>0.061784</td>\n",
              "      <td>0.072609</td>\n",
              "      <td>-0.00941</td>\n",
              "      <td>0.072094</td>\n",
              "      <td>...</td>\n",
              "      <td>-0.017331</td>\n",
              "      <td>-0.00821</td>\n",
              "      <td>0.000824</td>\n",
              "      <td>-0.00461</td>\n",
              "      <td>-0.009182</td>\n",
              "      <td>-0.002358</td>\n",
              "      <td>0.006611</td>\n",
              "      <td>0.012592</td>\n",
              "      <td>0.003078</td>\n",
              "      <td>-0.003307</td>\n",
              "    </tr>\n",
              "    <tr>\n",
              "      <th>6997</th>\n",
              "      <td>0.107736</td>\n",
              "      <td>0.053539</td>\n",
              "      <td>0.022088</td>\n",
              "      <td>0.034324</td>\n",
              "      <td>0.098363</td>\n",
              "      <td>0.069254</td>\n",
              "      <td>0.061784</td>\n",
              "      <td>0.072609</td>\n",
              "      <td>-0.00941</td>\n",
              "      <td>0.072094</td>\n",
              "      <td>...</td>\n",
              "      <td>-0.017331</td>\n",
              "      <td>-0.00821</td>\n",
              "      <td>0.000824</td>\n",
              "      <td>-0.00461</td>\n",
              "      <td>-0.009182</td>\n",
              "      <td>-0.002358</td>\n",
              "      <td>0.006611</td>\n",
              "      <td>0.012592</td>\n",
              "      <td>0.003078</td>\n",
              "      <td>-0.003307</td>\n",
              "    </tr>\n",
              "    <tr>\n",
              "      <th>6998</th>\n",
              "      <td>0.107736</td>\n",
              "      <td>0.053539</td>\n",
              "      <td>0.022088</td>\n",
              "      <td>0.034324</td>\n",
              "      <td>0.098363</td>\n",
              "      <td>0.069254</td>\n",
              "      <td>0.061784</td>\n",
              "      <td>0.072609</td>\n",
              "      <td>-0.00941</td>\n",
              "      <td>0.072094</td>\n",
              "      <td>...</td>\n",
              "      <td>-0.017331</td>\n",
              "      <td>-0.00821</td>\n",
              "      <td>0.000824</td>\n",
              "      <td>-0.00461</td>\n",
              "      <td>-0.009182</td>\n",
              "      <td>-0.002358</td>\n",
              "      <td>0.006611</td>\n",
              "      <td>0.012592</td>\n",
              "      <td>0.003078</td>\n",
              "      <td>-0.003307</td>\n",
              "    </tr>\n",
              "    <tr>\n",
              "      <th>6999</th>\n",
              "      <td>0.107736</td>\n",
              "      <td>0.053539</td>\n",
              "      <td>0.022088</td>\n",
              "      <td>0.034324</td>\n",
              "      <td>0.098363</td>\n",
              "      <td>0.069254</td>\n",
              "      <td>0.061784</td>\n",
              "      <td>0.072609</td>\n",
              "      <td>-0.00941</td>\n",
              "      <td>0.072094</td>\n",
              "      <td>...</td>\n",
              "      <td>-0.017331</td>\n",
              "      <td>-0.00821</td>\n",
              "      <td>0.000824</td>\n",
              "      <td>-0.00461</td>\n",
              "      <td>-0.009182</td>\n",
              "      <td>-0.002358</td>\n",
              "      <td>0.006611</td>\n",
              "      <td>0.012592</td>\n",
              "      <td>0.003078</td>\n",
              "      <td>-0.003307</td>\n",
              "    </tr>\n",
              "  </tbody>\n",
              "</table>\n",
              "<p>1000 rows × 2400 columns</p>\n",
              "</div>\n",
              "    <div class=\"colab-df-buttons\">\n",
              "\n",
              "  <div class=\"colab-df-container\">\n",
              "    <button class=\"colab-df-convert\" onclick=\"convertToInteractive('df-c0e22cc9-6633-46ce-98aa-749416a5064d')\"\n",
              "            title=\"Convert this dataframe to an interactive table.\"\n",
              "            style=\"display:none;\">\n",
              "\n",
              "  <svg xmlns=\"http://www.w3.org/2000/svg\" height=\"24px\" viewBox=\"0 -960 960 960\">\n",
              "    <path d=\"M120-120v-720h720v720H120Zm60-500h600v-160H180v160Zm220 220h160v-160H400v160Zm0 220h160v-160H400v160ZM180-400h160v-160H180v160Zm440 0h160v-160H620v160ZM180-180h160v-160H180v160Zm440 0h160v-160H620v160Z\"/>\n",
              "  </svg>\n",
              "    </button>\n",
              "\n",
              "  <style>\n",
              "    .colab-df-container {\n",
              "      display:flex;\n",
              "      gap: 12px;\n",
              "    }\n",
              "\n",
              "    .colab-df-convert {\n",
              "      background-color: #E8F0FE;\n",
              "      border: none;\n",
              "      border-radius: 50%;\n",
              "      cursor: pointer;\n",
              "      display: none;\n",
              "      fill: #1967D2;\n",
              "      height: 32px;\n",
              "      padding: 0 0 0 0;\n",
              "      width: 32px;\n",
              "    }\n",
              "\n",
              "    .colab-df-convert:hover {\n",
              "      background-color: #E2EBFA;\n",
              "      box-shadow: 0px 1px 2px rgba(60, 64, 67, 0.3), 0px 1px 3px 1px rgba(60, 64, 67, 0.15);\n",
              "      fill: #174EA6;\n",
              "    }\n",
              "\n",
              "    .colab-df-buttons div {\n",
              "      margin-bottom: 4px;\n",
              "    }\n",
              "\n",
              "    [theme=dark] .colab-df-convert {\n",
              "      background-color: #3B4455;\n",
              "      fill: #D2E3FC;\n",
              "    }\n",
              "\n",
              "    [theme=dark] .colab-df-convert:hover {\n",
              "      background-color: #434B5C;\n",
              "      box-shadow: 0px 1px 3px 1px rgba(0, 0, 0, 0.15);\n",
              "      filter: drop-shadow(0px 1px 2px rgba(0, 0, 0, 0.3));\n",
              "      fill: #FFFFFF;\n",
              "    }\n",
              "  </style>\n",
              "\n",
              "    <script>\n",
              "      const buttonEl =\n",
              "        document.querySelector('#df-c0e22cc9-6633-46ce-98aa-749416a5064d button.colab-df-convert');\n",
              "      buttonEl.style.display =\n",
              "        google.colab.kernel.accessAllowed ? 'block' : 'none';\n",
              "\n",
              "      async function convertToInteractive(key) {\n",
              "        const element = document.querySelector('#df-c0e22cc9-6633-46ce-98aa-749416a5064d');\n",
              "        const dataTable =\n",
              "          await google.colab.kernel.invokeFunction('convertToInteractive',\n",
              "                                                    [key], {});\n",
              "        if (!dataTable) return;\n",
              "\n",
              "        const docLinkHtml = 'Like what you see? Visit the ' +\n",
              "          '<a target=\"_blank\" href=https://colab.research.google.com/notebooks/data_table.ipynb>data table notebook</a>'\n",
              "          + ' to learn more about interactive tables.';\n",
              "        element.innerHTML = '';\n",
              "        dataTable['output_type'] = 'display_data';\n",
              "        await google.colab.output.renderOutput(dataTable, element);\n",
              "        const docLink = document.createElement('div');\n",
              "        docLink.innerHTML = docLinkHtml;\n",
              "        element.appendChild(docLink);\n",
              "      }\n",
              "    </script>\n",
              "  </div>\n",
              "\n",
              "\n",
              "<div id=\"df-0dbed3cb-a930-482d-8f84-106ae2f95880\">\n",
              "  <button class=\"colab-df-quickchart\" onclick=\"quickchart('df-0dbed3cb-a930-482d-8f84-106ae2f95880')\"\n",
              "            title=\"Suggest charts\"\n",
              "            style=\"display:none;\">\n",
              "\n",
              "<svg xmlns=\"http://www.w3.org/2000/svg\" height=\"24px\"viewBox=\"0 0 24 24\"\n",
              "     width=\"24px\">\n",
              "    <g>\n",
              "        <path d=\"M19 3H5c-1.1 0-2 .9-2 2v14c0 1.1.9 2 2 2h14c1.1 0 2-.9 2-2V5c0-1.1-.9-2-2-2zM9 17H7v-7h2v7zm4 0h-2V7h2v10zm4 0h-2v-4h2v4z\"/>\n",
              "    </g>\n",
              "</svg>\n",
              "  </button>\n",
              "\n",
              "<style>\n",
              "  .colab-df-quickchart {\n",
              "      --bg-color: #E8F0FE;\n",
              "      --fill-color: #1967D2;\n",
              "      --hover-bg-color: #E2EBFA;\n",
              "      --hover-fill-color: #174EA6;\n",
              "      --disabled-fill-color: #AAA;\n",
              "      --disabled-bg-color: #DDD;\n",
              "  }\n",
              "\n",
              "  [theme=dark] .colab-df-quickchart {\n",
              "      --bg-color: #3B4455;\n",
              "      --fill-color: #D2E3FC;\n",
              "      --hover-bg-color: #434B5C;\n",
              "      --hover-fill-color: #FFFFFF;\n",
              "      --disabled-bg-color: #3B4455;\n",
              "      --disabled-fill-color: #666;\n",
              "  }\n",
              "\n",
              "  .colab-df-quickchart {\n",
              "    background-color: var(--bg-color);\n",
              "    border: none;\n",
              "    border-radius: 50%;\n",
              "    cursor: pointer;\n",
              "    display: none;\n",
              "    fill: var(--fill-color);\n",
              "    height: 32px;\n",
              "    padding: 0;\n",
              "    width: 32px;\n",
              "  }\n",
              "\n",
              "  .colab-df-quickchart:hover {\n",
              "    background-color: var(--hover-bg-color);\n",
              "    box-shadow: 0 1px 2px rgba(60, 64, 67, 0.3), 0 1px 3px 1px rgba(60, 64, 67, 0.15);\n",
              "    fill: var(--button-hover-fill-color);\n",
              "  }\n",
              "\n",
              "  .colab-df-quickchart-complete:disabled,\n",
              "  .colab-df-quickchart-complete:disabled:hover {\n",
              "    background-color: var(--disabled-bg-color);\n",
              "    fill: var(--disabled-fill-color);\n",
              "    box-shadow: none;\n",
              "  }\n",
              "\n",
              "  .colab-df-spinner {\n",
              "    border: 2px solid var(--fill-color);\n",
              "    border-color: transparent;\n",
              "    border-bottom-color: var(--fill-color);\n",
              "    animation:\n",
              "      spin 1s steps(1) infinite;\n",
              "  }\n",
              "\n",
              "  @keyframes spin {\n",
              "    0% {\n",
              "      border-color: transparent;\n",
              "      border-bottom-color: var(--fill-color);\n",
              "      border-left-color: var(--fill-color);\n",
              "    }\n",
              "    20% {\n",
              "      border-color: transparent;\n",
              "      border-left-color: var(--fill-color);\n",
              "      border-top-color: var(--fill-color);\n",
              "    }\n",
              "    30% {\n",
              "      border-color: transparent;\n",
              "      border-left-color: var(--fill-color);\n",
              "      border-top-color: var(--fill-color);\n",
              "      border-right-color: var(--fill-color);\n",
              "    }\n",
              "    40% {\n",
              "      border-color: transparent;\n",
              "      border-right-color: var(--fill-color);\n",
              "      border-top-color: var(--fill-color);\n",
              "    }\n",
              "    60% {\n",
              "      border-color: transparent;\n",
              "      border-right-color: var(--fill-color);\n",
              "    }\n",
              "    80% {\n",
              "      border-color: transparent;\n",
              "      border-right-color: var(--fill-color);\n",
              "      border-bottom-color: var(--fill-color);\n",
              "    }\n",
              "    90% {\n",
              "      border-color: transparent;\n",
              "      border-bottom-color: var(--fill-color);\n",
              "    }\n",
              "  }\n",
              "</style>\n",
              "\n",
              "  <script>\n",
              "    async function quickchart(key) {\n",
              "      const quickchartButtonEl =\n",
              "        document.querySelector('#' + key + ' button');\n",
              "      quickchartButtonEl.disabled = true;  // To prevent multiple clicks.\n",
              "      quickchartButtonEl.classList.add('colab-df-spinner');\n",
              "      try {\n",
              "        const charts = await google.colab.kernel.invokeFunction(\n",
              "            'suggestCharts', [key], {});\n",
              "      } catch (error) {\n",
              "        console.error('Error during call to suggestCharts:', error);\n",
              "      }\n",
              "      quickchartButtonEl.classList.remove('colab-df-spinner');\n",
              "      quickchartButtonEl.classList.add('colab-df-quickchart-complete');\n",
              "    }\n",
              "    (() => {\n",
              "      let quickchartButtonEl =\n",
              "        document.querySelector('#df-0dbed3cb-a930-482d-8f84-106ae2f95880 button');\n",
              "      quickchartButtonEl.style.display =\n",
              "        google.colab.kernel.accessAllowed ? 'block' : 'none';\n",
              "    })();\n",
              "  </script>\n",
              "</div>\n",
              "    </div>\n",
              "  </div>\n"
            ]
          },
          "metadata": {},
          "execution_count": 114
        }
      ],
      "source": [
        "X_validation_kernelPCA"
      ],
      "id": "4bcc4715"
    },
    {
      "cell_type": "code",
      "execution_count": null,
      "metadata": {
        "id": "e4a95f63"
      },
      "outputs": [],
      "source": [
        "X_testing_kernelPCA = kernelPCA.transform(testing_data)\n",
        "X_testing_kernelPCA = \\\n",
        "    pd.DataFrame(data=X_testing_kernelPCA, index=testing_index)"
      ],
      "id": "e4a95f63"
    },
    {
      "cell_type": "markdown",
      "metadata": {
        "id": "927f115c"
      },
      "source": [
        "<p>Cambiamos el nombre de nuestros data frames para que sean mas facil de entender</p>"
      ],
      "id": "927f115c"
    },
    {
      "cell_type": "code",
      "execution_count": null,
      "metadata": {
        "id": "211797a7"
      },
      "outputs": [],
      "source": [
        "df_train=X_train_kernelPCA\n",
        "df_testing = X_testing_kernelPCA\n",
        "df_validation= X_validation_kernelPCA"
      ],
      "id": "211797a7"
    },
    {
      "cell_type": "markdown",
      "metadata": {
        "id": "d8917b6c"
      },
      "source": [
        "<p>Despues de haber hecho el arduo trabajo de estandarizar, escalar y reducir las caracteristicas de nuestro data set ya podemos iniciar el proceso de implementar metodos de aprendizaje automatico los cuale seran:</p>\n",
        " <ul>\n",
        "        <li> Arboles de decision</li>\n",
        "        <li> Random Forest</li>\n",
        "        <li> Redes neuronales</li>\n",
        "        <li> Aprendizaje profundo</li>\n",
        " </ul>"
      ],
      "id": "d8917b6c"
    },
    {
      "cell_type": "markdown",
      "source": [
        "<hr>"
      ],
      "metadata": {
        "id": "Sqjc9cDSAHHu"
      },
      "id": "Sqjc9cDSAHHu"
    },
    {
      "cell_type": "markdown",
      "metadata": {
        "id": "f97ce308"
      },
      "source": [
        "<h1> <strong>  ML MODEL </strong> 🤖</h1>"
      ],
      "id": "f97ce308"
    },
    {
      "cell_type": "markdown",
      "metadata": {
        "id": "634d591d"
      },
      "source": [
        "<p>A continuacion vamos a empezar con la aplicacion de los modelos de machine learning, para hacer el entrenamiento de los mismos para la clasificacion de los conjuntos de datos.  </p>"
      ],
      "id": "634d591d"
    },
    {
      "cell_type": "markdown",
      "metadata": {
        "id": "64238464"
      },
      "source": [
        "<h3> <strong> Arbol de decision </strong> 🌳</h3>"
      ],
      "id": "64238464"
    },
    {
      "cell_type": "markdown",
      "metadata": {
        "id": "6708375f"
      },
      "source": [
        "<h4>Prueba con parametros con defecto</h4>"
      ],
      "id": "6708375f"
    },
    {
      "cell_type": "code",
      "execution_count": null,
      "metadata": {
        "colab": {
          "base_uri": "https://localhost:8080/"
        },
        "id": "0a741275",
        "outputId": "f109b134-0578-455d-8ada-aae567b67d7a",
        "scrolled": true
      },
      "outputs": [
        {
          "output_type": "stream",
          "name": "stdout",
          "text": [
            "Precisión inicial de validacion: 50.000%\n",
            "Precisión inicial de entrenamiento: 100.000%\n"
          ]
        }
      ],
      "source": [
        "\n",
        "\n",
        "arbol = tree.DecisionTreeClassifier(criterion = \"entropy\", splitter='best')\n",
        "\n",
        "arbol_decision=arbol.fit(df_train,training_labels)\n",
        "\n",
        "y_pred_validation = arbol_decision.predict(df_validation)\n",
        "y_pred_training = arbol_decision.predict(df_train)\n",
        "\n",
        "dt_precision_initial_validation = 100 * accuracy_score(y_pred_validation,validation_labels )\n",
        "\n",
        "print('Precisión inicial de validacion: {0:.3f}%'.format(dt_precision_initial_validation))\n",
        "\n",
        "\n",
        "dt_precision_initial_train = 100 * accuracy_score(y_pred_training,training_labels )\n",
        "print('Precisión inicial de entrenamiento: {0:.3f}%'.format(dt_precision_initial_train))"
      ],
      "id": "0a741275"
    },
    {
      "cell_type": "code",
      "source": [
        "# Crear la matriz de confusión para el conjunto de validacion\n",
        "cm_test = confusion_matrix(validation_labels,y_pred_validation)\n",
        "\n",
        "# Crear el mapa de calor para el conjunto de validacion\n",
        "plt.figure(figsize=(8, 6))\n",
        "sns.heatmap(cm_test, annot=True, cmap=\"Blues\",fmt='d')\n",
        "plt.title(\"Matriz de Confusión - Conjunto de Prueba\")\n",
        "plt.xlabel(\"valores reales\")\n",
        "plt.ylabel(\"predicciones\")\n",
        "plt.show()"
      ],
      "metadata": {
        "colab": {
          "base_uri": "https://localhost:8080/",
          "height": 565
        },
        "id": "xueOXDE-vFpW",
        "outputId": "c81c1812-5001-49c5-de88-08fe2f2c7d36"
      },
      "id": "xueOXDE-vFpW",
      "execution_count": null,
      "outputs": [
        {
          "output_type": "display_data",
          "data": {
            "text/plain": [
              "<Figure size 800x600 with 2 Axes>"
            ],
            "image/png": "[encoded data removed]"
          },
          "metadata": {}
        }
      ]
    },
    {
      "cell_type": "markdown",
      "source": [
        "<p>Podemos observar que hay un problema de sobre ajuste (overfitting) ya que nuestro modelo se esta ajustando mucho a nuestro datos que prueba y cuando lo ponemos a prueba con datos diferentes vemos que solo acerta en un 50% ¿Que esta pasando con el otro 50%? eso lo podemos ver en la matriz de confusion</p>"
      ],
      "metadata": {
        "id": "una0F1QE8Phe"
      },
      "id": "una0F1QE8Phe"
    },
    {
      "cell_type": "markdown",
      "source": [
        "![MATRIZ-CONFUSION.png](data:image/png;base64,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)"
      ],
      "metadata": {
        "id": "tdZnPE3j9HUF"
      },
      "id": "tdZnPE3j9HUF"
    },
    {
      "cell_type": "markdown",
      "source": [
        "<p>Lo que esta pasando con nuestro modelo de arbol de decision es que un 50% son verdaderos positivos, esos estan bien pero el otro 50% son falsos positivos, eso quiere decir que hay 500 datos entre nueves(9) o cuatros(4) en donde nuestro modelo no logra identificarlos correctamente, vamos a realizar una segunda prueba usando la libreria de GridSearch </p>"
      ],
      "metadata": {
        "id": "xKAX41xm9NmZ"
      },
      "id": "xKAX41xm9NmZ"
    },
    {
      "cell_type": "markdown",
      "source": [
        "<hr>"
      ],
      "metadata": {
        "id": "uGjOZtdoAUME"
      },
      "id": "uGjOZtdoAUME"
    },
    {
      "cell_type": "markdown",
      "source": [
        "<h4>Prubea 2 usando GridSearch</h4>"
      ],
      "metadata": {
        "id": "othlpnfQdo09"
      },
      "id": "othlpnfQdo09"
    },
    {
      "cell_type": "code",
      "source": [
        "model = DecisionTreeClassifier(\n",
        "    criterion='gini',max_depth=10,splitter='best'\n",
        ")"
      ],
      "metadata": {
        "id": "kys6t7KMdufE"
      },
      "id": "kys6t7KMdufE",
      "execution_count": null,
      "outputs": []
    },
    {
      "cell_type": "markdown",
      "source": [
        "<p> Se crea una instancia de DecisionTreeClassifier. Los parámetros especificados son:\n",
        "<ul> <li> <strong> criterion:</strong> Criterio para medir la calidad de una división. En este caso, se utiliza el índice Gini ('gini'), que es común para problemas de clasificación.</li>\n",
        "<li> <strong> max_depth: </strong> La profundidad máxima del árbol. Aquí, se limita a 10 niveles para evitar un sobreajuste.</li>\n",
        "<li> <strong>splitter: </strong> Estrategia utilizada para elegir la división en cada nodo. 'best' selecciona la mejor división. </li></ul>\n",
        " </p>"
      ],
      "metadata": {
        "id": "fhTNTBG5B2dM"
      },
      "id": "fhTNTBG5B2dM"
    },
    {
      "cell_type": "code",
      "source": [
        "\n",
        "param_grid = {\n",
        "    'criterion': ['gini', 'entropy'],\n",
        "    'max_depth': [30, 50, 100,250,500],\n",
        "    'min_samples_split': [25,40, 80, 120],\n",
        "    'min_samples_leaf': [40, 20, 150,300],\n",
        "    'max_features': ['auto', 'sqrt', 'log2', 250]\n",
        "}\n",
        "\n"
      ],
      "metadata": {
        "id": "KZeLS_EKqtXd"
      },
      "id": "KZeLS_EKqtXd",
      "execution_count": null,
      "outputs": []
    },
    {
      "cell_type": "markdown",
      "source": [
        "<p>Se define un espacio de hiperparámetros para realizar la búsqueda en rejilla. Esto incluye diferentes opciones para criterio, profundidad máxima, número mínimo de muestras requeridas para dividir un nodo, número mínimo de muestras requeridas en una hoja y las características máximas a considerar para la división.\n",
        "\n",
        "<ul>\n",
        "\n",
        " <li> <strong>criterion:  </strong> Especifica la función para medir la calidad de una división. En un árbol de decisión, esto puede ser 'gini' para el índice Gini o 'entropy' para la ganancia de información. </li>\n",
        " <li> <strong>max_depth: </strong> La profundidad máxima del árbol. Controla la cantidad máxima de niveles en el árbol.\n",
        " </li>\n",
        " <li> <strong> min_samples_split: </strong> El número mínimo de muestras requeridas para dividir un nodo interno. Si el número de muestras en un nodo es menor que este valor, no se realiza la división. </li>\n",
        " <li> <strong>min_samples_leaf: </strong> El número mínimo de muestras requeridas para estar en un nodo hoja. Garantiza que cada hoja tenga al menos este número de muestras. </li>\n",
        " <li> <strong> max_features: </strong>  El número máximo de características que se deben considerar al buscar la mejor división.</li>\n",
        "\n",
        "\n",
        "\n",
        "</ul>\n",
        "\n",
        "para cada hiper parametro se va usar un vecto de posibles opciones\n",
        "</p>"
      ],
      "metadata": {
        "id": "fDNt_7noDLKI"
      },
      "id": "fDNt_7noDLKI"
    },
    {
      "cell_type": "code",
      "source": [
        "grid_model_dt = GridSearchCV(\n",
        "    estimator=model,\n",
        "    param_grid = param_grid,\n",
        "    error_score=\"raise\",\n",
        "    refit=True,\n",
        "    n_jobs=-1,\n",
        "    cv=5,\n",
        ")"
      ],
      "metadata": {
        "id": "W7n5KB1wK59m"
      },
      "id": "W7n5KB1wK59m",
      "execution_count": null,
      "outputs": []
    },
    {
      "cell_type": "markdown",
      "source": [
        "<p> Se crea una instancia de GridSearchCV, que realiza una búsqueda en rejilla sobre el espacio de hiperparámetros especificado. Algunos parámetros clave son:\n",
        "\n",
        "<ul>  \n",
        " <li> <strong>estimator:</strong> El modelo sobre el cual se realiza la búsqueda en rejilla. </li>\n",
        " <li>  <strong> param_grid: </strong> El espacio de hiperparámetros a explorar. </li>\n",
        " <li> <strong> error_score: </strong> Controla qué hacer si ocurre un error durante la evaluación de un conjunto particular de hiperparámetros. </li>\n",
        " <li>  <strong>refit:</strong> Si es True, ajusta el modelo con los mejores hiperparámetros encontrados. </li>\n",
        " <li>  <strong>n_jobs:</strong> Número de trabajadores para realizar la búsqueda en paralelo (aquí, se utiliza -1 para utilizar todos los núcleos disponibles).</li>\n",
        " <li> <strong>cv:</strong> Número de divisiones para la validación cruzada (en este caso, 5 divisiones). </li>\n",
        "\n",
        "</ul>\n",
        "</p>"
      ],
      "metadata": {
        "id": "2mJ3WL6MDWJZ"
      },
      "id": "2mJ3WL6MDWJZ"
    },
    {
      "cell_type": "code",
      "source": [
        "grid_model_dt.fit(df_train, training_labels)"
      ],
      "metadata": {
        "colab": {
          "base_uri": "https://localhost:8080/",
          "height": 118
        },
        "id": "2z3ss0Idqzpj",
        "outputId": "2be52584-a49f-48d1-e58d-f7f812bd30d7"
      },
      "id": "2z3ss0Idqzpj",
      "execution_count": null,
      "outputs": [
        {
          "output_type": "execute_result",
          "data": {
            "text/plain": [
              "GridSearchCV(cv=5, error_score='raise',\n",
              "             estimator=DecisionTreeClassifier(max_depth=10), n_jobs=-1,\n",
              "             param_grid={'criterion': ['gini', 'entropy'],\n",
              "                         'max_depth': [30, 50, 100, 250, 500],\n",
              "                         'max_features': ['auto', 'sqrt', 'log2', 250],\n",
              "                         'min_samples_leaf': [40, 20, 150, 300],\n",
              "                         'min_samples_split': [25, 40, 80, 120]})"
            ],
            "text/html": [
              "<style>#sk-container-id-8 {color: black;background-color: white;}#sk-container-id-8 pre{padding: 0;}#sk-container-id-8 div.sk-toggleable {background-color: white;}#sk-container-id-8 label.sk-toggleable__label {cursor: pointer;display: block;width: 100%;margin-bottom: 0;padding: 0.3em;box-sizing: border-box;text-align: center;}#sk-container-id-8 label.sk-toggleable__label-arrow:before {content: \"▸\";float: left;margin-right: 0.25em;color: #696969;}#sk-container-id-8 label.sk-toggleable__label-arrow:hover:before {color: black;}#sk-container-id-8 div.sk-estimator:hover label.sk-toggleable__label-arrow:before {color: black;}#sk-container-id-8 div.sk-toggleable__content {max-height: 0;max-width: 0;overflow: hidden;text-align: left;background-color: #f0f8ff;}#sk-container-id-8 div.sk-toggleable__content pre {margin: 0.2em;color: black;border-radius: 0.25em;background-color: #f0f8ff;}#sk-container-id-8 input.sk-toggleable__control:checked~div.sk-toggleable__content {max-height: 200px;max-width: 100%;overflow: auto;}#sk-container-id-8 input.sk-toggleable__control:checked~label.sk-toggleable__label-arrow:before {content: \"▾\";}#sk-container-id-8 div.sk-estimator input.sk-toggleable__control:checked~label.sk-toggleable__label {background-color: #d4ebff;}#sk-container-id-8 div.sk-label input.sk-toggleable__control:checked~label.sk-toggleable__label {background-color: #d4ebff;}#sk-container-id-8 input.sk-hidden--visually {border: 0;clip: rect(1px 1px 1px 1px);clip: rect(1px, 1px, 1px, 1px);height: 1px;margin: -1px;overflow: hidden;padding: 0;position: absolute;width: 1px;}#sk-container-id-8 div.sk-estimator {font-family: monospace;background-color: #f0f8ff;border: 1px dotted black;border-radius: 0.25em;box-sizing: border-box;margin-bottom: 0.5em;}#sk-container-id-8 div.sk-estimator:hover {background-color: #d4ebff;}#sk-container-id-8 div.sk-parallel-item::after {content: \"\";width: 100%;border-bottom: 1px solid gray;flex-grow: 1;}#sk-container-id-8 div.sk-label:hover label.sk-toggleable__label {background-color: #d4ebff;}#sk-container-id-8 div.sk-serial::before {content: \"\";position: absolute;border-left: 1px solid gray;box-sizing: border-box;top: 0;bottom: 0;left: 50%;z-index: 0;}#sk-container-id-8 div.sk-serial {display: flex;flex-direction: column;align-items: center;background-color: white;padding-right: 0.2em;padding-left: 0.2em;position: relative;}#sk-container-id-8 div.sk-item {position: relative;z-index: 1;}#sk-container-id-8 div.sk-parallel {display: flex;align-items: stretch;justify-content: center;background-color: white;position: relative;}#sk-container-id-8 div.sk-item::before, #sk-container-id-8 div.sk-parallel-item::before {content: \"\";position: absolute;border-left: 1px solid gray;box-sizing: border-box;top: 0;bottom: 0;left: 50%;z-index: -1;}#sk-container-id-8 div.sk-parallel-item {display: flex;flex-direction: column;z-index: 1;position: relative;background-color: white;}#sk-container-id-8 div.sk-parallel-item:first-child::after {align-self: flex-end;width: 50%;}#sk-container-id-8 div.sk-parallel-item:last-child::after {align-self: flex-start;width: 50%;}#sk-container-id-8 div.sk-parallel-item:only-child::after {width: 0;}#sk-container-id-8 div.sk-dashed-wrapped {border: 1px dashed gray;margin: 0 0.4em 0.5em 0.4em;box-sizing: border-box;padding-bottom: 0.4em;background-color: white;}#sk-container-id-8 div.sk-label label {font-family: monospace;font-weight: bold;display: inline-block;line-height: 1.2em;}#sk-container-id-8 div.sk-label-container {text-align: center;}#sk-container-id-8 div.sk-container {/* jupyter's `normalize.less` sets `[hidden] { display: none; }` but bootstrap.min.css set `[hidden] { display: none !important; }` so we also need the `!important` here to be able to override the default hidden behavior on the sphinx rendered scikit-learn.org. See: https://github.com/scikit-learn/scikit-learn/issues/21755 */display: inline-block !important;position: relative;}#sk-container-id-8 div.sk-text-repr-fallback {display: none;}</style><div id=\"sk-container-id-8\" class=\"sk-top-container\"><div class=\"sk-text-repr-fallback\"><pre>GridSearchCV(cv=5, error_score=&#x27;raise&#x27;,\n",
              "             estimator=DecisionTreeClassifier(max_depth=10), n_jobs=-1,\n",
              "             param_grid={&#x27;criterion&#x27;: [&#x27;gini&#x27;, &#x27;entropy&#x27;],\n",
              "                         &#x27;max_depth&#x27;: [30, 50, 100, 250, 500],\n",
              "                         &#x27;max_features&#x27;: [&#x27;auto&#x27;, &#x27;sqrt&#x27;, &#x27;log2&#x27;, 250],\n",
              "                         &#x27;min_samples_leaf&#x27;: [40, 20, 150, 300],\n",
              "                         &#x27;min_samples_split&#x27;: [25, 40, 80, 120]})</pre><b>In a Jupyter environment, please rerun this cell to show the HTML representation or trust the notebook. <br />On GitHub, the HTML representation is unable to render, please try loading this page with nbviewer.org.</b></div><div class=\"sk-container\" hidden><div class=\"sk-item sk-dashed-wrapped\"><div class=\"sk-label-container\"><div class=\"sk-label sk-toggleable\"><input class=\"sk-toggleable__control sk-hidden--visually\" id=\"sk-estimator-id-22\" type=\"checkbox\" ><label for=\"sk-estimator-id-22\" class=\"sk-toggleable__label sk-toggleable__label-arrow\">GridSearchCV</label><div class=\"sk-toggleable__content\"><pre>GridSearchCV(cv=5, error_score=&#x27;raise&#x27;,\n",
              "             estimator=DecisionTreeClassifier(max_depth=10), n_jobs=-1,\n",
              "             param_grid={&#x27;criterion&#x27;: [&#x27;gini&#x27;, &#x27;entropy&#x27;],\n",
              "                         &#x27;max_depth&#x27;: [30, 50, 100, 250, 500],\n",
              "                         &#x27;max_features&#x27;: [&#x27;auto&#x27;, &#x27;sqrt&#x27;, &#x27;log2&#x27;, 250],\n",
              "                         &#x27;min_samples_leaf&#x27;: [40, 20, 150, 300],\n",
              "                         &#x27;min_samples_split&#x27;: [25, 40, 80, 120]})</pre></div></div></div><div class=\"sk-parallel\"><div class=\"sk-parallel-item\"><div class=\"sk-item\"><div class=\"sk-label-container\"><div class=\"sk-label sk-toggleable\"><input class=\"sk-toggleable__control sk-hidden--visually\" id=\"sk-estimator-id-23\" type=\"checkbox\" ><label for=\"sk-estimator-id-23\" class=\"sk-toggleable__label sk-toggleable__label-arrow\">estimator: DecisionTreeClassifier</label><div class=\"sk-toggleable__content\"><pre>DecisionTreeClassifier(max_depth=10)</pre></div></div></div><div class=\"sk-serial\"><div class=\"sk-item\"><div class=\"sk-estimator sk-toggleable\"><input class=\"sk-toggleable__control sk-hidden--visually\" id=\"sk-estimator-id-24\" type=\"checkbox\" ><label for=\"sk-estimator-id-24\" class=\"sk-toggleable__label sk-toggleable__label-arrow\">DecisionTreeClassifier</label><div class=\"sk-toggleable__content\"><pre>DecisionTreeClassifier(max_depth=10)</pre></div></div></div></div></div></div></div></div></div></div>"
            ]
          },
          "metadata": {},
          "execution_count": 183
        }
      ]
    },
    {
      "cell_type": "markdown",
      "source": [
        "<p> <strong>grid_model_dt.fit(df_train, training_labels)</strong> lleva a cabo el proceso de entrenamiento del modelo de árbol de decisión con los hiperparámetros especificados en param_grid en el conjunto de datos de entrenamiento (df_train) y las etiquetas correspondientes (training_labels). Durante el proceso de búsqueda en rejilla, se explorarán diferentes combinaciones de hiperparámetros, y se seleccionará la combinación que optimiza el rendimiento del modelo en función de la métrica especificada. Después de este proceso, grid_model_dt contendrá información sobre el mejor modelo encontrado, incluyendo los mejores hiperparámetros y otros detalles.</p>"
      ],
      "metadata": {
        "id": "h6jpEOsmMo-A"
      },
      "id": "h6jpEOsmMo-A"
    },
    {
      "cell_type": "markdown",
      "source": [
        "<p>Una vez que el modelo se ajusta con la búsqueda en rejilla, podemos acceder a los mejores hiperparámetros y al mejor modelo mediante el atributo best_params_ y best_estimator_, respectivamente, de grid_model_dt.</p>"
      ],
      "metadata": {
        "id": "l7VNdAenTeDm"
      },
      "id": "l7VNdAenTeDm"
    },
    {
      "cell_type": "code",
      "source": [
        "grid_model_dt.best_params_"
      ],
      "metadata": {
        "colab": {
          "base_uri": "https://localhost:8080/"
        },
        "id": "9J8vrvcVuBFS",
        "outputId": "6b0ced49-faf7-434d-fc63-517e9b8a308e"
      },
      "id": "9J8vrvcVuBFS",
      "execution_count": null,
      "outputs": [
        {
          "output_type": "execute_result",
          "data": {
            "text/plain": [
              "{'criterion': 'gini',\n",
              " 'max_depth': 250,\n",
              " 'max_features': 'auto',\n",
              " 'min_samples_leaf': 20,\n",
              " 'min_samples_split': 80}"
            ]
          },
          "metadata": {},
          "execution_count": 170
        }
      ]
    },
    {
      "cell_type": "markdown",
      "source": [
        "<p>Creamos un nuevo arbol de decision con el mejor modeloque nos proporciono la libreriade GridSearch</p>"
      ],
      "metadata": {
        "id": "lsN7SRftVYoj"
      },
      "id": "lsN7SRftVYoj"
    },
    {
      "cell_type": "code",
      "source": [
        "arbol = tree.DecisionTreeClassifier( criterion ='gini',\n",
        " max_depth= 250,\n",
        " max_features= 'auto',\n",
        " min_samples_leaf= 20,\n",
        " min_samples_split= 80)\n",
        "\n",
        "arbol_decision=arbol.fit(df_train,training_labels)\n",
        "\n",
        "y_pred_validation = arbol_decision.predict(df_validation)\n",
        "y_pred_training = arbol_decision.predict(df_train)\n",
        "\n",
        "dt_precision_initial_validation = 100 * accuracy_score(y_pred_validation,validation_labels )\n",
        "\n",
        "print('Precisión  de validacion: {0:.3f}%'.format(dt_precision_initial_validation))\n",
        "\n",
        "\n",
        "dt_precision_initial_train = 100 * accuracy_score(y_pred_training,training_labels )\n",
        "print('Precisión  de entrenamiento: {0:.3f}%'.format(dt_precision_initial_train))"
      ],
      "metadata": {
        "colab": {
          "base_uri": "https://localhost:8080/"
        },
        "id": "Mtyv6cDFU9So",
        "outputId": "7a5c4161-b3bb-4e0a-925c-253ad782e576"
      },
      "id": "Mtyv6cDFU9So",
      "execution_count": null,
      "outputs": [
        {
          "output_type": "stream",
          "name": "stdout",
          "text": [
            "Precisión inicial de validacion: 50.000%\n",
            "Precisión inicial de entrenamiento: 71.231%\n"
          ]
        }
      ]
    },
    {
      "cell_type": "code",
      "source": [
        "# Crear la matriz de confusión para el conjunto de validacion\n",
        "cm_test = confusion_matrix(validation_labels,y_pred_validation)\n",
        "\n",
        "# Crear el mapa de calor para el conjunto de validacion\n",
        "plt.figure(figsize=(8, 6))\n",
        "sns.heatmap(cm_test, annot=True, cmap=\"Blues\",fmt='d')\n",
        "plt.title(\"Matriz de Confusión - Conjunto de Prueba\")\n",
        "plt.xlabel(\"Predicciones\")\n",
        "plt.ylabel(\"Valores Verdaderos\")\n",
        "plt.show()"
      ],
      "metadata": {
        "colab": {
          "base_uri": "https://localhost:8080/",
          "height": 565
        },
        "id": "sLC5UdTYxJD_",
        "outputId": "35091e7d-0fc3-444d-81d0-268fbbde82d6"
      },
      "id": "sLC5UdTYxJD_",
      "execution_count": null,
      "outputs": [
        {
          "output_type": "display_data",
          "data": {
            "text/plain": [
              "<Figure size 800x600 with 2 Axes>"
            ],
            "image/png": "[encoded data removed]"
          },
          "metadata": {}
        }
      ]
    },
    {
      "cell_type": "markdown",
      "source": [
        "<p>Podemos observar como a pesar de usar GridSearch y manipular los valores de los hiper parametros sigue siendo presente el problema del sobre ajuste</p>"
      ],
      "metadata": {
        "id": "RZpjUFCl06sE"
      },
      "id": "RZpjUFCl06sE"
    },
    {
      "cell_type": "markdown",
      "source": [
        "<hr>"
      ],
      "metadata": {
        "id": "aGfuQDHLAMv7"
      },
      "id": "aGfuQDHLAMv7"
    },
    {
      "cell_type": "markdown",
      "metadata": {
        "id": "0904c83d"
      },
      "source": [
        "<h3> <strong> RANDOM FOREST</strong> 🌲 🌳 🌴</h3>"
      ],
      "id": "0904c83d"
    },
    {
      "cell_type": "markdown",
      "metadata": {
        "id": "2a975dd8"
      },
      "source": [
        "<h4>Prueba con parametros por defecto</h4>"
      ],
      "id": "2a975dd8"
    },
    {
      "cell_type": "code",
      "execution_count": null,
      "metadata": {
        "colab": {
          "base_uri": "https://localhost:8080/"
        },
        "id": "20493bbd",
        "outputId": "fc61c7fd-306a-4b0e-8c79-a2690bd8da8c"
      },
      "outputs": [
        {
          "output_type": "stream",
          "name": "stdout",
          "text": [
            "Precisión con el conjunto de validacion: 50.000%\n",
            "Precisión del entrenamiento : 100.000%\n"
          ]
        }
      ],
      "source": [
        "\n",
        "#Indicamos que el numero de arboles que conformaran nuestro primer bosque es igual a 100\n",
        "bosque = RandomForestClassifier(n_estimators=100)\n",
        "#Entrenamos nuestro bosque\n",
        "bosque.fit(df_train.values,training_labels.values)\n",
        "\n",
        "y_pred_validation = bosque.predict(df_validation)\n",
        "\n",
        "y_pred_train = bosque.predict(df_train)\n",
        "#Evaluamos con los datos de entrenamiento y validacion\n",
        "\n",
        "validation_accuracy = accuracy_score(y_pred_validation,validation_labels ) * 100\n",
        "\n",
        "train_accuracy = accuracy_score(y_pred_train,training_labels ) *100\n",
        "\n",
        "print(\"Precisión con el conjunto de validacion:\", \"{:.3f}%\".format(validation_accuracy))\n",
        "print(\"Precisión del entrenamiento :\", \"{:.3f}%\".format(train_accuracy))"
      ],
      "id": "20493bbd"
    },
    {
      "cell_type": "code",
      "source": [
        "# Crear la matriz de confusión para el conjunto de validacion\n",
        "cm_test = confusion_matrix(validation_labels,y_pred_validation)\n",
        "\n",
        "# Crear el mapa de calor para el conjunto de validacion\n",
        "plt.figure(figsize=(8, 6))\n",
        "sns.heatmap(cm_test, annot=True, cmap=\"Blues\",fmt='d')\n",
        "plt.title(\"Matriz de Confusión - Conjunto de Prueba\")\n",
        "plt.xlabel(\"Predicciones\")\n",
        "plt.ylabel(\"Valores Verdaderos\")\n",
        "plt.show()"
      ],
      "metadata": {
        "colab": {
          "base_uri": "https://localhost:8080/",
          "height": 565
        },
        "id": "98GIeMxExcEJ",
        "outputId": "19ed74d6-c680-49f4-f999-3bca34ce3669"
      },
      "id": "98GIeMxExcEJ",
      "execution_count": null,
      "outputs": [
        {
          "output_type": "display_data",
          "data": {
            "text/plain": [
              "<Figure size 800x600 with 2 Axes>"
            ],
            "image/png": "[encoded data removed]"
          },
          "metadata": {}
        }
      ]
    },
    {
      "cell_type": "markdown",
      "metadata": {
        "id": "f1916330"
      },
      "source": [
        "<p>Podemos observar como en nuesrto modelo de random forest tambien se presenta el sobre ajuste, vamos a intentar mejorar el modelo para asi evitar dicho problema y encontrar un mejor porcentaje</p>"
      ],
      "id": "f1916330"
    },
    {
      "cell_type": "markdown",
      "source": [
        "<hr>"
      ],
      "metadata": {
        "id": "XLAenT_KAmC1"
      },
      "id": "XLAenT_KAmC1"
    },
    {
      "cell_type": "markdown",
      "metadata": {
        "id": "8fe3f3b2"
      },
      "source": [
        "<h4>Prueba 2 usando GridSearch</h4>"
      ],
      "id": "8fe3f3b2"
    },
    {
      "cell_type": "code",
      "source": [
        "bosque2 = RandomForestClassifier(n_estimators=11)"
      ],
      "metadata": {
        "id": "K1vIxpujdqi9"
      },
      "id": "K1vIxpujdqi9",
      "execution_count": null,
      "outputs": []
    },
    {
      "cell_type": "markdown",
      "source": [
        "<p>Descripcion de las variables</p>\n",
        "\n",
        "<ul>  \n",
        "  <li> <strong>n_estimators:</strong> Representa el número de árboles de decisión que se van a utilizar en el modelo. </li>\n",
        "  <li> <strong>start:</strong> Es el valor de inicio para la secuencia de números generada. </li>\n",
        "  <li> <strong>  stop:</strong>Es el valor final de la secuencia de números generada. </li>\n",
        "  <li> <strong> num:  </strong>  Es el número de valores que se generarán en la secuencia.</li>\n",
        "</ul>"
      ],
      "metadata": {
        "id": "SuRe56mA-ToA"
      },
      "id": "SuRe56mA-ToA"
    },
    {
      "cell_type": "code",
      "execution_count": null,
      "metadata": {
        "id": "11fbcebf"
      },
      "outputs": [],
      "source": [
        "n_estimators = [int(x) for x in np.linspace(start=10, stop=45, num=5)]\n",
        "\n",
        "max_features = ['auto', 'sqrt']\n",
        "\n",
        "max_depth = [10,15,20,25]\n",
        "\n",
        "min_samples_split = [20, 25]\n",
        "\n",
        "min_samples_leaf = [10, 20]\n"
      ],
      "id": "11fbcebf"
    },
    {
      "cell_type": "markdown",
      "source": [
        "<p>  Creación de un objeto GridSearchCV y su posterior ajuste utilizando un modelo RandomForestClassifier en conjunto con una cuadrícula de hiperparámetros especificada en param_grid</p>"
      ],
      "metadata": {
        "id": "jOeY6hfe_FlS"
      },
      "id": "jOeY6hfe_FlS"
    },
    {
      "cell_type": "code",
      "execution_count": null,
      "metadata": {
        "colab": {
          "base_uri": "https://localhost:8080/"
        },
        "id": "9d484f5a",
        "outputId": "9869a97d-c60a-433f-ffb2-50a08c9eb16c"
      },
      "outputs": [
        {
          "output_type": "stream",
          "name": "stdout",
          "text": [
            "{'n_estimators': [10, 18, 27, 36, 45], 'max_features': ['auto', 'sqrt'], 'max_depth': [10, 15, 20, 25], 'min_samples_split': [20, 25], 'min_samples_leaf': [10, 20]}\n"
          ]
        }
      ],
      "source": [
        "param_grid = {'n_estimators': n_estimators,\n",
        "               'max_features': max_features,\n",
        "               'max_depth': max_depth,\n",
        "               'min_samples_split': min_samples_split,\n",
        "               'min_samples_leaf': min_samples_leaf,\n",
        "                }\n",
        "print(param_grid)"
      ],
      "id": "9d484f5a"
    },
    {
      "cell_type": "code",
      "execution_count": null,
      "metadata": {
        "id": "2a9c455f"
      },
      "outputs": [],
      "source": [
        "rf_Grid = GridSearchCV(estimator = bosque2, param_grid = param_grid, cv = 5, n_jobs = -1)"
      ],
      "id": "2a9c455f"
    },
    {
      "cell_type": "code",
      "execution_count": null,
      "metadata": {
        "id": "73c4ba10"
      },
      "outputs": [],
      "source": [
        "rf_Grid.fit(df_train, training_labels)"
      ],
      "id": "73c4ba10"
    },
    {
      "cell_type": "code",
      "execution_count": null,
      "metadata": {
        "id": "cad336d6"
      },
      "outputs": [],
      "source": [
        "rf_Grid.best_params_"
      ],
      "id": "cad336d6"
    },
    {
      "cell_type": "code",
      "execution_count": null,
      "metadata": {
        "id": "3c256357",
        "colab": {
          "base_uri": "https://localhost:8080/"
        },
        "outputId": "c845c660-3c54-41ea-a3b1-c623cf53a210"
      },
      "outputs": [
        {
          "output_type": "stream",
          "name": "stdout",
          "text": [
            "Precisión con el conjunto de validacion: 50.000%\n",
            "Precisión del entrenamiento : 100.000%\n"
          ]
        }
      ],
      "source": [
        "#Creamos un nuevo bosque con los parametros encontrados por el GridSearch\n",
        "bosque2 = RandomForestClassifier(max_depth= None,\n",
        " max_features='auto',\n",
        " min_samples_leaf= 1,\n",
        " min_samples_split= 5,\n",
        " n_estimators=400)\n",
        "#Entrenamos nuestro bosque\n",
        "bosque2.fit(df_train.values,training_labels.values)\n",
        "\n",
        "y_pred_validation = bosque2.predict(df_validation)\n",
        "\n",
        "y_pred_train = bosque2.predict(df_train)\n",
        "#Evaluamos con los datos de entrenamiento y validacion\n",
        "\n",
        "validation_accuracy = accuracy_score(y_pred_validation,validation_labels ) * 100\n",
        "\n",
        "train_accuracy = accuracy_score(y_pred_train,training_labels ) *100\n",
        "\n",
        "print(\"Precisión con el conjunto de validacion:\", \"{:.3f}%\".format(validation_accuracy))\n",
        "print(\"Precisión del entrenamiento :\", \"{:.3f}%\".format(train_accuracy))\n"
      ],
      "id": "3c256357"
    },
    {
      "cell_type": "code",
      "source": [
        "# Crear la matriz de confusión para el conjunto de validacion\n",
        "cm_test = confusion_matrix(validation_labels,y_pred_validation)\n",
        "\n",
        "# Crear el mapa de calor para el conjunto de validacion\n",
        "plt.figure(figsize=(8, 6))\n",
        "sns.heatmap(cm_test, annot=True, cmap=\"Blues\",fmt='d')\n",
        "plt.title(\"Matriz de Confusión - Conjunto de Prueba\")\n",
        "plt.xlabel(\"Predicciones\")\n",
        "plt.ylabel(\"Valores Verdaderos\")\n",
        "plt.show()"
      ],
      "metadata": {
        "id": "cOYfwbEfizN0",
        "colab": {
          "base_uri": "https://localhost:8080/",
          "height": 565
        },
        "outputId": "13f1181c-1569-484d-aab2-ff9bdd9c9a85"
      },
      "id": "cOYfwbEfizN0",
      "execution_count": null,
      "outputs": [
        {
          "output_type": "display_data",
          "data": {
            "text/plain": [
              "<Figure size 800x600 with 2 Axes>"
            ],
            "image/png": "[encoded data removed]"
          },
          "metadata": {}
        }
      ]
    },
    {
      "cell_type": "markdown",
      "source": [
        "<p>Los resultados obtenidos siguen siendo los mismos</p>"
      ],
      "metadata": {
        "id": "q336oYjo4aQ3"
      },
      "id": "q336oYjo4aQ3"
    },
    {
      "cell_type": "markdown",
      "source": [
        "<hr>"
      ],
      "metadata": {
        "id": "cd2nIpBOAqkK"
      },
      "id": "cd2nIpBOAqkK"
    },
    {
      "cell_type": "markdown",
      "metadata": {
        "id": "ce9a662b"
      },
      "source": [
        "<h4>Prueba 3 </h4>"
      ],
      "id": "ce9a662b"
    },
    {
      "cell_type": "code",
      "source": [
        "bosque3 = RandomForestClassifier()"
      ],
      "metadata": {
        "id": "3fhkIwlOeAJD"
      },
      "id": "3fhkIwlOeAJD",
      "execution_count": null,
      "outputs": []
    },
    {
      "cell_type": "markdown",
      "source": [
        "<p>\n",
        "cambiamos los valores de los hiper parametro n_estimators, esta vez inicia en 60 y termina en 125, la cantidad de numeros que contendra nuestro array sera de 9\n",
        "</p>"
      ],
      "metadata": {
        "id": "GWDzTtnqeJvd"
      },
      "id": "GWDzTtnqeJvd"
    },
    {
      "cell_type": "code",
      "execution_count": null,
      "metadata": {
        "id": "968a78ec"
      },
      "outputs": [],
      "source": [
        "\n",
        "n_estimators = [int(x) for x in np.linspace(start=15, stop=52, num=7)]\n",
        "\n",
        "max_features = ['auto', 'sqrt',320]\n",
        "\n",
        "max_depth = [22, 45,83,105]\n",
        "\n",
        "min_samples_split = [24, 53,35,16]\n",
        "\n",
        "min_samples_leaf = [10, 20, 26]"
      ],
      "id": "968a78ec"
    },
    {
      "cell_type": "code",
      "execution_count": null,
      "metadata": {
        "id": "649e2cfd",
        "colab": {
          "base_uri": "https://localhost:8080/"
        },
        "outputId": "022843c9-e33f-42a9-c82a-43ce5a47402c"
      },
      "outputs": [
        {
          "output_type": "stream",
          "name": "stdout",
          "text": [
            "{'n_estimators': [100, 125, 150], 'max_features': ['auto', 'sqrt'], 'max_depth': [2, 4], 'min_samples_split': [2, 5], 'min_samples_leaf': [1, 2]}\n"
          ]
        }
      ],
      "source": [
        "param_grid = {\n",
        "    'n_estimators': n_estimators,\n",
        "    'max_features': max_features,\n",
        "    'max_depth': max_depth,\n",
        "    'min_samples_split': min_samples_split,\n",
        "    'min_samples_leaf': min_samples_leaf,\n",
        "}\n",
        "\n",
        "print(param_grid)"
      ],
      "id": "649e2cfd"
    },
    {
      "cell_type": "code",
      "execution_count": null,
      "metadata": {
        "id": "40b22d29"
      },
      "outputs": [],
      "source": [
        "rf_Grid = GridSearchCV(estimator = bosque, param_grid = param_grid, cv = 2, verbose=2, n_jobs = -1)"
      ],
      "id": "40b22d29"
    },
    {
      "cell_type": "code",
      "execution_count": null,
      "metadata": {
        "id": "1516149a",
        "colab": {
          "base_uri": "https://localhost:8080/",
          "height": 135
        },
        "outputId": "e8db6a0a-c3f6-4b1b-e3a5-7e4fee54b153"
      },
      "outputs": [
        {
          "output_type": "stream",
          "name": "stdout",
          "text": [
            "Fitting 2 folds for each of 48 candidates, totalling 96 fits\n"
          ]
        },
        {
          "output_type": "execute_result",
          "data": {
            "text/plain": [
              "GridSearchCV(cv=2, estimator=RandomForestClassifier(random_state=42), n_jobs=4,\n",
              "             param_grid={'max_depth': [2, 4], 'max_features': ['auto', 'sqrt'],\n",
              "                         'min_samples_leaf': [1, 2],\n",
              "                         'min_samples_split': [2, 5],\n",
              "                         'n_estimators': [100, 125, 150]},\n",
              "             verbose=2)"
            ],
            "text/html": [
              "<style>#sk-container-id-2 {color: black;background-color: white;}#sk-container-id-2 pre{padding: 0;}#sk-container-id-2 div.sk-toggleable {background-color: white;}#sk-container-id-2 label.sk-toggleable__label {cursor: pointer;display: block;width: 100%;margin-bottom: 0;padding: 0.3em;box-sizing: border-box;text-align: center;}#sk-container-id-2 label.sk-toggleable__label-arrow:before {content: \"▸\";float: left;margin-right: 0.25em;color: #696969;}#sk-container-id-2 label.sk-toggleable__label-arrow:hover:before {color: black;}#sk-container-id-2 div.sk-estimator:hover label.sk-toggleable__label-arrow:before {color: black;}#sk-container-id-2 div.sk-toggleable__content {max-height: 0;max-width: 0;overflow: hidden;text-align: left;background-color: #f0f8ff;}#sk-container-id-2 div.sk-toggleable__content pre {margin: 0.2em;color: black;border-radius: 0.25em;background-color: #f0f8ff;}#sk-container-id-2 input.sk-toggleable__control:checked~div.sk-toggleable__content {max-height: 200px;max-width: 100%;overflow: auto;}#sk-container-id-2 input.sk-toggleable__control:checked~label.sk-toggleable__label-arrow:before {content: \"▾\";}#sk-container-id-2 div.sk-estimator input.sk-toggleable__control:checked~label.sk-toggleable__label {background-color: #d4ebff;}#sk-container-id-2 div.sk-label input.sk-toggleable__control:checked~label.sk-toggleable__label {background-color: #d4ebff;}#sk-container-id-2 input.sk-hidden--visually {border: 0;clip: rect(1px 1px 1px 1px);clip: rect(1px, 1px, 1px, 1px);height: 1px;margin: -1px;overflow: hidden;padding: 0;position: absolute;width: 1px;}#sk-container-id-2 div.sk-estimator {font-family: monospace;background-color: #f0f8ff;border: 1px dotted black;border-radius: 0.25em;box-sizing: border-box;margin-bottom: 0.5em;}#sk-container-id-2 div.sk-estimator:hover {background-color: #d4ebff;}#sk-container-id-2 div.sk-parallel-item::after {content: \"\";width: 100%;border-bottom: 1px solid gray;flex-grow: 1;}#sk-container-id-2 div.sk-label:hover label.sk-toggleable__label {background-color: #d4ebff;}#sk-container-id-2 div.sk-serial::before {content: \"\";position: absolute;border-left: 1px solid gray;box-sizing: border-box;top: 0;bottom: 0;left: 50%;z-index: 0;}#sk-container-id-2 div.sk-serial {display: flex;flex-direction: column;align-items: center;background-color: white;padding-right: 0.2em;padding-left: 0.2em;position: relative;}#sk-container-id-2 div.sk-item {position: relative;z-index: 1;}#sk-container-id-2 div.sk-parallel {display: flex;align-items: stretch;justify-content: center;background-color: white;position: relative;}#sk-container-id-2 div.sk-item::before, #sk-container-id-2 div.sk-parallel-item::before {content: \"\";position: absolute;border-left: 1px solid gray;box-sizing: border-box;top: 0;bottom: 0;left: 50%;z-index: -1;}#sk-container-id-2 div.sk-parallel-item {display: flex;flex-direction: column;z-index: 1;position: relative;background-color: white;}#sk-container-id-2 div.sk-parallel-item:first-child::after {align-self: flex-end;width: 50%;}#sk-container-id-2 div.sk-parallel-item:last-child::after {align-self: flex-start;width: 50%;}#sk-container-id-2 div.sk-parallel-item:only-child::after {width: 0;}#sk-container-id-2 div.sk-dashed-wrapped {border: 1px dashed gray;margin: 0 0.4em 0.5em 0.4em;box-sizing: border-box;padding-bottom: 0.4em;background-color: white;}#sk-container-id-2 div.sk-label label {font-family: monospace;font-weight: bold;display: inline-block;line-height: 1.2em;}#sk-container-id-2 div.sk-label-container {text-align: center;}#sk-container-id-2 div.sk-container {/* jupyter's `normalize.less` sets `[hidden] { display: none; }` but bootstrap.min.css set `[hidden] { display: none !important; }` so we also need the `!important` here to be able to override the default hidden behavior on the sphinx rendered scikit-learn.org. See: https://github.com/scikit-learn/scikit-learn/issues/21755 */display: inline-block !important;position: relative;}#sk-container-id-2 div.sk-text-repr-fallback {display: none;}</style><div id=\"sk-container-id-2\" class=\"sk-top-container\"><div class=\"sk-text-repr-fallback\"><pre>GridSearchCV(cv=2, estimator=RandomForestClassifier(random_state=42), n_jobs=4,\n",
              "             param_grid={&#x27;max_depth&#x27;: [2, 4], &#x27;max_features&#x27;: [&#x27;auto&#x27;, &#x27;sqrt&#x27;],\n",
              "                         &#x27;min_samples_leaf&#x27;: [1, 2],\n",
              "                         &#x27;min_samples_split&#x27;: [2, 5],\n",
              "                         &#x27;n_estimators&#x27;: [100, 125, 150]},\n",
              "             verbose=2)</pre><b>In a Jupyter environment, please rerun this cell to show the HTML representation or trust the notebook. <br />On GitHub, the HTML representation is unable to render, please try loading this page with nbviewer.org.</b></div><div class=\"sk-container\" hidden><div class=\"sk-item sk-dashed-wrapped\"><div class=\"sk-label-container\"><div class=\"sk-label sk-toggleable\"><input class=\"sk-toggleable__control sk-hidden--visually\" id=\"sk-estimator-id-4\" type=\"checkbox\" ><label for=\"sk-estimator-id-4\" class=\"sk-toggleable__label sk-toggleable__label-arrow\">GridSearchCV</label><div class=\"sk-toggleable__content\"><pre>GridSearchCV(cv=2, estimator=RandomForestClassifier(random_state=42), n_jobs=4,\n",
              "             param_grid={&#x27;max_depth&#x27;: [2, 4], &#x27;max_features&#x27;: [&#x27;auto&#x27;, &#x27;sqrt&#x27;],\n",
              "                         &#x27;min_samples_leaf&#x27;: [1, 2],\n",
              "                         &#x27;min_samples_split&#x27;: [2, 5],\n",
              "                         &#x27;n_estimators&#x27;: [100, 125, 150]},\n",
              "             verbose=2)</pre></div></div></div><div class=\"sk-parallel\"><div class=\"sk-parallel-item\"><div class=\"sk-item\"><div class=\"sk-label-container\"><div class=\"sk-label sk-toggleable\"><input class=\"sk-toggleable__control sk-hidden--visually\" id=\"sk-estimator-id-5\" type=\"checkbox\" ><label for=\"sk-estimator-id-5\" class=\"sk-toggleable__label sk-toggleable__label-arrow\">estimator: RandomForestClassifier</label><div class=\"sk-toggleable__content\"><pre>RandomForestClassifier(random_state=42)</pre></div></div></div><div class=\"sk-serial\"><div class=\"sk-item\"><div class=\"sk-estimator sk-toggleable\"><input class=\"sk-toggleable__control sk-hidden--visually\" id=\"sk-estimator-id-6\" type=\"checkbox\" ><label for=\"sk-estimator-id-6\" class=\"sk-toggleable__label sk-toggleable__label-arrow\">RandomForestClassifier</label><div class=\"sk-toggleable__content\"><pre>RandomForestClassifier(random_state=42)</pre></div></div></div></div></div></div></div></div></div></div>"
            ]
          },
          "metadata": {},
          "execution_count": 69
        }
      ],
      "source": [
        "rf_Grid.fit(df_train, training_labels)"
      ],
      "id": "1516149a"
    },
    {
      "cell_type": "code",
      "execution_count": null,
      "metadata": {
        "id": "88ed3e16",
        "colab": {
          "base_uri": "https://localhost:8080/"
        },
        "outputId": "5fb1ed75-d64e-4214-e333-ddfd92538775"
      },
      "outputs": [
        {
          "data": {
            "text/plain": [
              "{'max_depth': 4,\n",
              " 'max_features': 'auto',\n",
              " 'min_samples_leaf': 1,\n",
              " 'min_samples_split': 5,\n",
              " 'n_estimators': 150}"
            ]
          },
          "execution_count": 70,
          "metadata": {},
          "output_type": "execute_result"
        }
      ],
      "source": [
        "rf_Grid.best_params_"
      ],
      "id": "88ed3e16"
    },
    {
      "cell_type": "code",
      "execution_count": null,
      "metadata": {
        "id": "7f3b0a23",
        "colab": {
          "base_uri": "https://localhost:8080/"
        },
        "outputId": "fd5594ef-d923-4894-ba82-f2e4d6825474"
      },
      "outputs": [
        {
          "output_type": "stream",
          "name": "stdout",
          "text": [
            "Precisión con el conjunto de validacion: 50.000%\n",
            "Precisión del entrenamiento : 89.108%\n"
          ]
        }
      ],
      "source": [
        "#Creamos un nuevo bosque con los parametros encontrados por el GridSearch\n",
        "bosque3 = RandomForestClassifier(max_depth= 4,\n",
        " max_features='auto',\n",
        " min_samples_leaf= 1,\n",
        " min_samples_split= 5,\n",
        " n_estimators=150)\n",
        "#Entrenamos nuestro bosque\n",
        "bosque3.fit(df_train.values,training_labels.values)\n",
        "\n",
        "y_pred_validation = bosque3.predict(df_validation)\n",
        "\n",
        "y_pred_train = bosque3.predict(df_train)\n",
        "#Evaluamos con los datos de entrenamiento y validacion\n",
        "\n",
        "validation_accuracy = accuracy_score(y_pred_validation,validation_labels ) * 100\n",
        "\n",
        "train_accuracy = accuracy_score(y_pred_train,training_labels ) *100\n",
        "\n",
        "print(\"Precisión con el conjunto de validacion:\", \"{:.3f}%\".format(validation_accuracy))\n",
        "print(\"Precisión del entrenamiento :\", \"{:.3f}%\".format(train_accuracy))"
      ],
      "id": "7f3b0a23"
    },
    {
      "cell_type": "code",
      "source": [
        "# Crear la matriz de confusión para el conjunto de validacion\n",
        "cm_test = confusion_matrix(validation_labels,y_pred_validation)\n",
        "\n",
        "# Crear el mapa de calor para el conjunto de validacion\n",
        "plt.figure(figsize=(8, 6))\n",
        "sns.heatmap(cm_test, annot=True, cmap=\"Blues\",fmt='d')\n",
        "plt.title(\"Matriz de Confusión - Conjunto de Prueba\")\n",
        "plt.xlabel(\"Predicciones\")\n",
        "plt.ylabel(\"Valores Verdaderos\")\n",
        "plt.show()"
      ],
      "metadata": {
        "id": "kT3nZ6IwixTS",
        "colab": {
          "base_uri": "https://localhost:8080/",
          "height": 565
        },
        "outputId": "b23a3510-b866-4bbd-d7ff-8e9cddbef86b"
      },
      "id": "kT3nZ6IwixTS",
      "execution_count": null,
      "outputs": [
        {
          "output_type": "display_data",
          "data": {
            "text/plain": [
              "<Figure size 800x600 with 2 Axes>"
            ],
            "image/png": "[encoded data removed]"
          },
          "metadata": {}
        }
      ]
    },
    {
      "cell_type": "markdown",
      "source": [
        "<p>Seguimos obteniendo los mismos resultados</p>"
      ],
      "metadata": {
        "id": "SyJ0K6Yn4lye"
      },
      "id": "SyJ0K6Yn4lye"
    },
    {
      "cell_type": "markdown",
      "source": [
        "<hr>"
      ],
      "metadata": {
        "id": "ro8DHacLAw56"
      },
      "id": "ro8DHacLAw56"
    },
    {
      "cell_type": "markdown",
      "metadata": {
        "id": "52df0698"
      },
      "source": [
        "<h4>Prueba 4</h4>"
      ],
      "id": "52df0698"
    },
    {
      "cell_type": "markdown",
      "source": [
        "<p>En esta prueba dejamos de usar GridSearch para establecer manualmente los hiper parametros</p>"
      ],
      "metadata": {
        "id": "C3DeYEb7fHgp"
      },
      "id": "C3DeYEb7fHgp"
    },
    {
      "cell_type": "markdown",
      "source": [
        "<p>Explicacion de las variables:\n",
        "\n",
        "  <ul>\n",
        "    <li><strong>n_estimators:</strong>El número de árboles en el bosque. </li>\n",
        "    <li><strong>criterion</strong> El criterio utilizado para medir la calidad de una división. En este caso, se utiliza \"gini\", que es el índice Gini, una medida de impureza comúnmente utilizada en árboles de decisión y bosques aleatorios.</li>\n",
        "    <li><strong>max_features</strong>   El número máximo de características que se deben considerar para dividir un nodo. En este caso, se establece en \"sqrt\", lo que significa que se considerará la raíz cuadrada del número total de características. Esto es una práctica común y ayuda a reducir la correlación entre los árboles en el bosque.</li>\n",
        "    <li><strong>bootstrap</strong>Indica si se deben realizar muestras con reemplazo al construir árboles. Si se establece en True, se realiza el muestreo con reemplazo (bootstrapping), lo que significa que se toman muestras del conjunto de datos de entrenamiento con reemplazo.</li>\n",
        "    <li><strong>max_samples</strong>El número de muestras a extraer de X para ajustar cada estimador. </li>\n",
        "    <li><strong>oob_score</strong> Indica si se debe calcular el error fuera de la bolsa (out-of-bag) durante el entrenamiento. El error fuera de la bolsa es una estimación del rendimiento del modelo en datos no vistos.</li>\n",
        "  </ul>\n",
        "\n",
        "\n",
        "\n",
        "</p>"
      ],
      "metadata": {
        "id": "haTGxRMigUgO"
      },
      "id": "haTGxRMigUgO"
    },
    {
      "cell_type": "code",
      "execution_count": null,
      "metadata": {
        "id": "bb4cdf36",
        "colab": {
          "base_uri": "https://localhost:8080/"
        },
        "outputId": "5e4efc4a-c522-4653-f131-e06db6af8723"
      },
      "outputs": [
        {
          "output_type": "stream",
          "name": "stdout",
          "text": [
            "Precisión con el conjunto de validacion: 50.000%\n",
            "Precisión del entrenamiento : 81.292%\n"
          ]
        }
      ],
      "source": [
        "bosque_4 =RandomForestClassifier(n_estimators =24,\n",
        "                                   criterion=\"gini\",\n",
        "                                   max_features=\"sqrt\",\n",
        "                                   bootstrap=True,\n",
        "                                   max_samples=1/5,\n",
        "                                   oob_score=True)\n",
        "\n",
        "bosque_4.fit(df_train.values,training_labels.values)\n",
        "\n",
        "\n",
        "y_pred_validation = bosque_4.predict(df_validation)\n",
        "\n",
        "y_pred_train = bosque_4.predict(df_train)\n",
        "#Evaluamos con los datos de entrenamiento y validacion\n",
        "\n",
        "validation_accuracy = accuracy_score(y_pred_validation,validation_labels ) * 100\n",
        "\n",
        "train_accuracy = accuracy_score(y_pred_train, training_labels) *100\n",
        "\n",
        "\n",
        "print(\"Precisión con el conjunto de validacion:\", \"{:.3f}%\".format(validation_accuracy))\n",
        "print(\"Precisión del entrenamiento :\", \"{:.3f}%\".format(train_accuracy))\n",
        "#print(\"Error fuera de la bolse\",oob_score)\n"
      ],
      "id": "bb4cdf36"
    },
    {
      "cell_type": "code",
      "source": [
        "# Crear la matriz de confusión para el conjunto de validacion\n",
        "cm_test = confusion_matrix(validation_labels,y_pred_validation)\n",
        "\n",
        "# Crear el mapa de calor para el conjunto de validacion\n",
        "plt.figure(figsize=(8, 6))\n",
        "sns.heatmap(cm_test, annot=True, cmap=\"Blues\",fmt='d')\n",
        "plt.title(\"Matriz de Confusión - Conjunto de Prueba\")\n",
        "plt.xlabel(\"Predicciones\")\n",
        "plt.ylabel(\"Valores Verdaderos\")\n",
        "plt.show()"
      ],
      "metadata": {
        "id": "K8FV4hTwiv8S",
        "colab": {
          "base_uri": "https://localhost:8080/",
          "height": 565
        },
        "outputId": "e96084cd-a700-481e-8b20-2d37a4f90589"
      },
      "id": "K8FV4hTwiv8S",
      "execution_count": null,
      "outputs": [
        {
          "output_type": "display_data",
          "data": {
            "text/plain": [
              "<Figure size 800x600 with 2 Axes>"
            ],
            "image/png": "[encoded data removed]"
          },
          "metadata": {}
        }
      ]
    },
    {
      "cell_type": "markdown",
      "source": [
        "<p>Seguimos con los mismos resultados a pesar de haber cambiado el valor de los hiper parametros,el problema del sobre ajuste sigue presente</p>"
      ],
      "metadata": {
        "id": "126pHsid4tkP"
      },
      "id": "126pHsid4tkP"
    },
    {
      "cell_type": "markdown",
      "source": [
        "<hr>"
      ],
      "metadata": {
        "id": "Hyf3i3-oAzc7"
      },
      "id": "Hyf3i3-oAzc7"
    },
    {
      "cell_type": "markdown",
      "metadata": {
        "id": "8e693349"
      },
      "source": [
        "<h3> <strong> Redes Neuronales </strong> 🧠</h3>"
      ],
      "id": "8e693349"
    },
    {
      "cell_type": "markdown",
      "metadata": {
        "id": "522256f9"
      },
      "source": [
        "<h5>Prueba 1 con parametros por defecto</h5>"
      ],
      "id": "522256f9"
    },
    {
      "cell_type": "code",
      "execution_count": null,
      "metadata": {
        "id": "7b55ccfa",
        "colab": {
          "base_uri": "https://localhost:8080/"
        },
        "outputId": "50a34081-8ef6-4223-f9d1-dc5f7866b4ae"
      },
      "outputs": [
        {
          "output_type": "stream",
          "name": "stdout",
          "text": [
            "Precisión con el conjunto de validacion: 50.000%\n",
            "Precisión con el conjunto de entrenamiento: 100.000%\n"
          ]
        }
      ],
      "source": [
        "cerebro = MLPClassifier( hidden_layer_sizes=(100), activation = 'relu', solver='adam', alpha=0.0001, learning_rate= 'constant', max_iter = 200)\n",
        "cerebro.fit(df_train,training_labels)\n",
        "\n",
        "y_pred_validation = cerebro.predict(df_validation)\n",
        "y_pred_training= cerebro.predict(df_train)\n",
        "\n",
        "validation_precision = 100 * accuracy_score(validation_labels, y_pred_validation)\n",
        "training_precision = 100 * accuracy_score(training_labels, y_pred_training)\n",
        "\n",
        "print('Precisión con el conjunto de validacion: {0:.3f}%'.format(validation_precision))\n",
        "print('Precisión con el conjunto de entrenamiento: {0:.3f}%'.format(training_precision))"
      ],
      "id": "7b55ccfa"
    },
    {
      "cell_type": "code",
      "source": [
        "# Crear la matriz de confusión para el conjunto de prueba\n",
        "cm_test = confusion_matrix(validation_labels, y_pred_validation)\n",
        "\n",
        "# Crear el mapa de calor para el conjunto de prueba\n",
        "plt.figure(figsize=(8, 6))\n",
        "sns.heatmap(cm_test, annot=True, cmap=\"Blues\",fmt='d')\n",
        "plt.title(\"Matriz de Confusión - Conjunto de Prueba\")\n",
        "plt.xlabel(\"Predicciones\")\n",
        "plt.ylabel(\"Valores Verdaderos\")\n",
        "plt.show()"
      ],
      "metadata": {
        "id": "EXy2qXPaz4vl",
        "colab": {
          "base_uri": "https://localhost:8080/",
          "height": 565
        },
        "outputId": "4964a38d-f2b2-4c08-939b-8570bb1fb23e"
      },
      "id": "EXy2qXPaz4vl",
      "execution_count": null,
      "outputs": [
        {
          "output_type": "display_data",
          "data": {
            "text/plain": [
              "<Figure size 800x600 with 2 Axes>"
            ],
            "image/png": "[encoded data removed]"
          },
          "metadata": {}
        }
      ]
    },
    {
      "cell_type": "markdown",
      "source": [
        "<p>Como podemos observar seguimos teniendo el problema del sobre ajuste, vamos a alterar los hiper parametros para buscar solucionar este problema que se ha hecho presente en todos nuestros modelos</p>"
      ],
      "metadata": {
        "id": "F91TW5YH4z7Q"
      },
      "id": "F91TW5YH4z7Q"
    },
    {
      "cell_type": "markdown",
      "source": [
        "<hr>"
      ],
      "metadata": {
        "id": "b_euRnIBA2SL"
      },
      "id": "b_euRnIBA2SL"
    },
    {
      "cell_type": "markdown",
      "metadata": {
        "id": "50b5391e"
      },
      "source": [
        "<h4>Prueba 2 usando GridSearch</h4>"
      ],
      "id": "50b5391e"
    },
    {
      "cell_type": "markdown",
      "source": [
        "<p>\n",
        "  <ul>\n",
        "    <li><strong>hidden_layer_sizes: </strong>Este parámetro especifica la arquitectura de la red neuronal, es decir, la cantidad y el tamaño de las capas ocultas, en este caso tenemos una red neuronal con una capa oculta que tiene 500 neuronas y una red neuronal con dos capas ocultas, la primera con 700 neuronas y la segunda con 500 neuronas.</li>\n",
        "    <li><strong>max_iter: </strong>  Este parámetro especifica el número máximo de iteraciones (épocas) para las cuales el modelo entrenará los datos.</li>\n",
        "  </ul>\n",
        "</p>"
      ],
      "metadata": {
        "id": "eXk0XTB_X8Fs"
      },
      "id": "eXk0XTB_X8Fs"
    },
    {
      "cell_type": "code",
      "execution_count": null,
      "metadata": {
        "id": "2968032d",
        "colab": {
          "base_uri": "https://localhost:8080/"
        },
        "outputId": "034c8f4f-3e9a-4a5a-d37a-a84fd3d67d04"
      },
      "outputs": [
        {
          "output_type": "stream",
          "name": "stdout",
          "text": [
            "{'hidden_layer_sizes': (700, 500), 'max_iter': 15}\n"
          ]
        }
      ],
      "source": [
        "\n",
        "param_grid = {\n",
        "    'hidden_layer_sizes': [(500),(700,500)],\n",
        "    'max_iter': [15,20],\n",
        "}\n",
        "\n",
        "grid = GridSearchCV(MLPClassifier(random_state=42), param_grid=param_grid, cv=2)\n",
        "grid.fit(df_train,training_labels)\n",
        "print(grid.best_params_)"
      ],
      "id": "2968032d"
    },
    {
      "cell_type": "code",
      "source": [
        "cerebro2 = MLPClassifier( hidden_layer_sizes= (700, 500), max_iter= 15)\n",
        "cerebro2.fit(df_train,training_labels)\n",
        "\n",
        "y_pred_validation = cerebro2.predict(df_validation)\n",
        "y_pred_training= cerebro2.predict(df_train)\n",
        "\n",
        "validation_precision = 100 * accuracy_score(validation_labels, y_pred_validation)\n",
        "training_precision = 100 * accuracy_score(training_labels, y_pred_training)\n",
        "\n",
        "print('Precisión con el conjunto de validacion: {0:.3f}%'.format(validation_precision))\n",
        "print('Precisión con el conjunto de entrenamiento: {0:.3f}%'.format(training_precision))"
      ],
      "metadata": {
        "colab": {
          "base_uri": "https://localhost:8080/"
        },
        "id": "B9ieNs2LZcUL",
        "outputId": "e0743b1c-c9c5-4426-e832-b5a3ff595349"
      },
      "id": "B9ieNs2LZcUL",
      "execution_count": null,
      "outputs": [
        {
          "output_type": "stream",
          "name": "stdout",
          "text": [
            "Precisión con el conjunto de validacion: 50.000%\n",
            "Precisión con el conjunto de entrenamiento: 100.000%\n"
          ]
        }
      ]
    },
    {
      "cell_type": "code",
      "source": [
        "# Crear la matriz de confusión para el conjunto de validacion\n",
        "cm_test = confusion_matrix(validation_labels, y_pred_validation)\n",
        "\n",
        "# Crear el mapa de calor para el conjunto de validacion\n",
        "plt.figure(figsize=(8, 6))\n",
        "sns.heatmap(cm_test, annot=True, cmap=\"Blues\",fmt='d')\n",
        "plt.title(\"Matriz de Confusión - Conjunto de Prueba\")\n",
        "plt.xlabel(\"Predicciones\")\n",
        "plt.ylabel(\"Valores Verdaderos\")\n",
        "plt.show()"
      ],
      "metadata": {
        "colab": {
          "base_uri": "https://localhost:8080/",
          "height": 565
        },
        "id": "yq__5EXkZ-jP",
        "outputId": "9c916e17-cfbe-47cb-f0f2-6e967296eaf3"
      },
      "id": "yq__5EXkZ-jP",
      "execution_count": null,
      "outputs": [
        {
          "output_type": "display_data",
          "data": {
            "text/plain": [
              "<Figure size 800x600 with 2 Axes>"
            ],
            "image/png": "[encoded data removed]"
          },
          "metadata": {}
        }
      ]
    },
    {
      "cell_type": "markdown",
      "source": [
        "<p>A pesar de haber alterado hiper parametros, seguimos obteniendo los mismos resultados, no logramos solucionar el problema del sobre ajuste hasta el momento</p>"
      ],
      "metadata": {
        "id": "cYgl41t85RXM"
      },
      "id": "cYgl41t85RXM"
    },
    {
      "cell_type": "markdown",
      "source": [
        "<hr>"
      ],
      "metadata": {
        "id": "fjaC9EnjA44Z"
      },
      "id": "fjaC9EnjA44Z"
    },
    {
      "cell_type": "markdown",
      "source": [
        "<h5>Prueba 3</h5>"
      ],
      "metadata": {
        "id": "V_MzC9Ty5MO0"
      },
      "id": "V_MzC9Ty5MO0"
    },
    {
      "cell_type": "markdown",
      "source": [
        "<p> usamos time de la libreria time y su metodo .time() para sabes cuanto tiempo dura nuestro modelo en hacer el entrenamiento esta vez, pasamos de usar GridSearch por la demanda computacional que exige y configuramos los hiper parametros manualmente esta vez, esta prueba tendra una capa con 3000 mil neuronas y el numero de iteraciones sera de 60</p>"
      ],
      "metadata": {
        "id": "dIa6VKKOatNO"
      },
      "id": "dIa6VKKOatNO"
    },
    {
      "cell_type": "code",
      "execution_count": null,
      "metadata": {
        "id": "f96c528f",
        "colab": {
          "base_uri": "https://localhost:8080/"
        },
        "outputId": "d47b63cd-d119-4be8-9ece-fd61caac7a1a"
      },
      "outputs": [
        {
          "output_type": "stream",
          "name": "stdout",
          "text": [
            "Precisión con el conjunto de entrenamiento: 50.046%\n",
            "Precisión con el conjunto de validacion: 50.000%\n",
            "Tiempo de ejecución: 391.561 segundos\n"
          ]
        }
      ],
      "source": [
        "start_time = time.time()\n",
        "cerebro_3 = MLPClassifier( hidden_layer_sizes=(3000),  max_iter = 60, alpha=0.5)\n",
        "cerebro_3.fit(df_train,training_labels)\n",
        "\n",
        "y_pred_validation = cerebro_3.predict(df_validation)\n",
        "y_pred_training = cerebro_3.predict(df_train)\n",
        "\n",
        "\n",
        "train_accuracy = accuracy_score(y_pred_training, training_labels) * 100\n",
        "validation_accuracy = accuracy_score(y_pred_validation,validation_labels) * 100\n",
        "\n",
        "end_time = time.time()\n",
        "elapsed_time = end_time - start_time\n",
        "\n",
        "print(\"Precisión con el conjunto de entrenamiento: {:.3f}%\".format(train_accuracy))\n",
        "print(\"Precisión con el conjunto de validacion: {:.3f}%\".format(validation_accuracy))\n",
        "print(\"Tiempo de ejecución: {:.3f} segundos\".format(elapsed_time))"
      ],
      "id": "f96c528f"
    },
    {
      "cell_type": "code",
      "source": [
        "# Crear la matriz de confusión para el conjunto de validacion\n",
        "cm_test = confusion_matrix(validation_labels,y_pred_validation)\n",
        "\n",
        "# Crear el mapa de calor para el conjunto de validacion\n",
        "plt.figure(figsize=(8, 6))\n",
        "sns.heatmap(cm_test, annot=True, cmap=\"Blues\",fmt='d')\n",
        "plt.title(\"Matriz de Confusión - Conjunto de Prueba\")\n",
        "plt.xlabel(\"Predicciones\")\n",
        "plt.ylabel(\"Valores Verdaderos\")\n",
        "plt.show()"
      ],
      "metadata": {
        "id": "Neu3z3rH0nNc",
        "colab": {
          "base_uri": "https://localhost:8080/",
          "height": 565
        },
        "outputId": "0b8f1474-a4e0-4a7a-8265-032201f6ec9f"
      },
      "id": "Neu3z3rH0nNc",
      "execution_count": null,
      "outputs": [
        {
          "output_type": "display_data",
          "data": {
            "text/plain": [
              "<Figure size 800x600 with 2 Axes>"
            ],
            "image/png": "[encoded data removed]"
          },
          "metadata": {}
        }
      ]
    },
    {
      "cell_type": "markdown",
      "source": [
        "<p>Seguimos con los mismos resultados</p>"
      ],
      "metadata": {
        "id": "W8eugg9O5YkD"
      },
      "id": "W8eugg9O5YkD"
    },
    {
      "cell_type": "markdown",
      "source": [
        "<hr>"
      ],
      "metadata": {
        "id": "ori0PjiaA7rt"
      },
      "id": "ori0PjiaA7rt"
    },
    {
      "cell_type": "markdown",
      "metadata": {
        "id": "db6a51f2"
      },
      "source": [
        "<h3>Deep Learning Keras 🦾</h3>"
      ],
      "id": "db6a51f2"
    },
    {
      "cell_type": "markdown",
      "source": [
        "<h5>Prueba 1</h5>\n",
        "\n",
        "<p>En este apartado de deep learning primero vamos a usar los valores por defecto, como siempre hemos hecho en este notebook cuando se trata de la primera prueba y no vamos a usar GridSearch esta vez, los hiper parametros seran configurados manualmente</p>"
      ],
      "metadata": {
        "id": "zZ9YwETt6DXM"
      },
      "id": "zZ9YwETt6DXM"
    },
    {
      "cell_type": "markdown",
      "source": [
        "<p>Definimos una funcion en donde se va crear nuestro modelos de redes neuronales profundas, nuestro primer modelo tendra 3 capas, una de entrada, una de salida y una capa oculta.\n",
        "\n",
        "la primera capa tiene 6500 neuronas porque coincide con el numero de instanciasde nuestro conjunto de datos de entrenamiento, la capa de salida usa la funcion de activacion \"sigmod\" porque la activación sigmoide se utiliza comúnmente en problemas de clasificación binaria, ya que produce una salida en el rango [0, 1], que se interpreta como la probabilidad de pertenecer a la clase positiva.\n",
        "\n",
        "<ul>\n",
        "  <li>  <strong> loss=\"binary_crossentropy\":</strong> La función de pérdida utilizada para evaluar qué tan bien el modelo está aprendiendo. En este caso, se utiliza la entropía cruzada binaria, comúnmente utilizada en problemas de clasificación binaria.</li>\n",
        "  <li><strong>optimizer='adam': </strong>   El optimizador utilizado para ajustar los pesos del modelo durante el entrenamiento. Adam es un optimizador popular.</li>\n",
        "\n",
        "  <li><strong>metrics=[\"accuracy\"]</strong> La métrica utilizada para evaluar el rendimiento del modelo durante el entrenamiento y la evaluación. En este caso, se utiliza la precisión (accuracy).</li>\n",
        "\n",
        "</ul>\n",
        "</p>"
      ],
      "metadata": {
        "id": "VPJyZe7TcPIY"
      },
      "id": "VPJyZe7TcPIY"
    },
    {
      "cell_type": "code",
      "execution_count": null,
      "metadata": {
        "id": "418fb5c0"
      },
      "outputs": [],
      "source": [
        "def create_model():\n",
        "    model = keras.models.Sequential([\n",
        "        keras.layers.Dense(6500, activation='relu' ),\n",
        "        keras.layers.Dense(100, activation='relu' ),\n",
        "        keras.layers.Dense(1, activation='sigmoid')\n",
        "    ])\n",
        "    model.compile(loss=\"binary_crossentropy\", optimizer='adam', metrics=[\"accuracy\"])\n",
        "    return model\n",
        "\n",
        "# Crear el objeto KerasClassifier\n",
        "keras_classifier = KerasClassifier(build_fn=create_model)\n",
        "\n",
        "# Obtener el modelo entrenado\n",
        "#keras_classifier.fit(df_train,training_labels)\n",
        "\n",
        "# Realizar predicciones en los datos de validacion\n",
        "#y_pred = best_model.predict(df_validation)"
      ],
      "id": "418fb5c0"
    },
    {
      "cell_type": "code",
      "source": [
        "score_validation = accuracy_score(validation_labels,y_pred);"
      ],
      "metadata": {
        "id": "8pKfdYt8dglh"
      },
      "id": "8pKfdYt8dglh",
      "execution_count": null,
      "outputs": []
    },
    {
      "cell_type": "markdown",
      "source": [
        "<hr>"
      ],
      "metadata": {
        "id": "kmB_zjOrA-dq"
      },
      "id": "kmB_zjOrA-dq"
    },
    {
      "cell_type": "markdown",
      "source": [
        "<h5>Prueba 2</h5>"
      ],
      "metadata": {
        "id": "CfazFSOtaYMR"
      },
      "id": "CfazFSOtaYMR"
    },
    {
      "cell_type": "markdown",
      "source": [
        "<p>En esta prubea establecemos la primera capa con 2000 neuronas, la cantidad de variables de entrada sera igual al numero de columnas de nuestro conjunto de datos de entrenamiento </p>"
      ],
      "metadata": {
        "id": "gnoH9OtUmat6"
      },
      "id": "gnoH9OtUmat6"
    },
    {
      "cell_type": "code",
      "source": [
        "def create_model():\n",
        "    model = keras.models.Sequential([\n",
        "        keras.layers.Dense(2000, activation='relu', input_shape=( df_train.shape[1],)),\n",
        "        keras.layers.Dense(3200, activation='relu'),\n",
        "        keras.layers.Dense(1, activation='sigmoid')\n",
        "    ])\n",
        "    model.compile(loss=\"binary_crossentropy\", optimizer='adam', metrics=[\"accuracy\"])\n",
        "    return model\n",
        "\n",
        "# Crear el objeto KerasClassifier\n",
        "keras_classifier = KerasClassifier(build_fn=create_model)\n",
        "\n",
        "# Obtener el modelo entrenado\n",
        "best_model = keras_classifier.fit(df_train,training_labels)\n",
        "\n",
        "# Realizar predicciones en los datos de validacion\n",
        "y_pred = best_model.predict(df_validation)"
      ],
      "metadata": {
        "colab": {
          "base_uri": "https://localhost:8080/"
        },
        "id": "JDnLHlhVaXyh",
        "outputId": "3192d9c4-1669-4599-b0b8-a8e4ff32d3c7"
      },
      "id": "JDnLHlhVaXyh",
      "execution_count": null,
      "outputs": [
        {
          "output_type": "stream",
          "name": "stdout",
          "text": [
            "204/204 [==============================] - 35s 158ms/step - loss: 0.6938 - accuracy: 0.5037\n",
            "32/32 [==============================] - 1s 21ms/step\n"
          ]
        }
      ]
    },
    {
      "cell_type": "markdown",
      "source": [
        "<p>Podemos oservar como el resultado sigue siendo el mismo que los demas modelos de ML que hemos estado probando en este trabajo</p>"
      ],
      "metadata": {
        "id": "ewHzDuAZnLt5"
      },
      "id": "ewHzDuAZnLt5"
    },
    {
      "cell_type": "markdown",
      "source": [
        "<hr>"
      ],
      "metadata": {
        "id": "bclCAasYBAx6"
      },
      "id": "bclCAasYBAx6"
    },
    {
      "cell_type": "markdown",
      "source": [
        "<h1>CONCLUSIONES</h1>"
      ],
      "metadata": {
        "id": "tS2fu4RL6Oe5"
      },
      "id": "tS2fu4RL6Oe5"
    },
    {
      "cell_type": "markdown",
      "source": [
        "<p>\n",
        "\n",
        "En este análisis comparativo, hemos evaluado el rendimiento de diferentes modelos de aprendizaje de máquina (Árboles de Decisión, Random Forest y Redes Neuronales) los modelos han sido ajustados usando hiperparametros y tambien la libreria de GridSearch y tambien se le ha aplicado a los datos la reduccion de caracteristicas por PCA\n",
        "\n",
        "\n",
        "Durante el desarrolo de este trabajo se busco usar las mejores practicas del analisis de datos y al mismo nos pudimos enriquecer nuestro conocimiento de los diferentes autores que investigamos para poder manejar nuestros datos de la mejor manera\n",
        "\n",
        "En cuanto a la demanda computacional,random forest fue sin el modelo de ML que mas se tardo en entrenar sobre todo la prubea numero 2 en donde se usa GridSearch que llego a estar mas de una hora entrenando, decidimos pasar de ella y seguir con los otros modelos, no pudimos solucionar el problema del sobre ajuste de los modelos a pesar de haber intentado con diferentes valores de hiper parametros, nuestros modelos solo muestran un buen score con los datos de entrenamiento pero con otros datos falla totalmente, quedara para el futuro buscar una mejor solucion.\n",
        "\n",
        "\n",
        "</p>\n",
        "\n"
      ],
      "metadata": {
        "id": "9bPd9sScFPo0"
      },
      "id": "9bPd9sScFPo0"
    },
    {
      "cell_type": "markdown",
      "source": [
        "<h1>PROYECIONES A FUTURO</h1>"
      ],
      "metadata": {
        "id": "E9CDqYr1iNIR"
      },
      "id": "E9CDqYr1iNIR"
    },
    {
      "cell_type": "markdown",
      "source": [
        "<p>Para el trabajo futuro buscaremos cual seria la mejor manera de resolverl el problema del sobre ajuste, el cual afecto bastante a nuestros modelos de aprendizaje automatico, ademas investigar mejores estrategias para implementar los codigos de ML cuando se trata de un problema de clasificacion</p>"
      ],
      "metadata": {
        "id": "lY71a79diTTi"
      },
      "id": "lY71a79diTTi"
    },
    {
      "cell_type": "markdown",
      "source": [
        "<h1>Bibliografia</h1>\n",
        "<ul>\n",
        "\n",
        "\n",
        "  <li>https://keras.io/guides/sequential_model/</li>\n",
        "  <li>  https://stackoverflow.com/questions/72866841/how-to-calculate-loss-with-kerasclassifier</li>\n",
        "  <li> https://www.tensorflow.org/guide/keras?hl=es-419 </li>\n",
        "  <li>  https://www.youtube.com/watch?v=iX_on3VxZzk&t=846s</li>\n",
        "  <li>  https://www.youtube.com/watch?v=dkhXGTersP0</li>\n",
        "  <li>  https://www.youtube.com/watch?v=cDMoaMnbQUc</li>\n",
        "  <li> https://www.youtube.com/watch?v=2J90FG6QKL4&t=616s </li>\n",
        "  <li> https://www.youtube.com/watch?v=yOCJQLf_YFI </li>\n",
        "  <li> https://www.youtube.com/watch?v=z5rmY-LV7ME&t=1908s </li>\n",
        "  <li>  https://www.youtube.com/watch?v=k3CWA2GBb8o&t=139s</li>\n",
        "  <li>  https://www.youtube.com/watch?v=7My_PBhxeP4&t=1321s</li>\n",
        "  <li>  https://www.youtube.com/watch?v=s_Juv3vX9bo&t=663s</li>\n",
        "  <li>  https://www.youtube.com/watch?v=vdYzm4xC7mc</li>\n",
        "  <li>  https://www.youtube.com/watch?v=-VuR14Qyl7E</li>\n",
        "  <li> https://www.youtube.com/watch?v=x-7BHjMA15M </li>\n",
        "  <li> https://www.youtube.com/watch?v=uaGMk43XTOw</li>\n",
        "  <li>https://www.youtube.com/watch?v=cJoGNNHGlaw</li>\n",
        "</ul>"
      ],
      "metadata": {
        "id": "g9qMfk7A6UfB"
      },
      "id": "g9qMfk7A6UfB"
    },
    {
      "cell_type": "markdown",
      "source": [
        "<p>Trabajo de implementacion realizado por:<br>\n",
        "<strong>Santiago de jesus foronda valverde</strong><br>\n",
        "</p>"
      ],
      "metadata": {
        "id": "QgeH_K0N14ua"
      },
      "id": "QgeH_K0N14ua"
    }
  ],
  "metadata": {
    "colab": {
      "provenance": []
    },
    "kernelspec": {
      "display_name": "Python 3 (ipykernel)",
      "language": "python",
      "name": "python3"
    },
    "language_info": {
      "codemirror_mode": {
        "name": "ipython",
        "version": 3
      },
      "file_extension": ".py",
      "mimetype": "text/x-python",
      "name": "python",
      "nbconvert_exporter": "python",
      "pygments_lexer": "ipython3",
      "version": "3.11.5"
    }
  },
  "nbformat": 4,
  "nbformat_minor": 5
}